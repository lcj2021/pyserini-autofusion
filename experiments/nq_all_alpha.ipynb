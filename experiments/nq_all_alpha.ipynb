{
 "cells": [
  {
   "cell_type": "code",
   "execution_count": 1,
   "metadata": {},
   "outputs": [
    {
     "name": "stderr",
     "output_type": "stream",
     "text": [
      "  0%|          | 0/21 [00:00<?, ?it/s]"
     ]
    },
    {
     "name": "stdout",
     "output_type": "stream",
     "text": [
      "checking path: /dk/rag-dataset/indexes/lucene-index.wikipedia-dpr-100w.20210120.d1b9e6...\n"
     ]
    },
    {
     "name": "stderr",
     "output_type": "stream",
     "text": [
      "Apr 26, 2024 10:48:34 AM org.apache.lucene.store.MemorySegmentIndexInputProvider <init>\n",
      "INFO: Using MemorySegmentIndexInput with Java 21; to disable start with -Dorg.apache.lucene.store.MMapDirectory.enableMemorySegments=false\n",
      "100%|██████████| 102400/102400 [02:07<00:00, 800.67it/s]\n",
      "100%|██████████| 1024/1024 [00:00<00:00, 27875.46it/s]\n",
      "  5%|▍         | 1/21 [02:51<57:07, 171.38s/it]"
     ]
    },
    {
     "name": "stdout",
     "output_type": "stream",
     "text": [
      "checking path: /dk/rag-dataset/indexes/lucene-index.wikipedia-dpr-100w.20210120.d1b9e6...\n"
     ]
    },
    {
     "name": "stderr",
     "output_type": "stream",
     "text": [
      "Apr 26, 2024 10:51:24 AM org.apache.lucene.store.MemorySegmentIndexInputProvider <init>\n",
      "INFO: Using MemorySegmentIndexInput with Java 21; to disable start with -Dorg.apache.lucene.store.MMapDirectory.enableMemorySegments=false\n",
      "100%|██████████| 102400/102400 [01:15<00:00, 1359.52it/s]\n",
      "100%|██████████| 1024/1024 [00:00<00:00, 27916.77it/s]\n",
      " 10%|▉         | 2/21 [04:49<44:17, 139.89s/it]"
     ]
    },
    {
     "name": "stdout",
     "output_type": "stream",
     "text": [
      "checking path: /dk/rag-dataset/indexes/lucene-index.wikipedia-dpr-100w.20210120.d1b9e6...\n"
     ]
    },
    {
     "name": "stderr",
     "output_type": "stream",
     "text": [
      "Apr 26, 2024 10:53:22 AM org.apache.lucene.store.MemorySegmentIndexInputProvider <init>\n",
      "INFO: Using MemorySegmentIndexInput with Java 21; to disable start with -Dorg.apache.lucene.store.MMapDirectory.enableMemorySegments=false\n",
      "100%|██████████| 102400/102400 [01:14<00:00, 1368.92it/s]\n",
      "100%|██████████| 1024/1024 [00:00<00:00, 27831.39it/s]\n",
      " 14%|█▍        | 3/21 [06:46<38:49, 129.44s/it]"
     ]
    },
    {
     "name": "stdout",
     "output_type": "stream",
     "text": [
      "checking path: /dk/rag-dataset/indexes/lucene-index.wikipedia-dpr-100w.20210120.d1b9e6...\n"
     ]
    },
    {
     "name": "stderr",
     "output_type": "stream",
     "text": [
      "Apr 26, 2024 10:55:20 AM org.apache.lucene.store.MemorySegmentIndexInputProvider <init>\n",
      "INFO: Using MemorySegmentIndexInput with Java 21; to disable start with -Dorg.apache.lucene.store.MMapDirectory.enableMemorySegments=false\n",
      "100%|██████████| 102400/102400 [01:15<00:00, 1360.65it/s]\n",
      "100%|██████████| 1024/1024 [00:00<00:00, 28348.50it/s]\n",
      " 19%|█▉        | 4/21 [08:45<35:31, 125.37s/it]"
     ]
    },
    {
     "name": "stdout",
     "output_type": "stream",
     "text": [
      "checking path: /dk/rag-dataset/indexes/lucene-index.wikipedia-dpr-100w.20210120.d1b9e6...\n"
     ]
    },
    {
     "name": "stderr",
     "output_type": "stream",
     "text": [
      "Apr 26, 2024 10:57:18 AM org.apache.lucene.store.MemorySegmentIndexInputProvider <init>\n",
      "INFO: Using MemorySegmentIndexInput with Java 21; to disable start with -Dorg.apache.lucene.store.MMapDirectory.enableMemorySegments=false\n",
      "100%|██████████| 102400/102400 [01:18<00:00, 1296.84it/s]\n",
      "100%|██████████| 1024/1024 [00:00<00:00, 22936.10it/s]\n",
      " 24%|██▍       | 5/21 [10:46<33:03, 123.97s/it]"
     ]
    },
    {
     "name": "stdout",
     "output_type": "stream",
     "text": [
      "checking path: /dk/rag-dataset/indexes/lucene-index.wikipedia-dpr-100w.20210120.d1b9e6...\n"
     ]
    },
    {
     "name": "stderr",
     "output_type": "stream",
     "text": [
      "Apr 26, 2024 10:59:20 AM org.apache.lucene.store.MemorySegmentIndexInputProvider <init>\n",
      "INFO: Using MemorySegmentIndexInput with Java 21; to disable start with -Dorg.apache.lucene.store.MMapDirectory.enableMemorySegments=false\n",
      "100%|██████████| 102400/102400 [01:17<00:00, 1324.24it/s]\n",
      "100%|██████████| 1024/1024 [00:00<00:00, 28284.83it/s]\n",
      " 29%|██▊       | 6/21 [12:46<30:37, 122.52s/it]"
     ]
    },
    {
     "name": "stdout",
     "output_type": "stream",
     "text": [
      "checking path: /dk/rag-dataset/indexes/lucene-index.wikipedia-dpr-100w.20210120.d1b9e6...\n"
     ]
    },
    {
     "name": "stderr",
     "output_type": "stream",
     "text": [
      "Apr 26, 2024 11:01:19 AM org.apache.lucene.store.MemorySegmentIndexInputProvider <init>\n",
      "INFO: Using MemorySegmentIndexInput with Java 21; to disable start with -Dorg.apache.lucene.store.MMapDirectory.enableMemorySegments=false\n",
      "100%|██████████| 102400/102400 [01:18<00:00, 1311.37it/s]\n",
      "100%|██████████| 1024/1024 [00:00<00:00, 28251.72it/s]\n",
      " 33%|███▎      | 7/21 [14:47<28:25, 121.86s/it]"
     ]
    },
    {
     "name": "stdout",
     "output_type": "stream",
     "text": [
      "checking path: /dk/rag-dataset/indexes/lucene-index.wikipedia-dpr-100w.20210120.d1b9e6...\n"
     ]
    },
    {
     "name": "stderr",
     "output_type": "stream",
     "text": [
      "Apr 26, 2024 11:03:20 AM org.apache.lucene.store.MemorySegmentIndexInputProvider <init>\n",
      "INFO: Using MemorySegmentIndexInput with Java 21; to disable start with -Dorg.apache.lucene.store.MMapDirectory.enableMemorySegments=false\n",
      "100%|██████████| 102400/102400 [01:14<00:00, 1375.66it/s]\n",
      "100%|██████████| 1024/1024 [00:00<00:00, 28401.17it/s]\n",
      " 38%|███▊      | 8/21 [16:44<26:06, 120.46s/it]"
     ]
    },
    {
     "name": "stdout",
     "output_type": "stream",
     "text": [
      "checking path: /dk/rag-dataset/indexes/lucene-index.wikipedia-dpr-100w.20210120.d1b9e6...\n"
     ]
    },
    {
     "name": "stderr",
     "output_type": "stream",
     "text": [
      "Apr 26, 2024 11:05:18 AM org.apache.lucene.store.MemorySegmentIndexInputProvider <init>\n",
      "INFO: Using MemorySegmentIndexInput with Java 21; to disable start with -Dorg.apache.lucene.store.MMapDirectory.enableMemorySegments=false\n",
      "100%|██████████| 102400/102400 [01:14<00:00, 1377.88it/s]\n",
      "100%|██████████| 1024/1024 [00:00<00:00, 28336.90it/s]\n",
      " 43%|████▎     | 9/21 [18:41<23:53, 119.46s/it]"
     ]
    },
    {
     "name": "stdout",
     "output_type": "stream",
     "text": [
      "checking path: /dk/rag-dataset/indexes/lucene-index.wikipedia-dpr-100w.20210120.d1b9e6...\n"
     ]
    },
    {
     "name": "stderr",
     "output_type": "stream",
     "text": [
      "Apr 26, 2024 11:07:14 AM org.apache.lucene.store.MemorySegmentIndexInputProvider <init>\n",
      "INFO: Using MemorySegmentIndexInput with Java 21; to disable start with -Dorg.apache.lucene.store.MMapDirectory.enableMemorySegments=false\n",
      "100%|██████████| 102400/102400 [01:13<00:00, 1395.11it/s]\n",
      "100%|██████████| 1024/1024 [00:00<00:00, 27984.80it/s]\n",
      " 48%|████▊     | 10/21 [20:37<21:40, 118.20s/it]"
     ]
    },
    {
     "name": "stdout",
     "output_type": "stream",
     "text": [
      "checking path: /dk/rag-dataset/indexes/lucene-index.wikipedia-dpr-100w.20210120.d1b9e6...\n"
     ]
    },
    {
     "name": "stderr",
     "output_type": "stream",
     "text": [
      "Apr 26, 2024 11:09:10 AM org.apache.lucene.store.MemorySegmentIndexInputProvider <init>\n",
      "INFO: Using MemorySegmentIndexInput with Java 21; to disable start with -Dorg.apache.lucene.store.MMapDirectory.enableMemorySegments=false\n",
      "100%|██████████| 102400/102400 [01:13<00:00, 1401.04it/s]\n",
      "100%|██████████| 1024/1024 [00:00<00:00, 28167.04it/s]\n",
      " 52%|█████▏    | 11/21 [22:32<19:33, 117.37s/it]"
     ]
    },
    {
     "name": "stdout",
     "output_type": "stream",
     "text": [
      "checking path: /dk/rag-dataset/indexes/lucene-index.wikipedia-dpr-100w.20210120.d1b9e6...\n"
     ]
    },
    {
     "name": "stderr",
     "output_type": "stream",
     "text": [
      "Apr 26, 2024 11:11:00 AM org.apache.lucene.store.MemorySegmentIndexInputProvider <init>\n",
      "INFO: Using MemorySegmentIndexInput with Java 21; to disable start with -Dorg.apache.lucene.store.MMapDirectory.enableMemorySegments=false\n",
      "100%|██████████| 102400/102400 [01:12<00:00, 1419.71it/s]\n",
      "100%|██████████| 1024/1024 [00:00<00:00, 28195.89it/s]\n",
      " 57%|█████▋    | 12/21 [24:21<17:12, 114.71s/it]"
     ]
    },
    {
     "name": "stdout",
     "output_type": "stream",
     "text": [
      "checking path: /dk/rag-dataset/indexes/lucene-index.wikipedia-dpr-100w.20210120.d1b9e6...\n"
     ]
    },
    {
     "name": "stderr",
     "output_type": "stream",
     "text": [
      "Apr 26, 2024 11:12:53 AM org.apache.lucene.store.MemorySegmentIndexInputProvider <init>\n",
      "INFO: Using MemorySegmentIndexInput with Java 21; to disable start with -Dorg.apache.lucene.store.MMapDirectory.enableMemorySegments=false\n",
      "100%|██████████| 102400/102400 [01:13<00:00, 1391.44it/s]\n",
      "100%|██████████| 1024/1024 [00:00<00:00, 28016.02it/s]\n",
      " 62%|██████▏   | 13/21 [26:16<15:18, 114.84s/it]"
     ]
    },
    {
     "name": "stdout",
     "output_type": "stream",
     "text": [
      "checking path: /dk/rag-dataset/indexes/lucene-index.wikipedia-dpr-100w.20210120.d1b9e6...\n"
     ]
    },
    {
     "name": "stderr",
     "output_type": "stream",
     "text": [
      "Apr 26, 2024 11:14:49 AM org.apache.lucene.store.MemorySegmentIndexInputProvider <init>\n",
      "INFO: Using MemorySegmentIndexInput with Java 21; to disable start with -Dorg.apache.lucene.store.MMapDirectory.enableMemorySegments=false\n",
      "100%|██████████| 102400/102400 [01:10<00:00, 1450.92it/s]\n",
      "100%|██████████| 1024/1024 [00:00<00:00, 27458.62it/s]\n",
      " 67%|██████▋   | 14/21 [28:09<13:19, 114.16s/it]"
     ]
    },
    {
     "name": "stdout",
     "output_type": "stream",
     "text": [
      "checking path: /dk/rag-dataset/indexes/lucene-index.wikipedia-dpr-100w.20210120.d1b9e6...\n"
     ]
    },
    {
     "name": "stderr",
     "output_type": "stream",
     "text": [
      "Apr 26, 2024 11:16:42 AM org.apache.lucene.store.MemorySegmentIndexInputProvider <init>\n",
      "INFO: Using MemorySegmentIndexInput with Java 21; to disable start with -Dorg.apache.lucene.store.MMapDirectory.enableMemorySegments=false\n",
      "100%|██████████| 102400/102400 [01:10<00:00, 1459.03it/s]\n",
      "100%|██████████| 1024/1024 [00:00<00:00, 28261.57it/s]\n",
      " 71%|███████▏  | 15/21 [30:01<11:22, 113.75s/it]"
     ]
    },
    {
     "name": "stdout",
     "output_type": "stream",
     "text": [
      "checking path: /dk/rag-dataset/indexes/lucene-index.wikipedia-dpr-100w.20210120.d1b9e6...\n"
     ]
    },
    {
     "name": "stderr",
     "output_type": "stream",
     "text": [
      "Apr 26, 2024 11:18:35 AM org.apache.lucene.store.MemorySegmentIndexInputProvider <init>\n",
      "INFO: Using MemorySegmentIndexInput with Java 21; to disable start with -Dorg.apache.lucene.store.MMapDirectory.enableMemorySegments=false\n",
      "100%|██████████| 102400/102400 [01:12<00:00, 1412.69it/s]\n",
      "100%|██████████| 1024/1024 [00:00<00:00, 28150.61it/s]\n",
      " 76%|███████▌  | 16/21 [31:57<09:31, 114.30s/it]"
     ]
    },
    {
     "name": "stdout",
     "output_type": "stream",
     "text": [
      "Downloading topics from https://raw.githubusercontent.com/castorini/anserini-tools/master/topics-and-qrels/topics.dpr.nq.test.txt\n",
      "checking path: /dk/rag-dataset/indexes/lucene-index.wikipedia-dpr-100w.20210120.d1b9e6...\n"
     ]
    },
    {
     "name": "stderr",
     "output_type": "stream",
     "text": [
      "Apr 26, 2024 11:28:04 AM org.apache.lucene.store.MemorySegmentIndexInputProvider <init>\n",
      "INFO: Using MemorySegmentIndexInput with Java 21; to disable start with -Dorg.apache.lucene.store.MMapDirectory.enableMemorySegments=false\n",
      "100%|██████████| 102400/102400 [01:10<00:00, 1446.90it/s]\n",
      "100%|██████████| 1024/1024 [00:00<00:00, 28418.46it/s]\n",
      " 81%|████████  | 17/21 [41:24<16:42, 250.52s/it]"
     ]
    },
    {
     "name": "stdout",
     "output_type": "stream",
     "text": [
      "checking path: /dk/rag-dataset/indexes/lucene-index.wikipedia-dpr-100w.20210120.d1b9e6...\n"
     ]
    },
    {
     "name": "stderr",
     "output_type": "stream",
     "text": [
      "Apr 26, 2024 11:29:58 AM org.apache.lucene.store.MemorySegmentIndexInputProvider <init>\n",
      "INFO: Using MemorySegmentIndexInput with Java 21; to disable start with -Dorg.apache.lucene.store.MMapDirectory.enableMemorySegments=false\n",
      "100%|██████████| 102400/102400 [01:18<00:00, 1300.24it/s]\n",
      "100%|██████████| 1024/1024 [00:00<00:00, 27675.90it/s]\n",
      " 86%|████████▌ | 18/21 [43:26<10:35, 211.75s/it]"
     ]
    },
    {
     "name": "stdout",
     "output_type": "stream",
     "text": [
      "checking path: /dk/rag-dataset/indexes/lucene-index.wikipedia-dpr-100w.20210120.d1b9e6...\n"
     ]
    },
    {
     "name": "stderr",
     "output_type": "stream",
     "text": [
      "Apr 26, 2024 11:31:59 AM org.apache.lucene.store.MemorySegmentIndexInputProvider <init>\n",
      "INFO: Using MemorySegmentIndexInput with Java 21; to disable start with -Dorg.apache.lucene.store.MMapDirectory.enableMemorySegments=false\n",
      "100%|██████████| 102400/102400 [01:49<00:00, 935.24it/s] \n",
      "100%|██████████| 1024/1024 [00:00<00:00, 28310.75it/s]\n",
      " 90%|█████████ | 19/21 [45:58<06:27, 193.80s/it]"
     ]
    },
    {
     "name": "stdout",
     "output_type": "stream",
     "text": [
      "checking path: /dk/rag-dataset/indexes/lucene-index.wikipedia-dpr-100w.20210120.d1b9e6...\n"
     ]
    },
    {
     "name": "stderr",
     "output_type": "stream",
     "text": [
      "Apr 26, 2024 11:34:31 AM org.apache.lucene.store.MemorySegmentIndexInputProvider <init>\n",
      "INFO: Using MemorySegmentIndexInput with Java 21; to disable start with -Dorg.apache.lucene.store.MMapDirectory.enableMemorySegments=false\n",
      "100%|██████████| 102400/102400 [01:18<00:00, 1308.54it/s]\n",
      "100%|██████████| 1024/1024 [00:00<00:00, 28322.14it/s]\n",
      " 95%|█████████▌| 20/21 [47:59<02:51, 171.96s/it]"
     ]
    },
    {
     "name": "stdout",
     "output_type": "stream",
     "text": [
      "checking path: /dk/rag-dataset/indexes/lucene-index.wikipedia-dpr-100w.20210120.d1b9e6...\n"
     ]
    },
    {
     "name": "stderr",
     "output_type": "stream",
     "text": [
      "Apr 26, 2024 11:36:34 AM org.apache.lucene.store.MemorySegmentIndexInputProvider <init>\n",
      "INFO: Using MemorySegmentIndexInput with Java 21; to disable start with -Dorg.apache.lucene.store.MMapDirectory.enableMemorySegments=false\n",
      "100%|██████████| 102400/102400 [01:43<00:00, 986.06it/s] \n",
      "100%|██████████| 1024/1024 [00:00<00:00, 28100.88it/s]\n",
      "100%|██████████| 21/21 [50:27<00:00, 144.18s/it]\n"
     ]
    }
   ],
   "source": [
    "import numpy as np\n",
    "from tqdm import tqdm\n",
    "\n",
    "import os\n",
    "os.environ['JAVA_HOME'] = '/dk/jdk/jdk-21.0.3'\n",
    "os.environ['PYSERINI_CACHE'] = '/dk/rag-dataset/'\n",
    "io_path = '/dk/lcj_rag/pyserini-autofusion/experiments/runs'\n",
    "\n",
    "depth=1000\n",
    "#  alpha*bf + (1-alpha)*bm25\n",
    "alpha = 0.5\n",
    "nq = 1024\n",
    "k=100\n",
    "\n",
    "bf_trec_path = f'{io_path}/run.dpr.nq-test.bm25.trec'\n",
    "bm25_trec_path = f'{io_path}/run.dpr.nq-test.multi.bf.trec'\n",
    "fusion_tag = 'fusion'\n",
    "\n",
    "for alpha in tqdm(np.arange(0, 1.05, 0.05)):\n",
    "  alpha = round(alpha, 2)\n",
    "  out_trec_path = f'{io_path}/run.dpr.nq-test.multi.bf.bm25.{fusion_tag}.alpha-{alpha}.nq-{nq}.k-{k}.trec'\n",
    "  out_json_path = f'{io_path}/run.dpr.nq-test.multi.bf.bm25.{fusion_tag}.alpha-{alpha}.nq-{nq}.k-{k}.json'\n",
    "  cmd0 = f'python -m pyserini.autofusion \\\n",
    "          --runs {bf_trec_path} {bm25_trec_path} \\\n",
    "          --runtag {fusion_tag} \\\n",
    "          --method interpolation  \\\n",
    "          --alpha {alpha} \\\n",
    "          --depth {depth}  \\\n",
    "          --nq {nq}  \\\n",
    "          --k {k} \\\n",
    "          --output {out_trec_path}'\n",
    "  # print(cmd0)\n",
    "  os.system(cmd0)\n",
    "\n",
    "  cmd1 = f'python -m pyserini.eval.convert_trec_run_to_dpr_retrieval_run \\\n",
    "    --index wikipedia-dpr-100w \\\n",
    "    --topics dpr-nq-test \\\n",
    "    --input {out_trec_path} \\\n",
    "    --output {out_json_path}'\n",
    "  os.system(cmd1)\n",
    "\n",
    "  cmd2 = f'python -m pyserini.eval.evaluate_dpr_retrieval \\\n",
    "    --retrieval {out_json_path} \\\n",
    "    --topk 100'\n",
    "  filename = f'{io_path}/run.dpr.nq-test.multi.bf.bm25.{fusion_tag}.alpha-{alpha}.nq-{nq}.k-{k}.res'\n",
    "  res = os.system(cmd2 + ' 1>' + filename)\n"
   ]
  },
  {
   "cell_type": "code",
   "execution_count": 3,
   "metadata": {},
   "outputs": [
    {
     "name": "stderr",
     "output_type": "stream",
     "text": [
      "100%|██████████| 21/21 [00:00<00:00, 112.80it/s]"
     ]
    },
    {
     "name": "stdout",
     "output_type": "stream",
     "text": [
      "0.0\n",
      "0.05\n",
      "0.1\n",
      "0.15\n",
      "0.2\n",
      "0.25\n",
      "0.3\n",
      "0.35\n",
      "0.4\n",
      "0.45\n",
      "0.5\n",
      "0.55\n",
      "0.6\n",
      "0.65\n",
      "0.7\n",
      "0.75\n",
      "0.8\n",
      "0.85\n",
      "0.9\n",
      "0.95\n",
      "1.0\n",
      "qid: 10\tTop100\thas_answer: 0\n",
      "\n",
      "qid: 1000\tTop100\thas_answer: 0\n",
      "\n",
      "qid: 106\tTop100\thas_answer: 0\n",
      "\n",
      "qid: 112\tTop100\thas_answer: 0\n",
      "\n",
      "qid: 119\tTop100\thas_answer: 0\n",
      "\n",
      "qid: 130\tTop100\thas_answer: 0\n",
      "\n",
      "qid: 149\tTop100\thas_answer: 0\n",
      "\n",
      "qid: 173\tTop100\thas_answer: 0\n",
      "\n",
      "qid: 212\tTop100\thas_answer: 0\n",
      "\n",
      "qid: 221\tTop100\thas_answer: 0\n",
      "\n",
      "qid: 224\tTop100\thas_answer: 0\n",
      "\n",
      "qid: 229\tTop100\thas_answer: 0\n",
      "\n",
      "qid: 233\tTop100\thas_answer: 0\n",
      "\n",
      "qid: 240\tTop100\thas_answer: 0\n",
      "\n",
      "qid: 242\tTop100\thas_answer: 0\n",
      "\n",
      "qid: 245\tTop100\thas_answer: 0\n",
      "\n",
      "qid: 253\tTop100\thas_answer: 0\n",
      "\n",
      "qid: 271\tTop100\thas_answer: 0\n",
      "\n",
      "qid: 291\tTop100\thas_answer: 0\n",
      "\n",
      "qid: 297\tTop100\thas_answer: 0\n",
      "\n",
      "qid: 304\tTop100\thas_answer: 0\n",
      "\n",
      "qid: 311\tTop100\thas_answer: 0\n",
      "\n",
      "qid: 312\tTop100\thas_answer: 0\n",
      "\n",
      "qid: 316\tTop100\thas_answer: 0\n",
      "\n",
      "qid: 326\tTop100\thas_answer: 0\n",
      "\n",
      "qid: 329\tTop100\thas_answer: 0\n",
      "\n",
      "qid: 342\tTop100\thas_answer: 0\n",
      "\n",
      "qid: 356\tTop100\thas_answer: 0\n",
      "\n",
      "qid: 372\tTop100\thas_answer: 0\n",
      "\n",
      "qid: 38\tTop100\thas_answer: 0\n",
      "\n",
      "qid: 384\tTop100\thas_answer: 0\n",
      "\n",
      "qid: 386\tTop100\thas_answer: 0\n",
      "\n",
      "qid: 388\tTop100\thas_answer: 0\n",
      "\n",
      "qid: 393\tTop100\thas_answer: 0\n",
      "\n",
      "qid: 400\tTop100\thas_answer: 0\n",
      "\n",
      "qid: 401\tTop100\thas_answer: 0\n",
      "\n",
      "qid: 402\tTop100\thas_answer: 0\n",
      "\n",
      "qid: 411\tTop100\thas_answer: 0\n",
      "\n",
      "qid: 421\tTop100\thas_answer: 0\n",
      "\n",
      "qid: 423\tTop100\thas_answer: 0\n",
      "\n",
      "qid: 425\tTop100\thas_answer: 0\n",
      "\n",
      "qid: 429\tTop100\thas_answer: 0\n",
      "\n",
      "qid: 438\tTop100\thas_answer: 0\n",
      "\n",
      "qid: 44\tTop100\thas_answer: 0\n",
      "\n",
      "qid: 441\tTop100\thas_answer: 0\n",
      "\n",
      "qid: 442\tTop100\thas_answer: 0\n",
      "\n",
      "qid: 454\tTop100\thas_answer: 0\n",
      "\n",
      "qid: 455\tTop100\thas_answer: 0\n",
      "\n",
      "qid: 456\tTop100\thas_answer: 0\n",
      "\n",
      "qid: 465\tTop100\thas_answer: 0\n",
      "\n",
      "qid: 469\tTop100\thas_answer: 0\n",
      "\n",
      "qid: 48\tTop100\thas_answer: 0\n",
      "\n",
      "qid: 517\tTop100\thas_answer: 0\n",
      "\n",
      "qid: 518\tTop100\thas_answer: 0\n",
      "\n",
      "qid: 528\tTop100\thas_answer: 0\n",
      "\n",
      "qid: 53\tTop100\thas_answer: 0\n",
      "\n",
      "qid: 567\tTop100\thas_answer: 0\n",
      "\n",
      "qid: 568\tTop100\thas_answer: 0\n",
      "\n",
      "qid: 579\tTop100\thas_answer: 0\n",
      "\n",
      "qid: 592\tTop100\thas_answer: 0\n",
      "\n",
      "qid: 598\tTop100\thas_answer: 0\n",
      "\n",
      "qid: 631\tTop100\thas_answer: 0\n",
      "\n",
      "qid: 634\tTop100\thas_answer: 0\n",
      "\n",
      "qid: 641\tTop100\thas_answer: 0\n",
      "\n",
      "qid: 649\tTop100\thas_answer: 0\n",
      "\n",
      "qid: 658\tTop100\thas_answer: 0\n",
      "\n",
      "qid: 669\tTop100\thas_answer: 0\n",
      "\n",
      "qid: 698\tTop100\thas_answer: 0\n",
      "\n",
      "qid: 7\tTop100\thas_answer: 0\n",
      "\n",
      "qid: 70\tTop100\thas_answer: 0\n",
      "\n",
      "qid: 711\tTop100\thas_answer: 0\n",
      "\n",
      "qid: 714\tTop100\thas_answer: 0\n",
      "\n",
      "qid: 717\tTop100\thas_answer: 0\n",
      "\n",
      "qid: 719\tTop100\thas_answer: 0\n",
      "\n",
      "qid: 726\tTop100\thas_answer: 0\n",
      "\n",
      "qid: 732\tTop100\thas_answer: 0\n",
      "\n",
      "qid: 738\tTop100\thas_answer: 0\n",
      "\n",
      "qid: 755\tTop100\thas_answer: 0\n",
      "\n",
      "qid: 758\tTop100\thas_answer: 0\n",
      "\n",
      "qid: 760\tTop100\thas_answer: 0\n",
      "\n",
      "qid: 771\tTop100\thas_answer: 0\n",
      "\n",
      "qid: 778\tTop100\thas_answer: 0\n",
      "\n",
      "qid: 781\tTop100\thas_answer: 0\n",
      "\n",
      "qid: 785\tTop100\thas_answer: 0\n",
      "\n",
      "qid: 793\tTop100\thas_answer: 0\n",
      "\n",
      "qid: 794\tTop100\thas_answer: 0\n",
      "\n",
      "qid: 796\tTop100\thas_answer: 0\n",
      "\n",
      "qid: 804\tTop100\thas_answer: 0\n",
      "\n",
      "qid: 812\tTop100\thas_answer: 0\n",
      "\n",
      "qid: 830\tTop100\thas_answer: 0\n",
      "\n",
      "qid: 838\tTop100\thas_answer: 0\n",
      "\n",
      "qid: 840\tTop100\thas_answer: 0\n",
      "\n",
      "qid: 87\tTop100\thas_answer: 0\n",
      "\n",
      "qid: 870\tTop100\thas_answer: 0\n",
      "\n",
      "qid: 872\tTop100\thas_answer: 0\n",
      "\n",
      "qid: 896\tTop100\thas_answer: 0\n",
      "\n",
      "qid: 9\tTop100\thas_answer: 0\n",
      "\n",
      "qid: 900\tTop100\thas_answer: 0\n",
      "\n",
      "qid: 917\tTop100\thas_answer: 0\n",
      "\n",
      "qid: 919\tTop100\thas_answer: 0\n",
      "\n",
      "qid: 921\tTop100\thas_answer: 0\n",
      "\n",
      "qid: 953\tTop100\thas_answer: 0\n",
      "\n",
      "qid: 965\tTop100\thas_answer: 0\n",
      "\n",
      "qid: 966\tTop100\thas_answer: 0\n",
      "\n",
      "qid: 971\tTop100\thas_answer: 0\n",
      "\n",
      "number of hard fails: 105\n",
      "acc upbound: 0.8974609375\n",
      "151 0.8525390625 [0.0]\n",
      "141 0.8623046875 [0.05]\n",
      "135 0.8681640625 [0.1]\n",
      "131 0.8720703125 [0.15]\n",
      "127 0.8759765625 [0.2]\n",
      "125 0.8779296875 [0.25, 0.4, 0.45, 0.5, 0.55, 0.6, 0.65, 0.7, 0.75]\n",
      "124 0.87890625 [0.3, 0.8]\n",
      "123 0.8798828125 [0.35]\n",
      "121 0.8818359375 [0.85]\n",
      "140 0.86328125 [0.9]\n",
      "149 0.8544921875 [0.95]\n",
      "220 0.78515625 [1.0]\n"
     ]
    },
    {
     "name": "stderr",
     "output_type": "stream",
     "text": [
      "\n"
     ]
    }
   ],
   "source": [
    "from collections import defaultdict\n",
    "\n",
    "set_list = []\n",
    "\n",
    "alpha_fail_list = defaultdict(list)\n",
    "num_fail_alpha = defaultdict(list)\n",
    "\n",
    "for alpha in tqdm(np.arange(0, 1.05, 0.05)):\n",
    "  alpha = round(alpha, 2)\n",
    "  # alpha = f'{alpha:.2f}'\n",
    "  print(alpha)\n",
    "  filename = f'{io_path}/run.dpr.nq-test.multi.bf.bm25.{fusion_tag}.alpha-{alpha}.nq-{nq}.k-{k}.res'\n",
    "  s = set()\n",
    "  with open(filename, 'r') as file:\n",
    "    line = file.readline()\n",
    "    while line:\n",
    "      s.add(line)\n",
    "      line = file.readline()\n",
    "  set_list.append(s)\n",
    "  alpha_fail_list[alpha].append(len(s))\n",
    "  num_fail_alpha[len(s)].append(alpha)\n",
    "\n",
    "for i in range(1, len(set_list)):\n",
    "  set_list[i] &= set_list[i - 1]\n",
    "\n",
    "for fail in sorted(set_list[-1]):\n",
    "  print(fail)\n",
    "print(f'number of hard fails: {len(set_list[-1])}')\n",
    "print(f'acc upbound: {(nq - len(set_list[-1])) / nq}')\n",
    "\n",
    "for (num_fail, alpha) in num_fail_alpha.items():\n",
    "  print(num_fail, (nq - num_fail) / nq, alpha)"
   ]
  }
 ],
 "metadata": {
  "kernelspec": {
   "display_name": "pyserini",
   "language": "python",
   "name": "python3"
  },
  "language_info": {
   "codemirror_mode": {
    "name": "ipython",
    "version": 3
   },
   "file_extension": ".py",
   "mimetype": "text/x-python",
   "name": "python",
   "nbconvert_exporter": "python",
   "pygments_lexer": "ipython3",
   "version": "3.10.14"
  }
 },
 "nbformat": 4,
 "nbformat_minor": 2
}
