{
 "cells": [
  {
   "cell_type": "code",
   "execution_count": 8,
   "metadata": {},
   "outputs": [
    {
     "name": "stdout",
     "output_type": "stream",
     "text": [
      "resultPath: /root/.cache/pyserini/topics-and-qrels/topics.dpr.curated.test.txt\n",
      "checking path: /dk/rag-dataset/indexes/lucene-index.wikipedia-dpr-100w.20210120.d1b9e6...\n"
     ]
    },
    {
     "name": "stderr",
     "output_type": "stream",
     "text": [
      "Jul 01, 2024 2:40:21 PM org.apache.lucene.store.MemorySegmentIndexInputProvider <init>\n",
      "INFO: Using MemorySegmentIndexInput with Java 21; to disable start with -Dorg.apache.lucene.store.MMapDirectory.enableMemorySegments=false\n",
      "100%|██████████| 1000/1000 [02:22<00:00,  7.02it/s]\n"
     ]
    },
    {
     "data": {
      "text/plain": [
       "0"
      ]
     },
     "execution_count": 8,
     "metadata": {},
     "output_type": "execute_result"
    }
   ],
   "source": [
    "import os\n",
    "cmd1 = 'python -m pyserini.eval.convert_trec_run_to_dpr_retrieval_run_get_cache \\\n",
    "  --index wikipedia-dpr-100w \\\n",
    "  --topics dpr-curated-test \\\n",
    "  --regex \\\n",
    "  --input /dk/lcj_rag/pyserini-autofusion/experiments/runs/base_trec/run.dpr.curated-test.bm25.trec \\\n",
    "  --output /dk/lcj_rag/pyserini-autofusion/experiments/cache/curated_test_bm25_qid_gt_set.pkl'\n",
    "os.system(cmd1)"
   ]
  }
 ],
 "metadata": {
  "kernelspec": {
   "display_name": "pyserini",
   "language": "python",
   "name": "python3"
  },
  "language_info": {
   "codemirror_mode": {
    "name": "ipython",
    "version": 3
   },
   "file_extension": ".py",
   "mimetype": "text/x-python",
   "name": "python",
   "nbconvert_exporter": "python",
   "pygments_lexer": "ipython3",
   "version": "3.10.14"
  }
 },
 "nbformat": 4,
 "nbformat_minor": 2
}
