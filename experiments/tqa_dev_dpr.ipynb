{
 "cells": [
  {
   "cell_type": "code",
   "execution_count": 3,
   "metadata": {},
   "outputs": [],
   "source": [
    "import os"
   ]
  },
  {
   "cell_type": "code",
   "execution_count": 4,
   "metadata": {},
   "outputs": [],
   "source": [
    "cmd0 = 'python -m pyserini.search.faiss \\\n",
    "  --index wikipedia-dpr-100w.dpr-multi \\\n",
    "  --topics dpr-trivia-dev \\\n",
    "  --encoded-queries dpr_multi-trivia-dev \\\n",
    "  --output runs/run.dpr.trivia-dev.multi.bf.trec \\\n",
    "  --batch-size 96 --threads 32'\n",
    "os.system(cmd0 + '> /dk/lcj_rag/output')"
   ]
  },
  {
   "cell_type": "code",
   "execution_count": null,
   "metadata": {},
   "outputs": [],
   "source": [
    "# cmd1 = 'python -m pyserini.eval.convert_trec_run_to_dpr_retrieval_run \\\n",
    "#   --index wikipedia-dpr-100w \\\n",
    "#   --topics dpr-trivia-dev \\\n",
    "#   --input runs/run.dpr.trivia-dev.multi.bf.trec \\\n",
    "#   --output runs/run.dpr.trivia-dev.multi.bf.json'\n",
    "# os.system(cmd1)"
   ]
  },
  {
   "cell_type": "code",
   "execution_count": null,
   "metadata": {},
   "outputs": [],
   "source": [
    "# cmd2 = 'python -m pyserini.eval.evaluate_dpr_retrieval \\\n",
    "#   --retrieval runs/run.dpr.trivia-dev.multi.bf.json \\\n",
    "#   --topk 20 100'\n",
    "# os.system(cmd2)"
   ]
  }
 ],
 "metadata": {
  "kernelspec": {
   "display_name": "rag",
   "language": "python",
   "name": "python3"
  },
  "language_info": {
   "codemirror_mode": {
    "name": "ipython",
    "version": 3
   },
   "file_extension": ".py",
   "mimetype": "text/x-python",
   "name": "python",
   "nbconvert_exporter": "python",
   "pygments_lexer": "ipython3",
   "version": "3.10.14"
  }
 },
 "nbformat": 4,
 "nbformat_minor": 2
}
