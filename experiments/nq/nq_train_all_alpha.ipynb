{
 "cells": [
  {
   "cell_type": "code",
   "execution_count": 2,
   "metadata": {},
   "outputs": [],
   "source": [
    "import numpy as np\n",
    "from tqdm import tqdm\n",
    "import os\n",
    "\n",
    "io_path = '/dk/lcj_rag/pyserini-autofusion/experiments/runs'\n",
    "\n",
    "depth=1000\n",
    "#  alpha*bf + (1-alpha)*bm25\n",
    "alpha = 0.5\n",
    "nq = -1\n",
    "k=100\n",
    "\n",
    "bf_trec_path = f'{io_path}/base_trec/run.dpr.nq-train.bm25.trec'\n",
    "bm25_trec_path = f'{io_path}/base_trec/run.dpr.nq-train.multi.bf.trec'\n",
    "cache_path = '/dk/lcj_rag/pyserini-autofusion/experiments/cache/'\n",
    "fusion_tag = 'fusion'\n"
   ]
  },
  {
   "cell_type": "code",
   "execution_count": 3,
   "metadata": {},
   "outputs": [
    {
     "name": "stderr",
     "output_type": "stream",
     "text": [
      "  0%|          | 0/2 [00:00<?, ?it/s]"
     ]
    },
    {
     "name": "stdout",
     "output_type": "stream",
     "text": [
      "0.8\n",
      "num_queries: 79168000\n"
     ]
    },
    {
     "name": "stderr",
     "output_type": "stream",
     "text": [
      " 50%|█████     | 1/2 [1:02:58<1:02:58, 3778.57s/it]"
     ]
    },
    {
     "name": "stdout",
     "output_type": "stream",
     "text": [
      "0.85\n",
      "num_queries: 79168000\n"
     ]
    },
    {
     "name": "stderr",
     "output_type": "stream",
     "text": [
      "100%|██████████| 2/2 [2:07:50<00:00, 3835.28s/it]  \n"
     ]
    }
   ],
   "source": [
    "\n",
    "# for alpha in tqdm(np.arange(0, 1.05, 0.05)):\n",
    "# for alpha in tqdm(np.arange(0, 0.05, 0.05)):\n",
    "# for alpha in tqdm(np.arange(0.05, 0.10, 0.05)):\n",
    "# for alpha in tqdm(np.arange(0.10, 0.15, 0.05)):\n",
    "# for alpha in tqdm(np.arange(0.15, 0.20, 0.05)):\n",
    "# for alpha in tqdm([0.20, 0.25, 0.30, 0.35, 0.40, 0.45, 0.50, 0.55, 0.60, 0.65]):\n",
    "# for alpha in tqdm([0.70, 0.75]):\n",
    "# for alpha in tqdm([0.80, 0.85]):\n",
    "for alpha in tqdm([0.90, 0.95, 1.00]):\n",
    "    alpha = round(alpha, 2)\n",
    "#     alpha = f'{alpha:.2f}'\n",
    "    print(alpha)\n",
    "    out_trec_path = f'{io_path}/nq_train/run.dpr.nq-train.{fusion_tag}.alpha-{alpha}.k-{k}.trec'\n",
    "    out_json_path = f'{io_path}/nq_train/run.dpr.nq-train.{fusion_tag}.alpha-{alpha}.k-{k}.json'\n",
    "    cmd0 = f'python -m pyserini.autofusion \\\n",
    "            --runs {bf_trec_path} {bm25_trec_path} \\\n",
    "            --runtag {fusion_tag} \\\n",
    "            --method interpolation  \\\n",
    "            --alpha {alpha} \\\n",
    "            --depth {depth}  \\\n",
    "            --nq {nq}  \\\n",
    "            --k {k} \\\n",
    "            --output {out_trec_path}'\n",
    "    # print(cmd0)\n",
    "    os.system(cmd0)\n",
    "\n",
    "\n"
   ]
  },
  {
   "cell_type": "code",
   "execution_count": 3,
   "metadata": {},
   "outputs": [
    {
     "name": "stderr",
     "output_type": "stream",
     "text": [
      "  0%|          | 0/21 [00:00<?, ?it/s]"
     ]
    },
    {
     "name": "stdout",
     "output_type": "stream",
     "text": [
      "resultPath: /root/.cache/pyserini/topics-and-qrels/topics.dpr.nq.train.txt\n",
      "checking path: /dk/rag-dataset/indexes/lucene-index.wikipedia-dpr-100w.20210120.d1b9e6...\n"
     ]
    },
    {
     "name": "stderr",
     "output_type": "stream",
     "text": [
      "May 10, 2024 1:36:33 AM org.apache.lucene.store.MemorySegmentIndexInputProvider <init>\n",
      "INFO: Using MemorySegmentIndexInput with Java 21; to disable start with -Dorg.apache.lucene.store.MMapDirectory.enableMemorySegments=false\n",
      "100%|██████████| 7916800/7916800 [28:40<00:00, 4600.44it/s]  \n",
      "  5%|▍         | 1/21 [31:04<10:21:26, 1864.33s/it]"
     ]
    },
    {
     "name": "stdout",
     "output_type": "stream",
     "text": [
      "resultPath: /root/.cache/pyserini/topics-and-qrels/topics.dpr.nq.train.txt\n",
      "checking path: /dk/rag-dataset/indexes/lucene-index.wikipedia-dpr-100w.20210120.d1b9e6...\n"
     ]
    },
    {
     "name": "stderr",
     "output_type": "stream",
     "text": [
      "May 10, 2024 2:07:36 AM org.apache.lucene.store.MemorySegmentIndexInputProvider <init>\n",
      "INFO: Using MemorySegmentIndexInput with Java 21; to disable start with -Dorg.apache.lucene.store.MMapDirectory.enableMemorySegments=false\n",
      "100%|██████████| 7916800/7916800 [16:52<00:00, 7819.64it/s]  \n",
      " 10%|▉         | 2/21 [50:19<7:38:15, 1447.12s/it] "
     ]
    },
    {
     "name": "stdout",
     "output_type": "stream",
     "text": [
      "resultPath: /root/.cache/pyserini/topics-and-qrels/topics.dpr.nq.train.txt\n",
      "checking path: /dk/rag-dataset/indexes/lucene-index.wikipedia-dpr-100w.20210120.d1b9e6...\n"
     ]
    },
    {
     "name": "stderr",
     "output_type": "stream",
     "text": [
      "May 10, 2024 2:26:51 AM org.apache.lucene.store.MemorySegmentIndexInputProvider <init>\n",
      "INFO: Using MemorySegmentIndexInput with Java 21; to disable start with -Dorg.apache.lucene.store.MMapDirectory.enableMemorySegments=false\n",
      "100%|██████████| 7916800/7916800 [16:52<00:00, 7818.91it/s]  \n",
      " 14%|█▍        | 3/21 [1:09:33<6:33:57, 1313.20s/it]"
     ]
    },
    {
     "name": "stdout",
     "output_type": "stream",
     "text": [
      "resultPath: /root/.cache/pyserini/topics-and-qrels/topics.dpr.nq.train.txt\n",
      "checking path: /dk/rag-dataset/indexes/lucene-index.wikipedia-dpr-100w.20210120.d1b9e6...\n"
     ]
    },
    {
     "name": "stderr",
     "output_type": "stream",
     "text": [
      "May 10, 2024 2:46:05 AM org.apache.lucene.store.MemorySegmentIndexInputProvider <init>\n",
      "INFO: Using MemorySegmentIndexInput with Java 21; to disable start with -Dorg.apache.lucene.store.MMapDirectory.enableMemorySegments=false\n",
      "100%|██████████| 7916800/7916800 [16:44<00:00, 7882.59it/s]  \n",
      " 19%|█▉        | 4/21 [1:28:38<5:53:15, 1246.82s/it]"
     ]
    },
    {
     "name": "stdout",
     "output_type": "stream",
     "text": [
      "resultPath: /root/.cache/pyserini/topics-and-qrels/topics.dpr.nq.train.txt\n",
      "checking path: /dk/rag-dataset/indexes/lucene-index.wikipedia-dpr-100w.20210120.d1b9e6...\n"
     ]
    },
    {
     "name": "stderr",
     "output_type": "stream",
     "text": [
      "May 10, 2024 3:05:10 AM org.apache.lucene.store.MemorySegmentIndexInputProvider <init>\n",
      "INFO: Using MemorySegmentIndexInput with Java 21; to disable start with -Dorg.apache.lucene.store.MMapDirectory.enableMemorySegments=false\n",
      "100%|██████████| 7916800/7916800 [16:47<00:00, 7855.02it/s]  \n",
      " 24%|██▍       | 5/21 [1:47:46<5:23:02, 1211.42s/it]"
     ]
    },
    {
     "name": "stdout",
     "output_type": "stream",
     "text": [
      "resultPath: /root/.cache/pyserini/topics-and-qrels/topics.dpr.nq.train.txt\n",
      "checking path: /dk/rag-dataset/indexes/lucene-index.wikipedia-dpr-100w.20210120.d1b9e6...\n"
     ]
    },
    {
     "name": "stderr",
     "output_type": "stream",
     "text": [
      "May 10, 2024 3:24:18 AM org.apache.lucene.store.MemorySegmentIndexInputProvider <init>\n",
      "INFO: Using MemorySegmentIndexInput with Java 21; to disable start with -Dorg.apache.lucene.store.MMapDirectory.enableMemorySegments=false\n",
      "100%|██████████| 7916800/7916800 [17:25<00:00, 7573.28it/s]  \n",
      " 29%|██▊       | 6/21 [2:07:36<5:00:57, 1203.85s/it]"
     ]
    },
    {
     "name": "stdout",
     "output_type": "stream",
     "text": [
      "resultPath: /root/.cache/pyserini/topics-and-qrels/topics.dpr.nq.train.txt\n",
      "checking path: /dk/rag-dataset/indexes/lucene-index.wikipedia-dpr-100w.20210120.d1b9e6...\n"
     ]
    },
    {
     "name": "stderr",
     "output_type": "stream",
     "text": [
      "May 10, 2024 3:44:07 AM org.apache.lucene.store.MemorySegmentIndexInputProvider <init>\n",
      "INFO: Using MemorySegmentIndexInput with Java 21; to disable start with -Dorg.apache.lucene.store.MMapDirectory.enableMemorySegments=false\n",
      "100%|██████████| 7916800/7916800 [16:47<00:00, 7860.09it/s]  \n",
      " 33%|███▎      | 7/21 [2:26:44<4:36:39, 1185.67s/it]"
     ]
    },
    {
     "name": "stdout",
     "output_type": "stream",
     "text": [
      "resultPath: /root/.cache/pyserini/topics-and-qrels/topics.dpr.nq.train.txt\n",
      "checking path: /dk/rag-dataset/indexes/lucene-index.wikipedia-dpr-100w.20210120.d1b9e6...\n"
     ]
    },
    {
     "name": "stderr",
     "output_type": "stream",
     "text": [
      "May 10, 2024 4:03:16 AM org.apache.lucene.store.MemorySegmentIndexInputProvider <init>\n",
      "INFO: Using MemorySegmentIndexInput with Java 21; to disable start with -Dorg.apache.lucene.store.MMapDirectory.enableMemorySegments=false\n",
      "100%|██████████| 7916800/7916800 [16:52<00:00, 7819.87it/s]  \n",
      " 38%|███▊      | 8/21 [2:45:57<4:14:38, 1175.25s/it]"
     ]
    },
    {
     "name": "stdout",
     "output_type": "stream",
     "text": [
      "resultPath: /root/.cache/pyserini/topics-and-qrels/topics.dpr.nq.train.txt\n",
      "checking path: /dk/rag-dataset/indexes/lucene-index.wikipedia-dpr-100w.20210120.d1b9e6...\n"
     ]
    },
    {
     "name": "stderr",
     "output_type": "stream",
     "text": [
      "May 10, 2024 4:22:28 AM org.apache.lucene.store.MemorySegmentIndexInputProvider <init>\n",
      "INFO: Using MemorySegmentIndexInput with Java 21; to disable start with -Dorg.apache.lucene.store.MMapDirectory.enableMemorySegments=false\n",
      "100%|██████████| 7916800/7916800 [16:48<00:00, 7852.23it/s]  \n",
      " 43%|████▎     | 9/21 [3:05:06<3:53:26, 1167.23s/it]"
     ]
    },
    {
     "name": "stdout",
     "output_type": "stream",
     "text": [
      "resultPath: /root/.cache/pyserini/topics-and-qrels/topics.dpr.nq.train.txt\n",
      "checking path: /dk/rag-dataset/indexes/lucene-index.wikipedia-dpr-100w.20210120.d1b9e6...\n"
     ]
    },
    {
     "name": "stderr",
     "output_type": "stream",
     "text": [
      "May 10, 2024 4:41:38 AM org.apache.lucene.store.MemorySegmentIndexInputProvider <init>\n",
      "INFO: Using MemorySegmentIndexInput with Java 21; to disable start with -Dorg.apache.lucene.store.MMapDirectory.enableMemorySegments=false\n",
      "100%|██████████| 7916800/7916800 [16:54<00:00, 7802.83it/s]  \n",
      " 48%|████▊     | 10/21 [3:24:25<3:33:31, 1164.72s/it]"
     ]
    },
    {
     "name": "stdout",
     "output_type": "stream",
     "text": [
      "resultPath: /root/.cache/pyserini/topics-and-qrels/topics.dpr.nq.train.txt\n",
      "checking path: /dk/rag-dataset/indexes/lucene-index.wikipedia-dpr-100w.20210120.d1b9e6...\n"
     ]
    },
    {
     "name": "stderr",
     "output_type": "stream",
     "text": [
      "May 10, 2024 5:00:57 AM org.apache.lucene.store.MemorySegmentIndexInputProvider <init>\n",
      "INFO: Using MemorySegmentIndexInput with Java 21; to disable start with -Dorg.apache.lucene.store.MMapDirectory.enableMemorySegments=false\n",
      "100%|██████████| 7916800/7916800 [16:41<00:00, 7903.01it/s]  \n",
      " 52%|█████▏    | 11/21 [3:43:27<3:12:57, 1157.73s/it]"
     ]
    },
    {
     "name": "stdout",
     "output_type": "stream",
     "text": [
      "resultPath: /root/.cache/pyserini/topics-and-qrels/topics.dpr.nq.train.txt\n",
      "checking path: /dk/rag-dataset/indexes/lucene-index.wikipedia-dpr-100w.20210120.d1b9e6...\n"
     ]
    },
    {
     "name": "stderr",
     "output_type": "stream",
     "text": [
      "May 10, 2024 5:19:59 AM org.apache.lucene.store.MemorySegmentIndexInputProvider <init>\n",
      "INFO: Using MemorySegmentIndexInput with Java 21; to disable start with -Dorg.apache.lucene.store.MMapDirectory.enableMemorySegments=false\n",
      "100%|██████████| 7916800/7916800 [17:46<00:00, 7420.76it/s]  \n",
      " 57%|█████▋    | 12/21 [4:03:37<2:56:01, 1173.53s/it]"
     ]
    },
    {
     "name": "stdout",
     "output_type": "stream",
     "text": [
      "resultPath: /root/.cache/pyserini/topics-and-qrels/topics.dpr.nq.train.txt\n",
      "checking path: /dk/rag-dataset/indexes/lucene-index.wikipedia-dpr-100w.20210120.d1b9e6...\n"
     ]
    },
    {
     "name": "stderr",
     "output_type": "stream",
     "text": [
      "May 10, 2024 5:40:09 AM org.apache.lucene.store.MemorySegmentIndexInputProvider <init>\n",
      "INFO: Using MemorySegmentIndexInput with Java 21; to disable start with -Dorg.apache.lucene.store.MMapDirectory.enableMemorySegments=false\n",
      "100%|██████████| 7916800/7916800 [17:01<00:00, 7753.07it/s]  \n",
      " 62%|██████▏   | 13/21 [4:22:59<2:36:00, 1170.11s/it]"
     ]
    },
    {
     "name": "stdout",
     "output_type": "stream",
     "text": [
      "resultPath: /root/.cache/pyserini/topics-and-qrels/topics.dpr.nq.train.txt\n",
      "checking path: /dk/rag-dataset/indexes/lucene-index.wikipedia-dpr-100w.20210120.d1b9e6...\n"
     ]
    },
    {
     "name": "stderr",
     "output_type": "stream",
     "text": [
      "May 10, 2024 5:59:31 AM org.apache.lucene.store.MemorySegmentIndexInputProvider <init>\n",
      "INFO: Using MemorySegmentIndexInput with Java 21; to disable start with -Dorg.apache.lucene.store.MMapDirectory.enableMemorySegments=false\n",
      "100%|██████████| 7916800/7916800 [16:50<00:00, 7836.56it/s]  \n",
      " 67%|██████▋   | 14/21 [4:42:11<2:15:51, 1164.48s/it]"
     ]
    },
    {
     "name": "stdout",
     "output_type": "stream",
     "text": [
      "resultPath: /root/.cache/pyserini/topics-and-qrels/topics.dpr.nq.train.txt\n",
      "checking path: /dk/rag-dataset/indexes/lucene-index.wikipedia-dpr-100w.20210120.d1b9e6...\n"
     ]
    },
    {
     "name": "stderr",
     "output_type": "stream",
     "text": [
      "May 10, 2024 6:18:43 AM org.apache.lucene.store.MemorySegmentIndexInputProvider <init>\n",
      "INFO: Using MemorySegmentIndexInput with Java 21; to disable start with -Dorg.apache.lucene.store.MMapDirectory.enableMemorySegments=false\n",
      "100%|██████████| 7916800/7916800 [16:52<00:00, 7821.76it/s]  \n",
      " 71%|███████▏  | 15/21 [5:01:24<1:56:06, 1161.16s/it]"
     ]
    },
    {
     "name": "stdout",
     "output_type": "stream",
     "text": [
      "resultPath: /root/.cache/pyserini/topics-and-qrels/topics.dpr.nq.train.txt\n",
      "checking path: /dk/rag-dataset/indexes/lucene-index.wikipedia-dpr-100w.20210120.d1b9e6...\n"
     ]
    },
    {
     "name": "stderr",
     "output_type": "stream",
     "text": [
      "May 10, 2024 6:37:56 AM org.apache.lucene.store.MemorySegmentIndexInputProvider <init>\n",
      "INFO: Using MemorySegmentIndexInput with Java 21; to disable start with -Dorg.apache.lucene.store.MMapDirectory.enableMemorySegments=false\n",
      "100%|██████████| 7916800/7916800 [16:50<00:00, 7838.13it/s]  \n",
      " 76%|███████▌  | 16/21 [5:20:36<1:36:31, 1158.21s/it]"
     ]
    },
    {
     "name": "stdout",
     "output_type": "stream",
     "text": [
      "resultPath: /root/.cache/pyserini/topics-and-qrels/topics.dpr.nq.train.txt\n",
      "checking path: /dk/rag-dataset/indexes/lucene-index.wikipedia-dpr-100w.20210120.d1b9e6...\n"
     ]
    },
    {
     "name": "stderr",
     "output_type": "stream",
     "text": [
      "May 10, 2024 6:57:07 AM org.apache.lucene.store.MemorySegmentIndexInputProvider <init>\n",
      "INFO: Using MemorySegmentIndexInput with Java 21; to disable start with -Dorg.apache.lucene.store.MMapDirectory.enableMemorySegments=false\n",
      "100%|██████████| 7916800/7916800 [16:56<00:00, 7787.73it/s]  \n",
      " 81%|████████  | 17/21 [5:39:53<1:17:11, 1157.96s/it]"
     ]
    },
    {
     "name": "stdout",
     "output_type": "stream",
     "text": [
      "resultPath: /root/.cache/pyserini/topics-and-qrels/topics.dpr.nq.train.txt\n",
      "checking path: /dk/rag-dataset/indexes/lucene-index.wikipedia-dpr-100w.20210120.d1b9e6...\n"
     ]
    },
    {
     "name": "stderr",
     "output_type": "stream",
     "text": [
      "May 10, 2024 7:16:25 AM org.apache.lucene.store.MemorySegmentIndexInputProvider <init>\n",
      "INFO: Using MemorySegmentIndexInput with Java 21; to disable start with -Dorg.apache.lucene.store.MMapDirectory.enableMemorySegments=false\n",
      "100%|██████████| 7916800/7916800 [16:48<00:00, 7847.19it/s]  \n",
      " 86%|████████▌ | 18/21 [5:59:03<57:47, 1155.68s/it]  "
     ]
    },
    {
     "name": "stdout",
     "output_type": "stream",
     "text": [
      "resultPath: /root/.cache/pyserini/topics-and-qrels/topics.dpr.nq.train.txt\n",
      "checking path: /dk/rag-dataset/indexes/lucene-index.wikipedia-dpr-100w.20210120.d1b9e6...\n"
     ]
    },
    {
     "name": "stderr",
     "output_type": "stream",
     "text": [
      "May 10, 2024 7:35:35 AM org.apache.lucene.store.MemorySegmentIndexInputProvider <init>\n",
      "INFO: Using MemorySegmentIndexInput with Java 21; to disable start with -Dorg.apache.lucene.store.MMapDirectory.enableMemorySegments=false\n",
      "100%|██████████| 7916800/7916800 [16:48<00:00, 7848.34it/s]  \n",
      " 90%|█████████ | 19/21 [6:18:13<38:27, 1153.74s/it]"
     ]
    },
    {
     "name": "stdout",
     "output_type": "stream",
     "text": [
      "resultPath: /root/.cache/pyserini/topics-and-qrels/topics.dpr.nq.train.txt\n",
      "checking path: /dk/rag-dataset/indexes/lucene-index.wikipedia-dpr-100w.20210120.d1b9e6...\n"
     ]
    },
    {
     "name": "stderr",
     "output_type": "stream",
     "text": [
      "May 10, 2024 7:54:44 AM org.apache.lucene.store.MemorySegmentIndexInputProvider <init>\n",
      "INFO: Using MemorySegmentIndexInput with Java 21; to disable start with -Dorg.apache.lucene.store.MMapDirectory.enableMemorySegments=false\n",
      "100%|██████████| 7916800/7916800 [16:54<00:00, 7803.98it/s]  \n",
      " 95%|█████████▌| 20/21 [6:37:28<19:14, 1154.37s/it]"
     ]
    },
    {
     "name": "stdout",
     "output_type": "stream",
     "text": [
      "resultPath: /root/.cache/pyserini/topics-and-qrels/topics.dpr.nq.train.txt\n",
      "checking path: /dk/rag-dataset/indexes/lucene-index.wikipedia-dpr-100w.20210120.d1b9e6...\n"
     ]
    },
    {
     "name": "stderr",
     "output_type": "stream",
     "text": [
      "May 10, 2024 8:14:00 AM org.apache.lucene.store.MemorySegmentIndexInputProvider <init>\n",
      "INFO: Using MemorySegmentIndexInput with Java 21; to disable start with -Dorg.apache.lucene.store.MMapDirectory.enableMemorySegments=false\n",
      "100%|██████████| 7916800/7916800 [16:48<00:00, 7847.63it/s]  \n",
      "100%|██████████| 21/21 [6:56:39<00:00, 1190.43s/it]\n"
     ]
    }
   ],
   "source": [
    "for alpha in tqdm(np.arange(0, 1.05, 0.05)):\n",
    "    alpha = round(alpha, 2)    \n",
    "    out_trec_path = f'{io_path}/nq_train/run.dpr.nq-train.{fusion_tag}.alpha-{alpha}.k-{k}.trec'\n",
    "    out_json_path = f'{io_path}/nq_train/run.dpr.nq-train.{fusion_tag}.alpha-{alpha}.k-{k}.json'\n",
    "    cmd1 = f'python -m pyserini.eval.convert_trec_run_to_dpr_retrieval_run_on_cache \\\n",
    "        --index wikipedia-dpr-100w \\\n",
    "        --topics dpr-nq-train \\\n",
    "        --gt {cache_path}nq_train_bf_qid_gt_set.pkl {cache_path}nq_train_bm25_qid_gt_set.pkl \\\n",
    "        --input {out_trec_path} \\\n",
    "        --output {out_json_path}'\n",
    "    os.system(cmd1)\n",
    "    "
   ]
  },
  {
   "cell_type": "code",
   "execution_count": 3,
   "metadata": {},
   "outputs": [
    {
     "name": "stdout",
     "output_type": "stream",
     "text": [
      "/dk/lcj_rag/pyserini-autofusion/experiments/runs/nq_train/run.dpr.nq-train.fusion.alpha-0.0.k-100.json\n",
      "Evaluating 79168 queries\n"
     ]
    },
    {
     "name": "stderr",
     "output_type": "stream",
     "text": [
      "  0%|          | 0/21 [00:00<?, ?it/s]\n",
      "  0%|          | 0/79168 [00:00<?, ?it/s]\u001b[A\n",
      "  2%|▏         | 1564/79168 [00:00<00:04, 15633.38it/s]\u001b[A\n",
      "  4%|▍         | 3215/79168 [00:00<00:04, 16145.13it/s]\u001b[A\n",
      "  6%|▌         | 4863/79168 [00:00<00:04, 16297.16it/s]\u001b[A\n",
      "  8%|▊         | 6493/79168 [00:00<00:04, 16205.32it/s]\u001b[A\n",
      " 10%|█         | 8144/79168 [00:00<00:04, 16311.60it/s]\u001b[A\n",
      " 12%|█▏        | 9795/79168 [00:00<00:04, 16377.27it/s]\u001b[A\n",
      " 14%|█▍        | 11450/79168 [00:00<00:04, 16431.49it/s]\u001b[A\n",
      " 17%|█▋        | 13103/79168 [00:00<00:04, 16461.24it/s]\u001b[A\n",
      " 19%|█▊        | 14750/79168 [00:00<00:03, 16264.53it/s]\u001b[A\n",
      " 21%|██        | 16397/79168 [00:01<00:03, 16326.39it/s]\u001b[A\n",
      " 23%|██▎       | 18045/79168 [00:01<00:03, 16371.47it/s]\u001b[A\n",
      " 25%|██▍       | 19694/79168 [00:01<00:03, 16405.16it/s]\u001b[A\n",
      " 27%|██▋       | 21342/79168 [00:01<00:03, 16425.03it/s]\u001b[A\n",
      " 29%|██▉       | 22994/79168 [00:01<00:03, 16451.71it/s]\u001b[A\n",
      " 31%|███       | 24646/79168 [00:01<00:03, 16470.92it/s]\u001b[A\n",
      " 33%|███▎      | 26304/79168 [00:01<00:03, 16500.45it/s]\u001b[A\n",
      " 35%|███▌      | 27955/79168 [00:01<00:03, 16499.06it/s]\u001b[A\n",
      " 37%|███▋      | 29608/79168 [00:01<00:03, 16506.57it/s]\u001b[A\n",
      " 39%|███▉      | 31259/79168 [00:01<00:02, 16506.67it/s]\u001b[A\n",
      " 42%|████▏     | 32910/79168 [00:02<00:02, 16501.15it/s]\u001b[A\n",
      " 44%|████▎     | 34561/79168 [00:02<00:02, 16492.20it/s]\u001b[A\n",
      " 46%|████▌     | 36211/79168 [00:02<00:02, 16489.59it/s]\u001b[A\n",
      " 48%|████▊     | 37864/79168 [00:02<00:02, 16498.59it/s]\u001b[A\n",
      " 50%|████▉     | 39514/79168 [00:02<00:02, 16498.77it/s]\u001b[A\n",
      " 52%|█████▏    | 41169/79168 [00:02<00:02, 16513.68it/s]\u001b[A\n",
      " 54%|█████▍    | 42821/79168 [00:02<00:02, 16506.89it/s]\u001b[A\n",
      " 56%|█████▌    | 44472/79168 [00:02<00:02, 16312.82it/s]\u001b[A\n",
      " 58%|█████▊    | 46118/79168 [00:02<00:02, 16354.13it/s]\u001b[A\n",
      " 60%|██████    | 47772/79168 [00:02<00:01, 16408.00it/s]\u001b[A\n",
      " 62%|██████▏   | 49425/79168 [00:03<00:01, 16443.43it/s]\u001b[A\n",
      " 65%|██████▍   | 51071/79168 [00:03<00:01, 16447.48it/s]\u001b[A\n",
      " 67%|██████▋   | 52721/79168 [00:03<00:01, 16460.94it/s]\u001b[A\n",
      " 69%|██████▊   | 54370/79168 [00:03<00:01, 16467.88it/s]\u001b[A\n",
      " 71%|███████   | 56017/79168 [00:03<00:01, 16465.91it/s]\u001b[A\n",
      " 73%|███████▎  | 57665/79168 [00:03<00:01, 16468.02it/s]\u001b[A\n",
      " 75%|███████▍  | 59313/79168 [00:03<00:01, 16468.89it/s]\u001b[A\n",
      " 77%|███████▋  | 60961/79168 [00:03<00:01, 16469.44it/s]\u001b[A\n",
      " 79%|███████▉  | 62612/79168 [00:03<00:01, 16479.66it/s]\u001b[A\n",
      " 81%|████████  | 64261/79168 [00:03<00:00, 16479.95it/s]\u001b[A\n",
      " 83%|████████▎ | 65910/79168 [00:04<00:00, 16478.23it/s]\u001b[A\n",
      " 85%|████████▌ | 67561/79168 [00:04<00:00, 16486.63it/s]\u001b[A\n",
      " 87%|████████▋ | 69210/79168 [00:04<00:00, 16472.63it/s]\u001b[A\n",
      " 90%|████████▉ | 70858/79168 [00:04<00:00, 16462.94it/s]\u001b[A\n",
      " 92%|█████████▏| 72507/79168 [00:04<00:00, 16469.98it/s]\u001b[A\n",
      " 94%|█████████▎| 74156/79168 [00:04<00:00, 16474.86it/s]\u001b[A\n",
      " 96%|█████████▌| 75804/79168 [00:04<00:00, 16279.62it/s]\u001b[A\n",
      " 98%|█████████▊| 77452/79168 [00:04<00:00, 16338.81it/s]\u001b[A\n",
      "100%|██████████| 79168/79168 [00:04<00:00, 16424.68it/s]\u001b[A\n",
      "  5%|▍         | 1/21 [00:33<11:00, 33.00s/it]\n",
      "  0%|          | 0/79168 [00:00<?, ?it/s]\u001b[A\n",
      "  2%|▏         | 1641/79168 [00:00<00:04, 16406.50it/s]\u001b[A\n",
      "  4%|▍         | 3288/79168 [00:00<00:04, 16441.55it/s]\u001b[A\n",
      "  6%|▌         | 4933/79168 [00:00<00:04, 16442.96it/s]\u001b[A\n",
      "  8%|▊         | 6579/79168 [00:00<00:04, 16448.02it/s]\u001b[A\n",
      " 11%|█         | 8345/79168 [00:00<00:04, 16883.97it/s]\u001b[A\n",
      " 13%|█▎        | 10126/79168 [00:00<00:04, 17195.95it/s]\u001b[A\n",
      " 15%|█▌        | 11911/79168 [00:00<00:03, 17408.95it/s]\u001b[A\n",
      " 17%|█▋        | 13694/79168 [00:00<00:03, 17542.55it/s]\u001b[A\n",
      " 20%|█▉        | 15475/79168 [00:00<00:03, 17625.80it/s]\u001b[A\n",
      " 22%|██▏       | 17238/79168 [00:01<00:03, 17482.31it/s]\u001b[A\n",
      " 24%|██▍       | 19023/79168 [00:01<00:03, 17592.90it/s]\u001b[A\n",
      " 26%|██▋       | 20810/79168 [00:01<00:03, 17673.69it/s]\u001b[A\n",
      " 29%|██▊       | 22593/79168 [00:01<00:03, 17720.22it/s]\u001b[A\n",
      " 31%|███       | 24376/79168 [00:01<00:03, 17752.98it/s]\u001b[A\n",
      " 33%|███▎      | 26166/79168 [00:01<00:02, 17795.46it/s]\u001b[A\n",
      " 35%|███▌      | 27953/79168 [00:01<00:02, 17816.09it/s]\u001b[A\n",
      " 38%|███▊      | 29741/79168 [00:01<00:02, 17834.68it/s]\u001b[A\n",
      " 40%|███▉      | 31530/79168 [00:01<00:02, 17849.11it/s]\u001b[A\n",
      " 42%|████▏     | 33318/79168 [00:01<00:02, 17856.26it/s]\u001b[A\n",
      " 44%|████▍     | 35107/79168 [00:02<00:02, 17863.50it/s]\u001b[A\n",
      " 47%|████▋     | 36894/79168 [00:02<00:02, 17860.13it/s]\u001b[A\n",
      " 49%|████▉     | 38684/79168 [00:02<00:02, 17870.43it/s]\u001b[A\n",
      " 51%|█████     | 40472/79168 [00:02<00:02, 17865.31it/s]\u001b[A\n",
      " 53%|█████▎    | 42259/79168 [00:02<00:02, 17863.58it/s]\u001b[A\n",
      " 56%|█████▌    | 44048/79168 [00:02<00:01, 17870.37it/s]\u001b[A\n",
      " 58%|█████▊    | 45836/79168 [00:02<00:01, 17857.65it/s]\u001b[A\n",
      " 60%|██████    | 47626/79168 [00:02<00:01, 17868.56it/s]\u001b[A\n",
      " 62%|██████▏   | 49414/79168 [00:02<00:01, 17870.36it/s]\u001b[A\n",
      " 65%|██████▍   | 51202/79168 [00:02<00:01, 17862.24it/s]\u001b[A\n",
      " 67%|██████▋   | 52990/79168 [00:03<00:01, 17865.40it/s]\u001b[A\n",
      " 69%|██████▉   | 54777/79168 [00:03<00:01, 17852.22it/s]\u001b[A\n",
      " 71%|███████▏  | 56563/79168 [00:03<00:01, 17644.01it/s]\u001b[A\n",
      " 74%|███████▎  | 58348/79168 [00:03<00:01, 17703.84it/s]\u001b[A\n",
      " 76%|███████▌  | 60142/79168 [00:03<00:01, 17773.51it/s]\u001b[A\n",
      " 78%|███████▊  | 61942/79168 [00:03<00:00, 17838.47it/s]\u001b[A\n",
      " 81%|████████  | 63736/79168 [00:03<00:00, 17867.95it/s]\u001b[A\n",
      " 83%|████████▎ | 65523/79168 [00:03<00:00, 17849.33it/s]\u001b[A\n",
      " 85%|████████▌ | 67309/79168 [00:03<00:00, 16893.56it/s]\u001b[A\n",
      " 87%|████████▋ | 69009/79168 [00:03<00:00, 16302.03it/s]\u001b[A\n",
      " 89%|████████▉ | 70650/79168 [00:04<00:00, 15918.01it/s]\u001b[A\n",
      " 91%|█████████▏| 72250/79168 [00:04<00:00, 15651.77it/s]\u001b[A\n",
      " 93%|█████████▎| 73820/79168 [00:04<00:00, 15473.52it/s]\u001b[A\n",
      " 95%|█████████▌| 75371/79168 [00:04<00:00, 15321.18it/s]\u001b[A\n",
      " 97%|█████████▋| 76905/79168 [00:04<00:00, 15232.65it/s]\u001b[A\n",
      "100%|██████████| 79168/79168 [00:04<00:00, 17145.44it/s]\u001b[A\n",
      " 10%|▉         | 2/21 [01:06<10:28, 33.08s/it]\n",
      "  0%|          | 0/79168 [00:00<?, ?it/s]\u001b[A\n",
      "  2%|▏         | 1784/79168 [00:00<00:04, 17833.64it/s]\u001b[A\n",
      "  5%|▍         | 3572/79168 [00:00<00:04, 17859.29it/s]\u001b[A\n",
      "  7%|▋         | 5360/79168 [00:00<00:04, 17865.33it/s]\u001b[A\n",
      "  9%|▉         | 7152/79168 [00:00<00:04, 17884.07it/s]\u001b[A\n",
      " 11%|█▏        | 8941/79168 [00:00<00:03, 17592.49it/s]\u001b[A\n",
      " 14%|█▎        | 10702/79168 [00:00<00:04, 16490.61it/s]\u001b[A\n",
      " 16%|█▌        | 12363/79168 [00:00<00:04, 16081.15it/s]\u001b[A\n",
      " 18%|█▊        | 13980/79168 [00:00<00:04, 15805.88it/s]\u001b[A\n",
      " 20%|█▉        | 15566/79168 [00:00<00:04, 15660.44it/s]\u001b[A\n",
      " 22%|██▏       | 17216/79168 [00:01<00:03, 15907.47it/s]\u001b[A\n",
      " 24%|██▍       | 18868/79168 [00:01<00:03, 16088.69it/s]\u001b[A\n",
      " 26%|██▌       | 20520/79168 [00:01<00:03, 16214.99it/s]\u001b[A\n",
      " 28%|██▊       | 22172/79168 [00:01<00:03, 16303.32it/s]\u001b[A\n",
      " 30%|███       | 23825/79168 [00:01<00:03, 16370.44it/s]\u001b[A\n",
      " 32%|███▏      | 25476/79168 [00:01<00:03, 16409.44it/s]\u001b[A\n",
      " 34%|███▍      | 27133/79168 [00:01<00:03, 16456.70it/s]\u001b[A\n",
      " 36%|███▋      | 28788/79168 [00:01<00:03, 16483.63it/s]\u001b[A\n",
      " 38%|███▊      | 30442/79168 [00:01<00:02, 16498.65it/s]\u001b[A\n",
      " 41%|████      | 32100/79168 [00:01<00:02, 16522.05it/s]\u001b[A\n",
      " 43%|████▎     | 33759/79168 [00:02<00:02, 16541.42it/s]\u001b[A\n",
      " 45%|████▍     | 35422/79168 [00:02<00:02, 16565.69it/s]\u001b[A\n",
      " 47%|████▋     | 37211/79168 [00:02<00:02, 16962.45it/s]\u001b[A\n",
      " 49%|████▉     | 39001/79168 [00:02<00:02, 17243.11it/s]\u001b[A\n",
      " 52%|█████▏    | 40792/79168 [00:02<00:02, 17440.67it/s]\u001b[A\n",
      " 54%|█████▍    | 42586/79168 [00:02<00:02, 17588.68it/s]\u001b[A\n",
      " 56%|█████▌    | 44377/79168 [00:02<00:01, 17683.68it/s]\u001b[A\n",
      " 58%|█████▊    | 46162/79168 [00:02<00:01, 17731.14it/s]\u001b[A\n",
      " 61%|██████    | 47949/79168 [00:02<00:01, 17771.23it/s]\u001b[A\n",
      " 63%|██████▎   | 49727/79168 [00:02<00:01, 17633.58it/s]\u001b[A\n",
      " 65%|██████▌   | 51515/79168 [00:03<00:01, 17704.30it/s]\u001b[A\n",
      " 67%|██████▋   | 53307/79168 [00:03<00:01, 17768.33it/s]\u001b[A\n",
      " 70%|██████▉   | 55095/79168 [00:03<00:01, 17800.94it/s]\u001b[A\n",
      " 72%|███████▏  | 56885/79168 [00:03<00:01, 17830.27it/s]\u001b[A\n",
      " 74%|███████▍  | 58673/79168 [00:03<00:01, 17844.38it/s]\u001b[A\n",
      " 76%|███████▋  | 60458/79168 [00:03<00:01, 17844.20it/s]\u001b[A\n",
      " 79%|███████▊  | 62243/79168 [00:03<00:00, 17843.96it/s]\u001b[A\n",
      " 81%|████████  | 64034/79168 [00:03<00:00, 17862.58it/s]\u001b[A\n",
      " 83%|████████▎ | 65828/79168 [00:03<00:00, 17883.63it/s]\u001b[A\n",
      " 85%|████████▌ | 67625/79168 [00:03<00:00, 17907.05it/s]\u001b[A\n",
      " 88%|████████▊ | 69416/79168 [00:04<00:00, 17892.41it/s]\u001b[A\n",
      " 90%|████████▉ | 71209/79168 [00:04<00:00, 17902.17it/s]\u001b[A\n",
      " 92%|█████████▏| 73002/79168 [00:04<00:00, 17907.18it/s]\u001b[A\n",
      " 94%|█████████▍| 74793/79168 [00:04<00:00, 17906.23it/s]\u001b[A\n",
      " 97%|█████████▋| 76584/79168 [00:04<00:00, 17898.25it/s]\u001b[A\n",
      "100%|██████████| 79168/79168 [00:04<00:00, 17243.49it/s]\u001b[A\n",
      " 14%|█▍        | 3/21 [01:39<09:59, 33.29s/it]"
     ]
    }
   ],
   "source": [
    "  \n",
    "out_json_path = f'{io_path}/nq_train/run.dpr.nq-train.{fusion_tag}.alpha-?.k-{k}.json'\n",
    "\n",
    "cmd2 = f'python -m pyserini.eval.evaluate_dpr_retrieval_all_alpha \\\n",
    "    --retrieval {out_json_path} \\\n",
    "    --topk 100'\n",
    "filename = f'{io_path}/nq_train/run.dpr.nq-train.{fusion_tag}.alpha-{alpha}.k-{k}.res'\n",
    "res = os.system(cmd2)"
   ]
  }
 ],
 "metadata": {
  "kernelspec": {
   "display_name": "pyserini",
   "language": "python",
   "name": "python3"
  },
  "language_info": {
   "codemirror_mode": {
    "name": "ipython",
    "version": 3
   },
   "file_extension": ".py",
   "mimetype": "text/x-python",
   "name": "python",
   "nbconvert_exporter": "python",
   "pygments_lexer": "ipython3",
   "version": "3.10.14"
  }
 },
 "nbformat": 4,
 "nbformat_minor": 2
}
