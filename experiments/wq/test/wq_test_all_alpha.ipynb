{
 "cells": [
  {
   "cell_type": "code",
   "execution_count": 1,
   "metadata": {},
   "outputs": [],
   "source": [
    "import numpy as np\n",
    "from tqdm import tqdm\n",
    "import os\n",
    "\n",
    "io_path = '/dk/lcj_rag/pyserini-autofusion/experiments/runs'\n",
    "\n",
    "depth=1000\n",
    "#  alpha*bf + (1-alpha)*bm25\n",
    "alpha = 0.5\n",
    "nq = -1\n",
    "k=100\n",
    "\n",
    "bf_trec_path = f'{io_path}/base_trec/run.dpr.wq-test.bm25.trec'\n",
    "bm25_trec_path = f'{io_path}/base_trec/run.dpr.wq-test.multi.bf.trec'\n",
    "cache_path = '/dk/lcj_rag/pyserini-autofusion/experiments/cache/'\n",
    "fusion_tag = 'fusion'\n"
   ]
  },
  {
   "cell_type": "code",
   "execution_count": 4,
   "metadata": {},
   "outputs": [
    {
     "name": "stderr",
     "output_type": "stream",
     "text": [
      "  0%|          | 0/2 [00:00<?, ?it/s]"
     ]
    },
    {
     "name": "stdout",
     "output_type": "stream",
     "text": [
      "0.0\n",
      "num_queries: 2032000\n"
     ]
    },
    {
     "name": "stderr",
     "output_type": "stream",
     "text": [
      " 50%|█████     | 1/2 [00:47<00:47, 47.63s/it]"
     ]
    },
    {
     "name": "stdout",
     "output_type": "stream",
     "text": [
      "1.0\n",
      "num_queries: 2032000\n"
     ]
    },
    {
     "name": "stderr",
     "output_type": "stream",
     "text": [
      "100%|██████████| 2/2 [01:40<00:00, 50.16s/it]\n"
     ]
    }
   ],
   "source": [
    "for alpha in tqdm([0, 1.00]):\n",
    "    # alpha = round(alpha, 2)\n",
    "    alpha = f'{alpha:.1f}'\n",
    "    print(alpha)\n",
    "    out_trec_path = f'{io_path}/wq_test/run.dpr.wq-test.{fusion_tag}.alpha-{alpha}.nq-{nq}.k-{k}.trec'\n",
    "    out_json_path = f'{io_path}/wq_test/run.dpr.wq-test.{fusion_tag}.alpha-{alpha}.nq-{nq}.k-{k}.json'\n",
    "    cmd0 = f'python -m pyserini.autofusion \\\n",
    "            --runs {bf_trec_path} {bm25_trec_path} \\\n",
    "            --runtag {fusion_tag} \\\n",
    "            --method interpolation  \\\n",
    "            --alpha {alpha} \\\n",
    "            --depth {depth}  \\\n",
    "            --nq {nq}  \\\n",
    "            --k {k} \\\n",
    "            --output {out_trec_path}'\n",
    "    # print(cmd0)\n",
    "    os.system(cmd0)\n",
    "\n",
    "\n"
   ]
  },
  {
   "cell_type": "code",
   "execution_count": 5,
   "metadata": {},
   "outputs": [
    {
     "name": "stderr",
     "output_type": "stream",
     "text": [
      "  0%|          | 0/2 [00:00<?, ?it/s]"
     ]
    },
    {
     "name": "stdout",
     "output_type": "stream",
     "text": [
      "resultPath: /root/.cache/pyserini/topics-and-qrels/topics.dpr.wq.test.txt\n",
      "checking path: /dk/rag-dataset/indexes/lucene-index.wikipedia-dpr-100w.20210120.d1b9e6...\n"
     ]
    },
    {
     "name": "stderr",
     "output_type": "stream",
     "text": [
      "Jul 02, 2024 2:45:26 AM org.apache.lucene.store.MemorySegmentIndexInputProvider <init>\n",
      "INFO: Using MemorySegmentIndexInput with Java 21; to disable start with -Dorg.apache.lucene.store.MMapDirectory.enableMemorySegments=false\n",
      "100%|██████████| 203200/203200 [00:30<00:00, 6749.73it/s]\n",
      " 50%|█████     | 1/2 [00:41<00:41, 41.45s/it]"
     ]
    },
    {
     "name": "stdout",
     "output_type": "stream",
     "text": [
      "resultPath: /root/.cache/pyserini/topics-and-qrels/topics.dpr.wq.test.txt\n",
      "checking path: /dk/rag-dataset/indexes/lucene-index.wikipedia-dpr-100w.20210120.d1b9e6...\n"
     ]
    },
    {
     "name": "stderr",
     "output_type": "stream",
     "text": [
      "Jul 02, 2024 2:46:07 AM org.apache.lucene.store.MemorySegmentIndexInputProvider <init>\n",
      "INFO: Using MemorySegmentIndexInput with Java 21; to disable start with -Dorg.apache.lucene.store.MMapDirectory.enableMemorySegments=false\n",
      "100%|██████████| 203200/203200 [00:29<00:00, 6951.65it/s]\n",
      "100%|██████████| 2/2 [01:21<00:00, 40.95s/it]\n"
     ]
    }
   ],
   "source": [
    "nq = -1\n",
    "# for alpha in tqdm([0]):\n",
    "for alpha in tqdm([0, 1.00]):\n",
    "    # alpha = round(alpha, 2)\n",
    "    alpha = f'{alpha:.1f}'\n",
    "    # alphafile = f'/dk/lcj_rag/pyserini-autofusion/experiments/runs/wq_test/alpha-{alpha}.csv'\n",
    "    test_out_trec_path = f'{io_path}/wq_test/run.dpr.wq-test.{fusion_tag}.alpha-{alpha}.nq-{nq}.k-{k}.trec'\n",
    "    test_out_json_path = f'{io_path}/wq_test/run.dpr.wq-test.{fusion_tag}.alpha-{alpha}.nq-{nq}.k-{k}.json'\n",
    "    \n",
    "    cache_path = '/dk/lcj_rag/pyserini-autofusion/experiments/cache/'\n",
    "    cmd1 = f'python -m pyserini.eval.convert_trec_run_to_dpr_retrieval_run_on_cache \\\n",
    "    --index wikipedia-dpr-100w \\\n",
    "    --topics dpr-wq-test \\\n",
    "    --gt {cache_path}wq_test_bf_qid_gt_set.pkl {cache_path}wq_test_bm25_qid_gt_set.pkl \\\n",
    "    --input {test_out_trec_path} \\\n",
    "    --output {test_out_json_path}'\n",
    "    os.system(cmd1)\n",
    "    "
   ]
  },
  {
   "cell_type": "code",
   "execution_count": 8,
   "metadata": {},
   "outputs": [
    {
     "name": "stderr",
     "output_type": "stream",
     "text": [
      "  0%|          | 0/3 [00:00<?, ?it/s]\n",
      "0it [00:00, ?it/s]\u001b[A\n",
      "2032it [00:00, 18619.03it/s]\u001b[A\n",
      " 33%|███▎      | 1/3 [00:00<00:01,  1.45it/s]\n",
      "0it [00:00, ?it/s]\u001b[A\n",
      "2032it [00:00, 18695.78it/s]\u001b[A\n",
      " 67%|██████▋   | 2/3 [00:01<00:00,  1.52it/s]\n",
      "0it [00:00, ?it/s]\u001b[A\n",
      "2032it [00:00, 18805.14it/s]\u001b[A\n",
      "100%|██████████| 3/3 [00:01<00:00,  1.56it/s]\n"
     ]
    },
    {
     "name": "stdout",
     "output_type": "stream",
     "text": [
      "/dk/lcj_rag/pyserini-autofusion/experiments/runs/wq_test/run.dpr.wq-test.fusion.all-alpha.nq--1.k-100.res.test\n"
     ]
    }
   ],
   "source": [
    "filename = f'{io_path}/wq_test/run.dpr.wq-test.{fusion_tag}.all-alpha.nq-{nq}.k-{k}.res.test'\n",
    "test_out_json_path = f'{io_path}/wq_test/run.dpr.wq-test.{fusion_tag}.alpha-?.nq-{nq}.k-{k}.json'\n",
    "\n",
    "cmd2 = f'python -m pyserini.eval.evaluate_dpr_retrieval_all_alpha \\\n",
    "    --retrieval {test_out_json_path} \\\n",
    "    --topk 100  \\\n",
    "    --traindata False'\n",
    "res = os.system(cmd2 + f'1> {filename}')\n",
    "print(filename)"
   ]
  }
 ],
 "metadata": {
  "kernelspec": {
   "display_name": "pyserini",
   "language": "python",
   "name": "python3"
  },
  "language_info": {
   "codemirror_mode": {
    "name": "ipython",
    "version": 3
   },
   "file_extension": ".py",
   "mimetype": "text/x-python",
   "name": "python",
   "nbconvert_exporter": "python",
   "pygments_lexer": "ipython3",
   "version": "3.10.14"
  }
 },
 "nbformat": 4,
 "nbformat_minor": 2
}
