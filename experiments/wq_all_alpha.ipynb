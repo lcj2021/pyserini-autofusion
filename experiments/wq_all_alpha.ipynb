{
 "cells": [
  {
   "cell_type": "code",
   "execution_count": 1,
   "metadata": {},
   "outputs": [
    {
     "name": "stderr",
     "output_type": "stream",
     "text": [
      "  0%|          | 0/21 [00:00<?, ?it/s]"
     ]
    },
    {
     "name": "stdout",
     "output_type": "stream",
     "text": [
      "checking path: /dk/rag-dataset/indexes/lucene-index.wikipedia-dpr-100w.20210120.d1b9e6...\n"
     ]
    },
    {
     "name": "stderr",
     "output_type": "stream",
     "text": [
      "Apr 27, 2024 6:24:16 AM org.apache.lucene.store.MemorySegmentIndexInputProvider <init>\n",
      "INFO: Using MemorySegmentIndexInput with Java 21; to disable start with -Dorg.apache.lucene.store.MMapDirectory.enableMemorySegments=false\n",
      "100%|██████████| 102400/102400 [01:24<00:00, 1218.91it/s]\n",
      "100%|██████████| 1024/1024 [00:00<00:00, 27644.19it/s]\n",
      "  5%|▍         | 1/21 [02:00<40:18, 120.91s/it]"
     ]
    },
    {
     "name": "stdout",
     "output_type": "stream",
     "text": [
      "checking path: /dk/rag-dataset/indexes/lucene-index.wikipedia-dpr-100w.20210120.d1b9e6...\n"
     ]
    },
    {
     "name": "stderr",
     "output_type": "stream",
     "text": [
      "Apr 27, 2024 6:26:17 AM org.apache.lucene.store.MemorySegmentIndexInputProvider <init>\n",
      "INFO: Using MemorySegmentIndexInput with Java 21; to disable start with -Dorg.apache.lucene.store.MMapDirectory.enableMemorySegments=false\n",
      "100%|██████████| 102400/102400 [01:14<00:00, 1377.17it/s]\n",
      "100%|██████████| 1024/1024 [00:00<00:00, 27809.22it/s]\n",
      " 10%|▉         | 2/21 [03:51<36:25, 115.03s/it]"
     ]
    },
    {
     "name": "stdout",
     "output_type": "stream",
     "text": [
      "checking path: /dk/rag-dataset/indexes/lucene-index.wikipedia-dpr-100w.20210120.d1b9e6...\n"
     ]
    },
    {
     "name": "stderr",
     "output_type": "stream",
     "text": [
      "Apr 27, 2024 6:28:07 AM org.apache.lucene.store.MemorySegmentIndexInputProvider <init>\n",
      "INFO: Using MemorySegmentIndexInput with Java 21; to disable start with -Dorg.apache.lucene.store.MMapDirectory.enableMemorySegments=false\n",
      "100%|██████████| 102400/102400 [01:12<00:00, 1411.06it/s]\n",
      "100%|██████████| 1024/1024 [00:00<00:00, 27824.53it/s]\n",
      " 14%|█▍        | 3/21 [05:40<33:39, 112.21s/it]"
     ]
    },
    {
     "name": "stdout",
     "output_type": "stream",
     "text": [
      "checking path: /dk/rag-dataset/indexes/lucene-index.wikipedia-dpr-100w.20210120.d1b9e6...\n"
     ]
    },
    {
     "name": "stderr",
     "output_type": "stream",
     "text": [
      "Apr 27, 2024 6:29:56 AM org.apache.lucene.store.MemorySegmentIndexInputProvider <init>\n",
      "INFO: Using MemorySegmentIndexInput with Java 21; to disable start with -Dorg.apache.lucene.store.MMapDirectory.enableMemorySegments=false\n",
      "100%|██████████| 102400/102400 [01:14<00:00, 1373.82it/s]\n",
      "100%|██████████| 1024/1024 [00:00<00:00, 27516.67it/s]\n",
      " 19%|█▉        | 4/21 [07:31<31:38, 111.67s/it]"
     ]
    },
    {
     "name": "stdout",
     "output_type": "stream",
     "text": [
      "checking path: /dk/rag-dataset/indexes/lucene-index.wikipedia-dpr-100w.20210120.d1b9e6...\n"
     ]
    },
    {
     "name": "stderr",
     "output_type": "stream",
     "text": [
      "Apr 27, 2024 6:31:47 AM org.apache.lucene.store.MemorySegmentIndexInputProvider <init>\n",
      "INFO: Using MemorySegmentIndexInput with Java 21; to disable start with -Dorg.apache.lucene.store.MMapDirectory.enableMemorySegments=false\n",
      "100%|██████████| 102400/102400 [01:12<00:00, 1413.99it/s]\n",
      "100%|██████████| 1024/1024 [00:00<00:00, 27555.69it/s]\n",
      " 24%|██▍       | 5/21 [09:20<29:30, 110.67s/it]"
     ]
    },
    {
     "name": "stdout",
     "output_type": "stream",
     "text": [
      "checking path: /dk/rag-dataset/indexes/lucene-index.wikipedia-dpr-100w.20210120.d1b9e6...\n"
     ]
    },
    {
     "name": "stderr",
     "output_type": "stream",
     "text": [
      "Apr 27, 2024 6:33:36 AM org.apache.lucene.store.MemorySegmentIndexInputProvider <init>\n",
      "INFO: Using MemorySegmentIndexInput with Java 21; to disable start with -Dorg.apache.lucene.store.MMapDirectory.enableMemorySegments=false\n",
      "100%|██████████| 102400/102400 [01:12<00:00, 1411.48it/s]\n",
      "100%|██████████| 1024/1024 [00:00<00:00, 27726.64it/s]\n",
      " 29%|██▊       | 6/21 [11:09<27:32, 110.17s/it]"
     ]
    },
    {
     "name": "stdout",
     "output_type": "stream",
     "text": [
      "checking path: /dk/rag-dataset/indexes/lucene-index.wikipedia-dpr-100w.20210120.d1b9e6...\n"
     ]
    },
    {
     "name": "stderr",
     "output_type": "stream",
     "text": [
      "Apr 27, 2024 6:35:25 AM org.apache.lucene.store.MemorySegmentIndexInputProvider <init>\n",
      "INFO: Using MemorySegmentIndexInput with Java 21; to disable start with -Dorg.apache.lucene.store.MMapDirectory.enableMemorySegments=false\n",
      "100%|██████████| 102400/102400 [01:14<00:00, 1380.20it/s]\n",
      "100%|██████████| 1024/1024 [00:00<00:00, 27840.05it/s]\n",
      " 33%|███▎      | 7/21 [12:59<25:40, 110.02s/it]"
     ]
    },
    {
     "name": "stdout",
     "output_type": "stream",
     "text": [
      "checking path: /dk/rag-dataset/indexes/lucene-index.wikipedia-dpr-100w.20210120.d1b9e6...\n"
     ]
    },
    {
     "name": "stderr",
     "output_type": "stream",
     "text": [
      "Apr 27, 2024 6:37:14 AM org.apache.lucene.store.MemorySegmentIndexInputProvider <init>\n",
      "INFO: Using MemorySegmentIndexInput with Java 21; to disable start with -Dorg.apache.lucene.store.MMapDirectory.enableMemorySegments=false\n",
      "100%|██████████| 102400/102400 [01:14<00:00, 1377.17it/s]\n",
      "100%|██████████| 1024/1024 [00:00<00:00, 27144.00it/s]\n",
      " 38%|███▊      | 8/21 [14:48<23:48, 109.85s/it]"
     ]
    },
    {
     "name": "stdout",
     "output_type": "stream",
     "text": [
      "checking path: /dk/rag-dataset/indexes/lucene-index.wikipedia-dpr-100w.20210120.d1b9e6...\n"
     ]
    },
    {
     "name": "stderr",
     "output_type": "stream",
     "text": [
      "Apr 27, 2024 6:39:06 AM org.apache.lucene.store.MemorySegmentIndexInputProvider <init>\n",
      "INFO: Using MemorySegmentIndexInput with Java 21; to disable start with -Dorg.apache.lucene.store.MMapDirectory.enableMemorySegments=false\n",
      "100%|██████████| 102400/102400 [01:12<00:00, 1408.49it/s]\n",
      "100%|██████████| 1024/1024 [00:00<00:00, 27646.68it/s]\n",
      " 43%|████▎     | 9/21 [16:39<21:59, 109.99s/it]"
     ]
    },
    {
     "name": "stdout",
     "output_type": "stream",
     "text": [
      "checking path: /dk/rag-dataset/indexes/lucene-index.wikipedia-dpr-100w.20210120.d1b9e6...\n"
     ]
    },
    {
     "name": "stderr",
     "output_type": "stream",
     "text": [
      "Apr 27, 2024 6:40:55 AM org.apache.lucene.store.MemorySegmentIndexInputProvider <init>\n",
      "INFO: Using MemorySegmentIndexInput with Java 21; to disable start with -Dorg.apache.lucene.store.MMapDirectory.enableMemorySegments=false\n",
      "100%|██████████| 102400/102400 [01:13<00:00, 1386.31it/s]\n",
      "100%|██████████| 1024/1024 [00:00<00:00, 27724.13it/s]\n",
      " 48%|████▊     | 10/21 [18:29<20:10, 110.03s/it]"
     ]
    },
    {
     "name": "stdout",
     "output_type": "stream",
     "text": [
      "checking path: /dk/rag-dataset/indexes/lucene-index.wikipedia-dpr-100w.20210120.d1b9e6...\n"
     ]
    },
    {
     "name": "stderr",
     "output_type": "stream",
     "text": [
      "Apr 27, 2024 6:42:45 AM org.apache.lucene.store.MemorySegmentIndexInputProvider <init>\n",
      "INFO: Using MemorySegmentIndexInput with Java 21; to disable start with -Dorg.apache.lucene.store.MMapDirectory.enableMemorySegments=false\n",
      "100%|██████████| 102400/102400 [01:12<00:00, 1408.94it/s]\n",
      "100%|██████████| 1024/1024 [00:00<00:00, 27605.63it/s]\n",
      " 52%|█████▏    | 11/21 [20:18<18:18, 109.81s/it]"
     ]
    },
    {
     "name": "stdout",
     "output_type": "stream",
     "text": [
      "checking path: /dk/rag-dataset/indexes/lucene-index.wikipedia-dpr-100w.20210120.d1b9e6...\n"
     ]
    },
    {
     "name": "stderr",
     "output_type": "stream",
     "text": [
      "Apr 27, 2024 6:44:36 AM org.apache.lucene.store.MemorySegmentIndexInputProvider <init>\n",
      "INFO: Using MemorySegmentIndexInput with Java 21; to disable start with -Dorg.apache.lucene.store.MMapDirectory.enableMemorySegments=false\n",
      "100%|██████████| 102400/102400 [01:13<00:00, 1383.88it/s]\n",
      "100%|██████████| 1024/1024 [00:00<00:00, 27807.78it/s]\n",
      " 57%|█████▋    | 12/21 [22:10<16:33, 110.34s/it]"
     ]
    },
    {
     "name": "stdout",
     "output_type": "stream",
     "text": [
      "checking path: /dk/rag-dataset/indexes/lucene-index.wikipedia-dpr-100w.20210120.d1b9e6...\n"
     ]
    },
    {
     "name": "stderr",
     "output_type": "stream",
     "text": [
      "Apr 27, 2024 6:46:27 AM org.apache.lucene.store.MemorySegmentIndexInputProvider <init>\n",
      "INFO: Using MemorySegmentIndexInput with Java 21; to disable start with -Dorg.apache.lucene.store.MMapDirectory.enableMemorySegments=false\n",
      "100%|██████████| 102400/102400 [01:14<00:00, 1378.10it/s]\n",
      "100%|██████████| 1024/1024 [00:00<00:00, 27856.66it/s]\n",
      " 62%|██████▏   | 13/21 [24:01<14:45, 110.67s/it]"
     ]
    },
    {
     "name": "stdout",
     "output_type": "stream",
     "text": [
      "checking path: /dk/rag-dataset/indexes/lucene-index.wikipedia-dpr-100w.20210120.d1b9e6...\n"
     ]
    },
    {
     "name": "stderr",
     "output_type": "stream",
     "text": [
      "Apr 27, 2024 6:48:17 AM org.apache.lucene.store.MemorySegmentIndexInputProvider <init>\n",
      "INFO: Using MemorySegmentIndexInput with Java 21; to disable start with -Dorg.apache.lucene.store.MMapDirectory.enableMemorySegments=false\n",
      "100%|██████████| 102400/102400 [01:14<00:00, 1382.26it/s]\n",
      "100%|██████████| 1024/1024 [00:00<00:00, 27437.39it/s]\n",
      " 67%|██████▋   | 14/21 [25:51<12:53, 110.45s/it]"
     ]
    },
    {
     "name": "stdout",
     "output_type": "stream",
     "text": [
      "checking path: /dk/rag-dataset/indexes/lucene-index.wikipedia-dpr-100w.20210120.d1b9e6...\n"
     ]
    },
    {
     "name": "stderr",
     "output_type": "stream",
     "text": [
      "Apr 27, 2024 6:50:07 AM org.apache.lucene.store.MemorySegmentIndexInputProvider <init>\n",
      "INFO: Using MemorySegmentIndexInput with Java 21; to disable start with -Dorg.apache.lucene.store.MMapDirectory.enableMemorySegments=false\n",
      "100%|██████████| 102400/102400 [01:14<00:00, 1379.83it/s]\n",
      "100%|██████████| 1024/1024 [00:00<00:00, 27167.86it/s]\n",
      " 71%|███████▏  | 15/21 [27:41<11:02, 110.40s/it]"
     ]
    },
    {
     "name": "stdout",
     "output_type": "stream",
     "text": [
      "checking path: /dk/rag-dataset/indexes/lucene-index.wikipedia-dpr-100w.20210120.d1b9e6...\n"
     ]
    },
    {
     "name": "stderr",
     "output_type": "stream",
     "text": [
      "Apr 27, 2024 6:51:58 AM org.apache.lucene.store.MemorySegmentIndexInputProvider <init>\n",
      "INFO: Using MemorySegmentIndexInput with Java 21; to disable start with -Dorg.apache.lucene.store.MMapDirectory.enableMemorySegments=false\n",
      "100%|██████████| 102400/102400 [01:13<00:00, 1387.64it/s]\n",
      "100%|██████████| 1024/1024 [00:00<00:00, 26916.22it/s]\n",
      " 76%|███████▌  | 16/21 [29:32<09:12, 110.54s/it]"
     ]
    },
    {
     "name": "stdout",
     "output_type": "stream",
     "text": [
      "checking path: /dk/rag-dataset/indexes/lucene-index.wikipedia-dpr-100w.20210120.d1b9e6...\n"
     ]
    },
    {
     "name": "stderr",
     "output_type": "stream",
     "text": [
      "Apr 27, 2024 6:53:48 AM org.apache.lucene.store.MemorySegmentIndexInputProvider <init>\n",
      "INFO: Using MemorySegmentIndexInput with Java 21; to disable start with -Dorg.apache.lucene.store.MMapDirectory.enableMemorySegments=false\n",
      "100%|██████████| 102400/102400 [01:14<00:00, 1379.09it/s]\n",
      "100%|██████████| 1024/1024 [00:00<00:00, 27118.29it/s]\n",
      " 81%|████████  | 17/21 [31:23<07:22, 110.54s/it]"
     ]
    },
    {
     "name": "stdout",
     "output_type": "stream",
     "text": [
      "checking path: /dk/rag-dataset/indexes/lucene-index.wikipedia-dpr-100w.20210120.d1b9e6...\n"
     ]
    },
    {
     "name": "stderr",
     "output_type": "stream",
     "text": [
      "Apr 27, 2024 6:55:39 AM org.apache.lucene.store.MemorySegmentIndexInputProvider <init>\n",
      "INFO: Using MemorySegmentIndexInput with Java 21; to disable start with -Dorg.apache.lucene.store.MMapDirectory.enableMemorySegments=false\n",
      "100%|██████████| 102400/102400 [01:12<00:00, 1406.41it/s]\n",
      "100%|██████████| 1024/1024 [00:00<00:00, 27846.90it/s]\n",
      " 86%|████████▌ | 18/21 [33:12<05:30, 110.10s/it]"
     ]
    },
    {
     "name": "stdout",
     "output_type": "stream",
     "text": [
      "checking path: /dk/rag-dataset/indexes/lucene-index.wikipedia-dpr-100w.20210120.d1b9e6...\n"
     ]
    },
    {
     "name": "stderr",
     "output_type": "stream",
     "text": [
      "Apr 27, 2024 6:57:28 AM org.apache.lucene.store.MemorySegmentIndexInputProvider <init>\n",
      "INFO: Using MemorySegmentIndexInput with Java 21; to disable start with -Dorg.apache.lucene.store.MMapDirectory.enableMemorySegments=false\n",
      "100%|██████████| 102400/102400 [01:12<00:00, 1408.15it/s]\n",
      "100%|██████████| 1024/1024 [00:00<00:00, 27657.36it/s]\n",
      " 90%|█████████ | 19/21 [35:00<03:39, 109.70s/it]"
     ]
    },
    {
     "name": "stdout",
     "output_type": "stream",
     "text": [
      "checking path: /dk/rag-dataset/indexes/lucene-index.wikipedia-dpr-100w.20210120.d1b9e6...\n"
     ]
    },
    {
     "name": "stderr",
     "output_type": "stream",
     "text": [
      "Apr 27, 2024 6:59:16 AM org.apache.lucene.store.MemorySegmentIndexInputProvider <init>\n",
      "INFO: Using MemorySegmentIndexInput with Java 21; to disable start with -Dorg.apache.lucene.store.MMapDirectory.enableMemorySegments=false\n",
      "100%|██████████| 102400/102400 [01:14<00:00, 1376.74it/s]\n",
      "100%|██████████| 1024/1024 [00:00<00:00, 27596.06it/s]\n",
      " 95%|█████████▌| 20/21 [36:51<01:49, 109.90s/it]"
     ]
    },
    {
     "name": "stdout",
     "output_type": "stream",
     "text": [
      "checking path: /dk/rag-dataset/indexes/lucene-index.wikipedia-dpr-100w.20210120.d1b9e6...\n"
     ]
    },
    {
     "name": "stderr",
     "output_type": "stream",
     "text": [
      "Apr 27, 2024 7:01:08 AM org.apache.lucene.store.MemorySegmentIndexInputProvider <init>\n",
      "INFO: Using MemorySegmentIndexInput with Java 21; to disable start with -Dorg.apache.lucene.store.MMapDirectory.enableMemorySegments=false\n",
      "100%|██████████| 102400/102400 [01:14<00:00, 1366.58it/s]\n",
      "100%|██████████| 1024/1024 [00:00<00:00, 27419.18it/s]\n",
      "100%|██████████| 21/21 [38:43<00:00, 110.63s/it]\n"
     ]
    }
   ],
   "source": [
    "import numpy as np\n",
    "from tqdm import tqdm\n",
    "\n",
    "import os\n",
    "os.environ['JAVA_HOME'] = '/dk/jdk/jdk-21.0.3'\n",
    "os.environ['PYSERINI_CACHE'] = '/dk/rag-dataset/'\n",
    "io_path = '/dk/lcj_rag/pyserini-autofusion/experiments/runs'\n",
    "\n",
    "depth=1000\n",
    "#  alpha*bf + (1-alpha)*bm25\n",
    "alpha = 0.5\n",
    "nq = 1024\n",
    "k=100\n",
    "\n",
    "bf_trec_path = f'{io_path}/run.dpr.wq-test.bm25.trec'\n",
    "bm25_trec_path = f'{io_path}/run.dpr.wq-test.multi.bf.trec'\n",
    "fusion_tag = 'fusion'\n",
    "\n",
    "for alpha in tqdm(np.arange(0, 1.05, 0.05)):\n",
    "  alpha = round(alpha, 2)\n",
    "  out_trec_path = f'{io_path}/run.dpr.wq-test.multi.bf.bm25.{fusion_tag}.alpha-{alpha}.nq-{nq}.k-{k}.trec'\n",
    "  out_json_path = f'{io_path}/run.dpr.wq-test.multi.bf.bm25.{fusion_tag}.alpha-{alpha}.nq-{nq}.k-{k}.json'\n",
    "  cmd0 = f'python -m pyserini.autofusion \\\n",
    "          --runs {bf_trec_path} {bm25_trec_path} \\\n",
    "          --runtag {fusion_tag} \\\n",
    "          --method interpolation  \\\n",
    "          --alpha {alpha} \\\n",
    "          --depth {depth}  \\\n",
    "          --nq {nq}  \\\n",
    "          --k {k} \\\n",
    "          --output {out_trec_path}'\n",
    "  # print(cmd0)\n",
    "  os.system(cmd0)\n",
    "\n",
    "  cmd1 = f'python -m pyserini.eval.convert_trec_run_to_dpr_retrieval_run \\\n",
    "    --index wikipedia-dpr-100w \\\n",
    "    --topics dpr-wq-test \\\n",
    "    --input {out_trec_path} \\\n",
    "    --output {out_json_path}'\n",
    "  os.system(cmd1)\n",
    "\n",
    "  cmd2 = f'python -m pyserini.eval.evaluate_dpr_retrieval \\\n",
    "    --retrieval {out_json_path} \\\n",
    "    --topk 100'\n",
    "  filename = f'{io_path}/run.dpr.wq-test.multi.bf.bm25.{fusion_tag}.alpha-{alpha}.nq-{nq}.k-{k}.res'\n",
    "  res = os.system(cmd2 + ' 1>' + filename)\n"
   ]
  },
  {
   "cell_type": "code",
   "execution_count": 2,
   "metadata": {},
   "outputs": [
    {
     "name": "stderr",
     "output_type": "stream",
     "text": [
      "100%|██████████| 21/21 [00:00<00:00, 4605.99it/s]"
     ]
    },
    {
     "name": "stdout",
     "output_type": "stream",
     "text": [
      "0.0\n",
      "0.05\n",
      "0.1\n",
      "0.15\n",
      "0.2\n",
      "0.25\n",
      "0.3\n",
      "0.35\n",
      "0.4\n",
      "0.45\n",
      "0.5\n",
      "0.55\n",
      "0.6\n",
      "0.65\n",
      "0.7\n",
      "0.75\n",
      "0.8\n",
      "0.85\n",
      "0.9\n",
      "0.95\n",
      "1.0\n",
      "qid: 1002\tTop100\thas_answer: 0\n",
      "\n",
      "qid: 1007\tTop100\thas_answer: 0\n",
      "\n",
      "qid: 1010\tTop100\thas_answer: 0\n",
      "\n",
      "qid: 1017\tTop100\thas_answer: 0\n",
      "\n",
      "qid: 1018\tTop100\thas_answer: 0\n",
      "\n",
      "qid: 113\tTop100\thas_answer: 0\n",
      "\n",
      "qid: 131\tTop100\thas_answer: 0\n",
      "\n",
      "qid: 136\tTop100\thas_answer: 0\n",
      "\n",
      "qid: 141\tTop100\thas_answer: 0\n",
      "\n",
      "qid: 152\tTop100\thas_answer: 0\n",
      "\n",
      "qid: 155\tTop100\thas_answer: 0\n",
      "\n",
      "qid: 163\tTop100\thas_answer: 0\n",
      "\n",
      "qid: 176\tTop100\thas_answer: 0\n",
      "\n",
      "qid: 178\tTop100\thas_answer: 0\n",
      "\n",
      "qid: 183\tTop100\thas_answer: 0\n",
      "\n",
      "qid: 192\tTop100\thas_answer: 0\n",
      "\n",
      "qid: 194\tTop100\thas_answer: 0\n",
      "\n",
      "qid: 21\tTop100\thas_answer: 0\n",
      "\n",
      "qid: 215\tTop100\thas_answer: 0\n",
      "\n",
      "qid: 223\tTop100\thas_answer: 0\n",
      "\n",
      "qid: 230\tTop100\thas_answer: 0\n",
      "\n",
      "qid: 236\tTop100\thas_answer: 0\n",
      "\n",
      "qid: 238\tTop100\thas_answer: 0\n",
      "\n",
      "qid: 240\tTop100\thas_answer: 0\n",
      "\n",
      "qid: 242\tTop100\thas_answer: 0\n",
      "\n",
      "qid: 245\tTop100\thas_answer: 0\n",
      "\n",
      "qid: 25\tTop100\thas_answer: 0\n",
      "\n",
      "qid: 251\tTop100\thas_answer: 0\n",
      "\n",
      "qid: 257\tTop100\thas_answer: 0\n",
      "\n",
      "qid: 268\tTop100\thas_answer: 0\n",
      "\n",
      "qid: 272\tTop100\thas_answer: 0\n",
      "\n",
      "qid: 274\tTop100\thas_answer: 0\n",
      "\n",
      "qid: 288\tTop100\thas_answer: 0\n",
      "\n",
      "qid: 290\tTop100\thas_answer: 0\n",
      "\n",
      "qid: 292\tTop100\thas_answer: 0\n",
      "\n",
      "qid: 304\tTop100\thas_answer: 0\n",
      "\n",
      "qid: 310\tTop100\thas_answer: 0\n",
      "\n",
      "qid: 320\tTop100\thas_answer: 0\n",
      "\n",
      "qid: 326\tTop100\thas_answer: 0\n",
      "\n",
      "qid: 334\tTop100\thas_answer: 0\n",
      "\n",
      "qid: 347\tTop100\thas_answer: 0\n",
      "\n",
      "qid: 348\tTop100\thas_answer: 0\n",
      "\n",
      "qid: 351\tTop100\thas_answer: 0\n",
      "\n",
      "qid: 355\tTop100\thas_answer: 0\n",
      "\n",
      "qid: 359\tTop100\thas_answer: 0\n",
      "\n",
      "qid: 362\tTop100\thas_answer: 0\n",
      "\n",
      "qid: 368\tTop100\thas_answer: 0\n",
      "\n",
      "qid: 373\tTop100\thas_answer: 0\n",
      "\n",
      "qid: 379\tTop100\thas_answer: 0\n",
      "\n",
      "qid: 381\tTop100\thas_answer: 0\n",
      "\n",
      "qid: 385\tTop100\thas_answer: 0\n",
      "\n",
      "qid: 4\tTop100\thas_answer: 0\n",
      "\n",
      "qid: 406\tTop100\thas_answer: 0\n",
      "\n",
      "qid: 407\tTop100\thas_answer: 0\n",
      "\n",
      "qid: 408\tTop100\thas_answer: 0\n",
      "\n",
      "qid: 412\tTop100\thas_answer: 0\n",
      "\n",
      "qid: 427\tTop100\thas_answer: 0\n",
      "\n",
      "qid: 436\tTop100\thas_answer: 0\n",
      "\n",
      "qid: 441\tTop100\thas_answer: 0\n",
      "\n",
      "qid: 452\tTop100\thas_answer: 0\n",
      "\n",
      "qid: 46\tTop100\thas_answer: 0\n",
      "\n",
      "qid: 475\tTop100\thas_answer: 0\n",
      "\n",
      "qid: 478\tTop100\thas_answer: 0\n",
      "\n",
      "qid: 482\tTop100\thas_answer: 0\n",
      "\n",
      "qid: 487\tTop100\thas_answer: 0\n",
      "\n",
      "qid: 499\tTop100\thas_answer: 0\n",
      "\n",
      "qid: 5\tTop100\thas_answer: 0\n",
      "\n",
      "qid: 500\tTop100\thas_answer: 0\n",
      "\n",
      "qid: 505\tTop100\thas_answer: 0\n",
      "\n",
      "qid: 51\tTop100\thas_answer: 0\n",
      "\n",
      "qid: 510\tTop100\thas_answer: 0\n",
      "\n",
      "qid: 511\tTop100\thas_answer: 0\n",
      "\n",
      "qid: 514\tTop100\thas_answer: 0\n",
      "\n",
      "qid: 520\tTop100\thas_answer: 0\n",
      "\n",
      "qid: 529\tTop100\thas_answer: 0\n",
      "\n",
      "qid: 530\tTop100\thas_answer: 0\n",
      "\n",
      "qid: 536\tTop100\thas_answer: 0\n",
      "\n",
      "qid: 539\tTop100\thas_answer: 0\n",
      "\n",
      "qid: 541\tTop100\thas_answer: 0\n",
      "\n",
      "qid: 544\tTop100\thas_answer: 0\n",
      "\n",
      "qid: 561\tTop100\thas_answer: 0\n",
      "\n",
      "qid: 563\tTop100\thas_answer: 0\n",
      "\n",
      "qid: 565\tTop100\thas_answer: 0\n",
      "\n",
      "qid: 566\tTop100\thas_answer: 0\n",
      "\n",
      "qid: 567\tTop100\thas_answer: 0\n",
      "\n",
      "qid: 574\tTop100\thas_answer: 0\n",
      "\n",
      "qid: 59\tTop100\thas_answer: 0\n",
      "\n",
      "qid: 590\tTop100\thas_answer: 0\n",
      "\n",
      "qid: 607\tTop100\thas_answer: 0\n",
      "\n",
      "qid: 610\tTop100\thas_answer: 0\n",
      "\n",
      "qid: 614\tTop100\thas_answer: 0\n",
      "\n",
      "qid: 620\tTop100\thas_answer: 0\n",
      "\n",
      "qid: 623\tTop100\thas_answer: 0\n",
      "\n",
      "qid: 627\tTop100\thas_answer: 0\n",
      "\n",
      "qid: 63\tTop100\thas_answer: 0\n",
      "\n",
      "qid: 635\tTop100\thas_answer: 0\n",
      "\n",
      "qid: 644\tTop100\thas_answer: 0\n",
      "\n",
      "qid: 655\tTop100\thas_answer: 0\n",
      "\n",
      "qid: 663\tTop100\thas_answer: 0\n",
      "\n",
      "qid: 677\tTop100\thas_answer: 0\n",
      "\n",
      "qid: 702\tTop100\thas_answer: 0\n",
      "\n",
      "qid: 707\tTop100\thas_answer: 0\n",
      "\n",
      "qid: 741\tTop100\thas_answer: 0\n",
      "\n",
      "qid: 746\tTop100\thas_answer: 0\n",
      "\n",
      "qid: 753\tTop100\thas_answer: 0\n",
      "\n",
      "qid: 762\tTop100\thas_answer: 0\n",
      "\n",
      "qid: 765\tTop100\thas_answer: 0\n",
      "\n",
      "qid: 770\tTop100\thas_answer: 0\n",
      "\n",
      "qid: 772\tTop100\thas_answer: 0\n",
      "\n",
      "qid: 781\tTop100\thas_answer: 0\n",
      "\n",
      "qid: 797\tTop100\thas_answer: 0\n",
      "\n",
      "qid: 804\tTop100\thas_answer: 0\n",
      "\n",
      "qid: 806\tTop100\thas_answer: 0\n",
      "\n",
      "qid: 809\tTop100\thas_answer: 0\n",
      "\n",
      "qid: 815\tTop100\thas_answer: 0\n",
      "\n",
      "qid: 842\tTop100\thas_answer: 0\n",
      "\n",
      "qid: 847\tTop100\thas_answer: 0\n",
      "\n",
      "qid: 862\tTop100\thas_answer: 0\n",
      "\n",
      "qid: 866\tTop100\thas_answer: 0\n",
      "\n",
      "qid: 870\tTop100\thas_answer: 0\n",
      "\n",
      "qid: 873\tTop100\thas_answer: 0\n",
      "\n",
      "qid: 887\tTop100\thas_answer: 0\n",
      "\n",
      "qid: 893\tTop100\thas_answer: 0\n",
      "\n",
      "qid: 907\tTop100\thas_answer: 0\n",
      "\n",
      "qid: 924\tTop100\thas_answer: 0\n",
      "\n",
      "qid: 926\tTop100\thas_answer: 0\n",
      "\n",
      "qid: 930\tTop100\thas_answer: 0\n",
      "\n",
      "qid: 932\tTop100\thas_answer: 0\n",
      "\n",
      "qid: 936\tTop100\thas_answer: 0\n",
      "\n",
      "qid: 942\tTop100\thas_answer: 0\n",
      "\n",
      "qid: 951\tTop100\thas_answer: 0\n",
      "\n",
      "qid: 955\tTop100\thas_answer: 0\n",
      "\n",
      "qid: 958\tTop100\thas_answer: 0\n",
      "\n",
      "qid: 963\tTop100\thas_answer: 0\n",
      "\n",
      "qid: 964\tTop100\thas_answer: 0\n",
      "\n",
      "qid: 965\tTop100\thas_answer: 0\n",
      "\n",
      "qid: 977\tTop100\thas_answer: 0\n",
      "\n",
      "qid: 995\tTop100\thas_answer: 0\n",
      "\n",
      "qid: 996\tTop100\thas_answer: 0\n",
      "\n",
      "number of hard fails: 139\n",
      "acc upbound: 0.8642578125\n",
      "180 0.82421875 [0.0]\n",
      "177 0.8271484375 [0.05]\n",
      "172 0.83203125 [0.1]\n",
      "169 0.8349609375 [0.15, 0.5]\n",
      "168 0.8359375 [0.2, 0.45]\n",
      "166 0.837890625 [0.25, 0.35]\n",
      "167 0.8369140625 [0.3, 0.4]\n",
      "170 0.833984375 [0.55, 0.6, 0.65]\n",
      "171 0.8330078125 [0.7, 0.85]\n",
      "173 0.8310546875 [0.75, 0.8]\n",
      "183 0.8212890625 [0.9]\n",
      "200 0.8046875 [0.95]\n",
      "258 0.748046875 [1.0]\n"
     ]
    },
    {
     "name": "stderr",
     "output_type": "stream",
     "text": [
      "\n"
     ]
    }
   ],
   "source": [
    "from collections import defaultdict\n",
    "\n",
    "set_list = []\n",
    "\n",
    "alpha_fail_list = defaultdict(list)\n",
    "num_fail_alpha = defaultdict(list)\n",
    "\n",
    "for alpha in tqdm(np.arange(0, 1.05, 0.05)):\n",
    "  alpha = round(alpha, 2)\n",
    "  # alpha = f'{alpha:.2f}'\n",
    "  print(alpha)\n",
    "  filename = f'{io_path}/run.dpr.wq-test.multi.bf.bm25.{fusion_tag}.alpha-{alpha}.nq-{nq}.k-{k}.res'\n",
    "  s = set()\n",
    "  with open(filename, 'r') as file:\n",
    "    line = file.readline()\n",
    "    while line:\n",
    "      s.add(line)\n",
    "      line = file.readline()\n",
    "  set_list.append(s)\n",
    "  alpha_fail_list[alpha].append(len(s))\n",
    "  num_fail_alpha[len(s)].append(alpha)\n",
    "\n",
    "for i in range(1, len(set_list)):\n",
    "  set_list[i] &= set_list[i - 1]\n",
    "\n",
    "for fail in sorted(set_list[-1]):\n",
    "  print(fail)\n",
    "print(f'number of hard fails: {len(set_list[-1])}')\n",
    "print(f'acc upbound: {(nq - len(set_list[-1])) / nq}')\n",
    "\n",
    "for (num_fail, alpha) in num_fail_alpha.items():\n",
    "  print(num_fail, (nq - num_fail) / nq, alpha)"
   ]
  }
 ],
 "metadata": {
  "kernelspec": {
   "display_name": "pyserini",
   "language": "python",
   "name": "python3"
  },
  "language_info": {
   "codemirror_mode": {
    "name": "ipython",
    "version": 3
   },
   "file_extension": ".py",
   "mimetype": "text/x-python",
   "name": "python",
   "nbconvert_exporter": "python",
   "pygments_lexer": "ipython3",
   "version": "3.10.14"
  }
 },
 "nbformat": 4,
 "nbformat_minor": 2
}
