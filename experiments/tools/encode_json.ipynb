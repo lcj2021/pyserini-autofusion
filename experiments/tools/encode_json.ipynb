{
 "cells": [
  {
   "cell_type": "code",
   "execution_count": 1,
   "metadata": {},
   "outputs": [
    {
     "name": "stderr",
     "output_type": "stream",
     "text": [
      "Some weights of the model checkpoint at /dk/rag-dataset/encoder/dpr-question_encoder-multiset-base/ were not used when initializing DPRQuestionEncoder: ['question_encoder.bert_model.pooler.dense.bias', 'question_encoder.bert_model.pooler.dense.weight']\n",
      "- This IS expected if you are initializing DPRQuestionEncoder from the checkpoint of a model trained on another task or with another architecture (e.g. initializing a BertForSequenceClassification model from a BertForPreTraining model).\n",
      "- This IS NOT expected if you are initializing DPRQuestionEncoder from the checkpoint of a model that you expect to be exactly identical (initializing a BertForSequenceClassification model from a BertForSequenceClassification model).\n",
      "  0%|          | 0/1024 [00:00<?, ?it/s]/root/miniconda3/envs/pyserini/lib/python3.10/site-packages/torch/cuda/__init__.py:619: UserWarning: Can't initialize NVML\n",
      "  warnings.warn(\"Can't initialize NVML\")\n",
      "100%|██████████| 1024/1024 [00:28<00:00, 36.13it/s]\n"
     ]
    },
    {
     "data": {
      "text/plain": [
       "0"
      ]
     },
     "execution_count": 1,
     "metadata": {},
     "output_type": "execute_result"
    }
   ],
   "source": [
    "import os\n",
    "embedding_path = '/dk/rag-dataset/queries/query-embedding-dpr_multi-nq-train-slim-20240429-9323ec'\n",
    "os.makedirs(embedding_path, exist_ok=True)\n",
    "cmd0 = f'python /dk/lcj_rag/pyserini-autofusion/scripts/dpr/encode_queries.py \\\n",
    "      --encoder /dk/rag-dataset/encoder/dpr-question_encoder-multiset-base/ \\\n",
    "      --input ~/.cache/anserini/topics-and-qrels/topics.dpr.nq.train-slim.txt \\\n",
    "      --format csv \\\n",
    "      --output {embedding_path}/embedding.pkl'\n",
    "os.system(cmd0)"
   ]
  },
  {
   "cell_type": "code",
   "execution_count": 2,
   "metadata": {},
   "outputs": [
    {
     "data": {
      "text/plain": [
       "0"
      ]
     },
     "execution_count": 2,
     "metadata": {},
     "output_type": "execute_result"
    }
   ],
   "source": [
    "import os\n",
    "command = 'md5sum ' + embedding_path + '/embedding.pkl'\n",
    "\n",
    "output = os.popen(command).read()\n",
    "md5sum = output.split()[0]\n",
    "\n",
    "os.system(f'mv {embedding_path} {embedding_path}.{md5sum}')"
   ]
  }
 ],
 "metadata": {
  "kernelspec": {
   "display_name": "pyserini",
   "language": "python",
   "name": "python3"
  },
  "language_info": {
   "codemirror_mode": {
    "name": "ipython",
    "version": 3
   },
   "file_extension": ".py",
   "mimetype": "text/x-python",
   "name": "python",
   "nbconvert_exporter": "python",
   "pygments_lexer": "ipython3",
   "version": "3.10.14"
  }
 },
 "nbformat": 4,
 "nbformat_minor": 2
}
