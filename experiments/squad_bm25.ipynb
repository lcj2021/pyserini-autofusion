{
 "cells": [
  {
   "cell_type": "code",
   "execution_count": 1,
   "metadata": {},
   "outputs": [],
   "source": [
    "import os\n",
    "os.environ['JAVA_HOME'] = '/dk/jdk/jdk-21.0.3'\n",
    "os.environ['PYSERINI_CACHE'] = '/dk/rag-dataset/'"
   ]
  },
  {
   "cell_type": "code",
   "execution_count": 2,
   "metadata": {},
   "outputs": [
    {
     "name": "stdout",
     "output_type": "stream",
     "text": [
      "checking path: /dk/rag-dataset/indexes/lucene-index.wikipedia-dpr-100w.20210120.d1b9e6...\n"
     ]
    },
    {
     "name": "stderr",
     "output_type": "stream",
     "text": [
      "Apr 27, 2024 4:03:21 AM org.apache.lucene.store.MemorySegmentIndexInputProvider <init>\n",
      "INFO: Using MemorySegmentIndexInput with Java 21; to disable start with -Dorg.apache.lucene.store.MMapDirectory.enableMemorySegments=false\n"
     ]
    },
    {
     "name": "stdout",
     "output_type": "stream",
     "text": [
      "Running dpr-squad-test topics, saving to runs/run.dpr.squad-test.bm25.trec...\n"
     ]
    },
    {
     "name": "stderr",
     "output_type": "stream",
     "text": [
      "100%|██████████| 10570/10570 [07:56<00:00, 22.18it/s]\n"
     ]
    },
    {
     "data": {
      "text/plain": [
       "0"
      ]
     },
     "execution_count": 2,
     "metadata": {},
     "output_type": "execute_result"
    }
   ],
   "source": [
    "cmd0 = 'python -m pyserini.search.lucene \\\n",
    "    --index wikipedia-dpr-100w \\\n",
    "    --topics dpr-squad-test \\\n",
    "    --output runs/run.dpr.squad-test.bm25.trec \\\n",
    "    --threads 32 \\\n",
    "    --batch-size 96'\n",
    "os.system(cmd0) "
   ]
  },
  {
   "cell_type": "code",
   "execution_count": 3,
   "metadata": {},
   "outputs": [
    {
     "name": "stdout",
     "output_type": "stream",
     "text": [
      "checking path: /dk/rag-dataset/indexes/lucene-index.wikipedia-dpr-100w.20210120.d1b9e6...\n"
     ]
    },
    {
     "name": "stderr",
     "output_type": "stream",
     "text": [
      "Apr 26, 2024 5:24:32 AM org.apache.lucene.store.MemorySegmentIndexInputProvider <init>\n",
      "INFO: Using MemorySegmentIndexInput with Java 21; to disable start with -Dorg.apache.lucene.store.MMapDirectory.enableMemorySegments=false\n",
      "  4%|▍         | 152678/3610000 [03:13<1:49:36, 525.68it/s]"
     ]
    }
   ],
   "source": [
    "cmd1 = 'python -m pyserini.eval.convert_trec_run_to_dpr_retrieval_run \\\n",
    "  --index wikipedia-dpr-100w \\\n",
    "  --topics dpr-nq-test \\\n",
    "  --input runs/run.dpr.nq-test.bm25.trec \\\n",
    "  --output runs/run.dpr.nq-test.bm25.json'\n",
    "os.system(cmd1)"
   ]
  },
  {
   "cell_type": "code",
   "execution_count": null,
   "metadata": {},
   "outputs": [
    {
     "name": "stderr",
     "output_type": "stream",
     "text": [
      "Traceback (most recent call last):\n",
      "  File \"/root/miniconda3/envs/pyserini/lib/python3.10/runpy.py\", line 196, in _run_module_as_main\n",
      "    return _run_code(code, main_globals, None,\n",
      "  File \"/root/miniconda3/envs/pyserini/lib/python3.10/runpy.py\", line 86, in _run_code\n",
      "    exec(code, run_globals)\n",
      "  File \"/root/miniconda3/envs/pyserini/lib/python3.10/site-packages/pyserini/eval/evaluate_dpr_retrieval.py\", line 280, in <module>\n",
      "    evaluate_retrieval(args.retrieval, args.topk, args.regex)\n",
      "  File \"/root/miniconda3/envs/pyserini/lib/python3.10/site-packages/pyserini/eval/evaluate_dpr_retrieval.py\", line 243, in evaluate_retrieval\n",
      "    retrieval = json.load(open(retrieval_file))\n",
      "FileNotFoundError: [Errno 2] No such file or directory: 'runs/run.dpr.nq-test.bm25.json'\n"
     ]
    },
    {
     "data": {
      "text/plain": [
       "256"
      ]
     },
     "execution_count": 10,
     "metadata": {},
     "output_type": "execute_result"
    }
   ],
   "source": [
    "cmd2 = 'python -m pyserini.eval.evaluate_dpr_retrieval \\\n",
    "  --retrieval runs/run.dpr.nq-test.bm25.json \\\n",
    "  --topk 20 100'\n",
    "os.system(cmd2)"
   ]
  }
 ],
 "metadata": {
  "kernelspec": {
   "display_name": "rag",
   "language": "python",
   "name": "python3"
  },
  "language_info": {
   "codemirror_mode": {
    "name": "ipython",
    "version": 3
   },
   "file_extension": ".py",
   "mimetype": "text/x-python",
   "name": "python",
   "nbconvert_exporter": "python",
   "pygments_lexer": "ipython3",
   "version": "3.10.14"
  }
 },
 "nbformat": 4,
 "nbformat_minor": 2
}
