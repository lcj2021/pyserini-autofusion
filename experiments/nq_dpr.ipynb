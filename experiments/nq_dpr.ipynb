{
 "cells": [
  {
   "cell_type": "code",
   "execution_count": 1,
   "metadata": {},
   "outputs": [],
   "source": [
    "import os\n",
    "os.environ['JAVA_HOME'] = '/dk/jdk/jdk-21.0.3'\n",
    "os.environ['PYSERINI_CACHE'] = '/dk/rag-dataset/'"
   ]
  },
  {
   "cell_type": "code",
   "execution_count": 2,
   "metadata": {},
   "outputs": [
    {
     "name": "stdout",
     "output_type": "stream",
     "text": [
      "Attempting to initialize pre-encoded queries dpr_multi-nq-test.\n",
      "checking path: /dk/rag-dataset/queries/query-embedding-dpr_multi-nq-test-20210419-9323ec.1791f1ed078beb3a00847f75023eb020...\n",
      "/dk/rag-dataset/queries/query-embedding-dpr_multi-nq-test-20210419-9323ec.1791f1ed078beb3a00847f75023eb020 already exists, skipping download.\n",
      "Initializing dpr_multi-nq-test...\n",
      "Attempting to initialize pre-built index wikipedia-dpr-100w.dpr-multi.\n",
      "checking path: /dk/rag-dataset/indexes/faiss.wikipedia-dpr-100w.dpr_multi.20200127.f403c3...\n",
      "/dk/rag-dataset/indexes/faiss.wikipedia-dpr-100w.dpr_multi.20200127.f403c3 already exists, skipping download.\n",
      "Initializing wikipedia-dpr-100w.dpr-multi...\n",
      "checking path: /dk/rag-dataset/indexes/lucene-index.wikipedia-dpr-100w.20210120.d1b9e6...\n"
     ]
    },
    {
     "name": "stderr",
     "output_type": "stream",
     "text": [
      "Apr 26, 2024 7:19:17 AM org.apache.lucene.store.MemorySegmentIndexInputProvider <init>\n",
      "INFO: Using MemorySegmentIndexInput with Java 21; to disable start with -Dorg.apache.lucene.store.MMapDirectory.enableMemorySegments=false\n"
     ]
    },
    {
     "name": "stdout",
     "output_type": "stream",
     "text": [
      "Running dpr-nq-test topics, saving to runs/run.dpr.nq-test.multi.bf.trec...\n"
     ]
    },
    {
     "name": "stderr",
     "output_type": "stream",
     "text": [
      "100%|██████████| 3610/3610 [50:14<00:00,  1.20it/s]\n"
     ]
    },
    {
     "data": {
      "text/plain": [
       "0"
      ]
     },
     "execution_count": 2,
     "metadata": {},
     "output_type": "execute_result"
    }
   ],
   "source": [
    "cmd0 = 'python -m pyserini.search.faiss \\\n",
    "  --index wikipedia-dpr-100w.dpr-multi \\\n",
    "  --topics dpr-nq-test \\\n",
    "  --encoded-queries dpr_multi-nq-test \\\n",
    "  --output runs/run.dpr.nq-test.multi.bf.trec \\\n",
    "  --batch-size 96 --threads 32'\n",
    "os.system(cmd0)"
   ]
  },
  {
   "cell_type": "code",
   "execution_count": null,
   "metadata": {},
   "outputs": [],
   "source": [
    "cmd1 = 'python -m pyserini.eval.convert_trec_run_to_dpr_retrieval_run \\\n",
    "  --index wikipedia-dpr-100w \\\n",
    "  --topics dpr-nq-test \\\n",
    "  --input runs/run.dpr.nq-test.multi.bf.trec \\\n",
    "  --output runs/run.dpr.nq-test.multi.bf.json'\n",
    "os.system(cmd1)"
   ]
  },
  {
   "cell_type": "code",
   "execution_count": null,
   "metadata": {},
   "outputs": [],
   "source": [
    "cmd2 = 'python -m pyserini.eval.evaluate_dpr_retrieval \\\n",
    "  --retrieval runs/run.dpr.nq-test.multi.bf.json \\\n",
    "  --topk 20 100'\n",
    "os.system(cmd2)"
   ]
  }
 ],
 "metadata": {
  "kernelspec": {
   "display_name": "rag",
   "language": "python",
   "name": "python3"
  },
  "language_info": {
   "codemirror_mode": {
    "name": "ipython",
    "version": 3
   },
   "file_extension": ".py",
   "mimetype": "text/x-python",
   "name": "python",
   "nbconvert_exporter": "python",
   "pygments_lexer": "ipython3",
   "version": "3.10.14"
  }
 },
 "nbformat": 4,
 "nbformat_minor": 2
}
