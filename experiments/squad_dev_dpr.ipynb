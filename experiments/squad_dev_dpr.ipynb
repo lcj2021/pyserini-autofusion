{
 "cells": [
  {
   "cell_type": "code",
   "execution_count": 1,
   "metadata": {},
   "outputs": [],
   "source": [
    "import os"
   ]
  },
  {
   "cell_type": "code",
   "execution_count": 2,
   "metadata": {},
   "outputs": [
    {
     "name": "stderr",
     "output_type": "stream",
     "text": [
      "Traceback (most recent call last):\n",
      "  File \"/root/miniconda3/envs/pyserini/lib/python3.10/runpy.py\", line 196, in _run_module_as_main\n",
      "    return _run_code(code, main_globals, None,\n",
      "  File \"/root/miniconda3/envs/pyserini/lib/python3.10/runpy.py\", line 86, in _run_code\n",
      "    exec(code, run_globals)\n",
      "  File \"/root/miniconda3/envs/pyserini/lib/python3.10/site-packages/pyserini/search/faiss/__main__.py\", line 200, in <module>\n",
      "    query_iterator = get_query_iterator(args.topics, TopicsFormat(args.topics_format))\n",
      "  File \"/root/miniconda3/envs/pyserini/lib/python3.10/site-packages/pyserini/query_iterator.py\", line 187, in get_query_iterator\n",
      "    return mapping[topics_format].from_topics(topics_path)\n",
      "  File \"/root/miniconda3/envs/pyserini/lib/python3.10/site-packages/pyserini/query_iterator.py\", line 104, in from_topics\n",
      "    topics = get_topics(topics_path)\n",
      "  File \"/root/miniconda3/envs/pyserini/lib/python3.10/site-packages/pyserini/search/_base.py\", line 581, in get_topics\n",
      "    raise ValueError(f'Topic {collection_name} Not Found')\n",
      "ValueError: Topic dpr-squad-dev Not Found\n"
     ]
    },
    {
     "data": {
      "text/plain": [
       "256"
      ]
     },
     "execution_count": 2,
     "metadata": {},
     "output_type": "execute_result"
    }
   ],
   "source": [
    "cmd0 = 'python -m pyserini.search.faiss \\\n",
    "  --index wikipedia-dpr-100w.dpr-multi \\\n",
    "  --topics dpr-squad-dev \\\n",
    "  --encoded-queries dpr_multi-squad-dev \\\n",
    "  --output runs/run.dpr.squad-dev.multi.bf.trec \\\n",
    "  --batch-size 100 --threads 20'\n",
    "os.system(cmd0)"
   ]
  }
 ],
 "metadata": {
  "kernelspec": {
   "display_name": "rag",
   "language": "python",
   "name": "python3"
  },
  "language_info": {
   "codemirror_mode": {
    "name": "ipython",
    "version": 3
   },
   "file_extension": ".py",
   "mimetype": "text/x-python",
   "name": "python",
   "nbconvert_exporter": "python",
   "pygments_lexer": "ipython3",
   "version": "3.10.14"
  }
 },
 "nbformat": 4,
 "nbformat_minor": 2
}
