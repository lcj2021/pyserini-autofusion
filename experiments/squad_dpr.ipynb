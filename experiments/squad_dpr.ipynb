{
 "cells": [
  {
   "cell_type": "code",
   "execution_count": 1,
   "metadata": {},
   "outputs": [],
   "source": [
    "import os"
   ]
  },
  {
   "cell_type": "code",
   "execution_count": 2,
   "metadata": {},
   "outputs": [
    {
     "name": "stdout",
     "output_type": "stream",
     "text": [
      "Attempting to initialize pre-encoded queries dpr_multi-squad-test.\n",
      "checking path: /dk/rag-dataset/queries/query-embedding-dpr_multi-squad-test-20210419-9323ec.d11e0f801a488d51ad2a63b0748f4ae0...\n",
      "/dk/rag-dataset/queries/query-embedding-dpr_multi-squad-test-20210419-9323ec.d11e0f801a488d51ad2a63b0748f4ae0 already exists, skipping download.\n",
      "Initializing dpr_multi-squad-test...\n",
      "Attempting to initialize pre-built index wikipedia-dpr-100w.dpr-multi.\n",
      "checking path: /dk/rag-dataset/indexes/faiss.wikipedia-dpr-100w.dpr_multi.20200127.f403c3...\n",
      "/dk/rag-dataset/indexes/faiss.wikipedia-dpr-100w.dpr_multi.20200127.f403c3 already exists, skipping download.\n",
      "Initializing wikipedia-dpr-100w.dpr-multi...\n",
      "checking path: /dk/rag-dataset/indexes/lucene-index.wikipedia-dpr-100w.20210120.d1b9e6...\n"
     ]
    },
    {
     "name": "stderr",
     "output_type": "stream",
     "text": [
      "Apr 27, 2024 1:47:45 AM org.apache.lucene.store.MemorySegmentIndexInputProvider <init>\n",
      "INFO: Using MemorySegmentIndexInput with Java 21; to disable start with -Dorg.apache.lucene.store.MMapDirectory.enableMemorySegments=false\n"
     ]
    },
    {
     "name": "stdout",
     "output_type": "stream",
     "text": [
      "Running dpr-squad-test topics, saving to runs/run.dpr.squad-test.multi.bf.trec...\n"
     ]
    },
    {
     "name": "stderr",
     "output_type": "stream",
     "text": [
      "100%|██████████| 10570/10570 [2:13:56<00:00,  1.32it/s] \n"
     ]
    },
    {
     "data": {
      "text/plain": [
       "0"
      ]
     },
     "execution_count": 2,
     "metadata": {},
     "output_type": "execute_result"
    }
   ],
   "source": [
    "cmd0 = 'python -m pyserini.search.faiss \\\n",
    "  --index wikipedia-dpr-100w.dpr-multi \\\n",
    "  --topics dpr-squad-test \\\n",
    "  --encoded-queries dpr_multi-squad-test \\\n",
    "  --output runs/run.dpr.squad-test.multi.bf.trec \\\n",
    "  --batch-size 108 --threads 36'\n",
    "os.system(cmd0)"
   ]
  },
  {
   "cell_type": "code",
   "execution_count": null,
   "metadata": {},
   "outputs": [],
   "source": [
    "cmd1 = 'python -m pyserini.eval.convert_trec_run_to_dpr_retrieval_run \\\n",
    "  --index wikipedia-dpr-100w \\\n",
    "  --topics dpr-squad-test \\\n",
    "  --input runs/run.dpr.squad-test.multi.bf.trec \\\n",
    "  --output runs/run.dpr.squad-test.multi.bf.json'\n",
    "os.system(cmd1)"
   ]
  },
  {
   "cell_type": "code",
   "execution_count": null,
   "metadata": {},
   "outputs": [],
   "source": [
    "cmd2 = 'python -m pyserini.eval.evaluate_dpr_retrieval \\\n",
    "  --retrieval runs/run.dpr.squad-test.multi.bf.json \\\n",
    "  --topk 20 100'\n",
    "os.system(cmd2)"
   ]
  }
 ],
 "metadata": {
  "kernelspec": {
   "display_name": "rag",
   "language": "python",
   "name": "python3"
  },
  "language_info": {
   "codemirror_mode": {
    "name": "ipython",
    "version": 3
   },
   "file_extension": ".py",
   "mimetype": "text/x-python",
   "name": "python",
   "nbconvert_exporter": "python",
   "pygments_lexer": "ipython3",
   "version": "3.10.14"
  }
 },
 "nbformat": 4,
 "nbformat_minor": 2
}
