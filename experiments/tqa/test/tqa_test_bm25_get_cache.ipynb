{
 "cells": [
  {
   "cell_type": "code",
   "execution_count": null,
   "metadata": {},
   "outputs": [],
   "source": [
    "import os\n",
    "cmd1 = 'python -m pyserini.eval.convert_trec_run_to_dpr_retrieval_run_get_cache \\\n",
    "  --index wikipedia-dpr-100w \\\n",
    "  --topics dpr-trivia-test \\\n",
    "  --regex \\\n",
    "  --input /dk/lcj_rag/pyserini-autofusion/experiments/runs/base_trec/run.dpr.trivia-test.bm25.trec \\\n",
    "  --output /dk/lcj_rag/pyserini-autofusion/experiments/cache/trivia_test_bm25_qid_gt_set.pkl'\n",
    "os.system(cmd1)"
   ]
  }
 ],
 "metadata": {
  "kernelspec": {
   "display_name": "pyserini",
   "language": "python",
   "name": "python3"
  },
  "language_info": {
   "codemirror_mode": {
    "name": "ipython",
    "version": 3
   },
   "file_extension": ".py",
   "mimetype": "text/x-python",
   "name": "python",
   "nbconvert_exporter": "python",
   "pygments_lexer": "ipython3",
   "version": "3.1.-1"
  }
 },
 "nbformat": 4,
 "nbformat_minor": 2
}
