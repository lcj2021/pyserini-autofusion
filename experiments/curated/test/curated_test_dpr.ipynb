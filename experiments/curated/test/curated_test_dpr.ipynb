{
 "cells": [
  {
   "cell_type": "code",
   "execution_count": 2,
   "metadata": {},
   "outputs": [
    {
     "name": "stdout",
     "output_type": "stream",
     "text": [
      "resultPath: /root/.cache/pyserini/topics-and-qrels/topics.dpr.curated.test.txt\n",
      "Attempting to initialize pre-encoded queries dpr_multi-curated-test.\n",
      "checking path: /dk/rag-dataset/queries/query-embedding-dpr_multi-curated-test-20210419-9323ec.d1737d3ec5a080d93350ae76b02c7fd1...\n",
      "Downloading index at https://github.com/castorini/pyserini-data/raw/main/encoded-queries/query-embedding-dpr_multi-curated-test-20210419-9323ec.tar.gz...\n"
     ]
    },
    {
     "name": "stderr",
     "output_type": "stream",
     "text": [
      "query-embedding-dpr_multi-curated-test-20210419-9323ec.tar.gz: 1.91MB [00:03, 535kB/s]                             \n"
     ]
    },
    {
     "name": "stdout",
     "output_type": "stream",
     "text": [
      "Extracting /dk/rag-dataset/queries/query-embedding-dpr_multi-curated-test-20210419-9323ec.tar.gz into /dk/rag-dataset/queries/query-embedding-dpr_multi-curated-test-20210419-9323ec.d1737d3ec5a080d93350ae76b02c7fd1...\n",
      "Initializing dpr_multi-curated-test...\n",
      "Attempting to initialize pre-built index wikipedia-dpr-100w.dpr-multi.\n",
      "checking path: /dk/rag-dataset/indexes/faiss.wikipedia-dpr-100w.dpr_multi.20200127.f403c3...\n",
      "/dk/rag-dataset/indexes/faiss.wikipedia-dpr-100w.dpr_multi.20200127.f403c3 already exists, skipping download.\n",
      "Initializing wikipedia-dpr-100w.dpr-multi...\n",
      "checking path: /dk/rag-dataset/indexes/lucene-index.wikipedia-dpr-100w.20210120.d1b9e6...\n"
     ]
    },
    {
     "name": "stderr",
     "output_type": "stream",
     "text": [
      "Jul 01, 2024 12:10:44 PM org.apache.lucene.store.MemorySegmentIndexInputProvider <init>\n",
      "INFO: Using MemorySegmentIndexInput with Java 21; to disable start with -Dorg.apache.lucene.store.MMapDirectory.enableMemorySegments=false\n"
     ]
    },
    {
     "name": "stdout",
     "output_type": "stream",
     "text": [
      "Running dpr-curated-test topics, saving to /dk/lcj_rag/pyserini-autofusion/experiments/runs/base_trec/run.dpr.curated-test.multi.bf.trec...\n"
     ]
    },
    {
     "name": "stderr",
     "output_type": "stream",
     "text": [
      "100%|██████████| 694/694 [11:22<00:00,  1.02it/s]\n"
     ]
    },
    {
     "data": {
      "text/plain": [
       "0"
      ]
     },
     "execution_count": 2,
     "metadata": {},
     "output_type": "execute_result"
    }
   ],
   "source": [
    "import os\n",
    "cmd0 = 'python -m pyserini.search.faiss \\\n",
    "  --index wikipedia-dpr-100w.dpr-multi \\\n",
    "  --topics dpr-curated-test \\\n",
    "  --encoded-queries dpr_multi-curated-test \\\n",
    "  --output /dk/lcj_rag/pyserini-autofusion/experiments/runs/base_trec/run.dpr.curated-test.multi.bf.trec \\\n",
    "  --batch-size 108 --threads 18'\n",
    "os.system(cmd0)"
   ]
  }
 ],
 "metadata": {
  "kernelspec": {
   "display_name": "rag",
   "language": "python",
   "name": "python3"
  },
  "language_info": {
   "codemirror_mode": {
    "name": "ipython",
    "version": 3
   },
   "file_extension": ".py",
   "mimetype": "text/x-python",
   "name": "python",
   "nbconvert_exporter": "python",
   "pygments_lexer": "ipython3",
   "version": "3.10.14"
  }
 },
 "nbformat": 4,
 "nbformat_minor": 2
}
