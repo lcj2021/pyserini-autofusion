{
 "cells": [
  {
   "cell_type": "code",
   "execution_count": 1,
   "metadata": {},
   "outputs": [
    {
     "name": "stderr",
     "output_type": "stream",
     "text": [
      "May 25, 2024 1:26:44 AM org.apache.lucene.store.MemorySegmentIndexInputProvider <init>\n",
      "INFO: Using MemorySegmentIndexInput with Java 21; to disable start with -Dorg.apache.lucene.store.MMapDirectory.enableMemorySegments=false\n",
      "100%|██████████| 3610000/3610000 [00:03<00:00, 932882.66it/s]\n",
      "100%|██████████| 3610000/3610000 [28:15<00:00, 2129.75it/s]\n"
     ]
    },
    {
     "data": {
      "text/plain": [
       "0"
      ]
     },
     "execution_count": 1,
     "metadata": {},
     "output_type": "execute_result"
    }
   ],
   "source": [
    "import os\n",
    "cmd1 = 'python -m pyserini.eval.convert_trec_run_to_dpr_retrieval_run_get_cache \\\n",
    "  --index wikipedia-dpr-100w \\\n",
    "  --topics dpr-nq-test \\\n",
    "  --input /dk/lcj_rag/pyserini-autofusion/experiments/runs/base_trec/run.dpr.nq-test.multi.bf.trec \\\n",
    "  --output /dk/lcj_rag/pyserini-autofusion/experiments/cache/nq_test_bf_qid_gt_set.pkl'\n",
    "os.system(cmd1 + ' 1> /dk/lcj_rag/nq_test_bf_get_cache.log')"
   ]
  }
 ],
 "metadata": {
  "kernelspec": {
   "display_name": "pyserini",
   "language": "python",
   "name": "python3"
  },
  "language_info": {
   "codemirror_mode": {
    "name": "ipython",
    "version": 3
   },
   "file_extension": ".py",
   "mimetype": "text/x-python",
   "name": "python",
   "nbconvert_exporter": "python",
   "pygments_lexer": "ipython3",
   "version": "3.10.14"
  }
 },
 "nbformat": 4,
 "nbformat_minor": 2
}
