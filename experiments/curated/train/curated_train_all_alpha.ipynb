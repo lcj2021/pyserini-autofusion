{
 "cells": [
  {
   "cell_type": "code",
   "execution_count": 1,
   "metadata": {},
   "outputs": [],
   "source": [
    "import numpy as np\n",
    "from tqdm import tqdm\n",
    "import os\n",
    "\n",
    "io_path = '/dk/lcj_rag/pyserini-autofusion/experiments/runs'\n",
    "\n",
    "depth=1000\n",
    "#  alpha*bf + (1-alpha)*bm25\n",
    "alpha = 0.5\n",
    "nq = -1\n",
    "k=100\n",
    "\n",
    "bf_trec_path = f'{io_path}/base_trec/run.dpr.curated-train.bm25.trec'\n",
    "bm25_trec_path = f'{io_path}/base_trec/run.dpr.curated-train.multi.bf.trec'\n",
    "cache_path = '/dk/lcj_rag/pyserini-autofusion/experiments/cache/'\n",
    "fusion_tag = 'fusion'\n"
   ]
  },
  {
   "cell_type": "code",
   "execution_count": 2,
   "metadata": {},
   "outputs": [
    {
     "name": "stderr",
     "output_type": "stream",
     "text": [
      "  0%|          | 0/2 [00:00<?, ?it/s]"
     ]
    },
    {
     "name": "stdout",
     "output_type": "stream",
     "text": [
      "0\n",
      "num_queries: 1121000\n"
     ]
    },
    {
     "name": "stderr",
     "output_type": "stream",
     "text": [
      " 50%|█████     | 1/2 [00:26<00:26, 26.74s/it]"
     ]
    },
    {
     "name": "stdout",
     "output_type": "stream",
     "text": [
      "1.0\n",
      "num_queries: 1121000\n"
     ]
    },
    {
     "name": "stderr",
     "output_type": "stream",
     "text": [
      "100%|██████████| 2/2 [00:55<00:00, 27.80s/it]\n"
     ]
    }
   ],
   "source": [
    "\n",
    "# for alpha in tqdm([0, 0.5, 1.00]):\n",
    "for alpha in tqdm([0, 1.00]):\n",
    "#     alpha = round(alpha, 2)\n",
    "    alpha = f'{alpha:.2f}'\n",
    "    print(alpha)\n",
    "    train_out_trec_path = f'{io_path}/curated_train/run.dpr.curated-train.{fusion_tag}.alpha-{alpha}.nq-{nq}.k-{k}.trec'\n",
    "    train_out_json_path = f'{io_path}/curated_train/run.dpr.curated-train.{fusion_tag}.alpha-{alpha}.nq-{nq}.k-{k}.json'\n",
    "    cmd0 = f'python -m pyserini.autofusion \\\n",
    "            --runs {bf_trec_path} {bm25_trec_path} \\\n",
    "            --runtag {fusion_tag} \\\n",
    "            --method interpolation  \\\n",
    "            --alpha {alpha} \\\n",
    "            --depth {depth}  \\\n",
    "            --nq {nq}  \\\n",
    "            --k {k} \\\n",
    "            --output {train_out_trec_path}'\n",
    "    # print(cmd0)\n",
    "    os.system(cmd0)\n"
   ]
  },
  {
   "cell_type": "code",
   "execution_count": 4,
   "metadata": {},
   "outputs": [
    {
     "name": "stderr",
     "output_type": "stream",
     "text": [
      "  0%|          | 0/2 [00:00<?, ?it/s]"
     ]
    },
    {
     "name": "stdout",
     "output_type": "stream",
     "text": [
      "resultPath: /root/.cache/pyserini/topics-and-qrels/topics.dpr.curated.train.txt\n",
      "checking path: /dk/rag-dataset/indexes/lucene-index.wikipedia-dpr-100w.20210120.d1b9e6...\n"
     ]
    },
    {
     "name": "stderr",
     "output_type": "stream",
     "text": [
      "Jul 01, 2024 11:58:57 AM org.apache.lucene.store.MemorySegmentIndexInputProvider <init>\n",
      "INFO: Using MemorySegmentIndexInput with Java 21; to disable start with -Dorg.apache.lucene.store.MMapDirectory.enableMemorySegments=false\n",
      "100%|██████████| 112100/112100 [00:20<00:00, 5443.21it/s]\n",
      " 50%|█████     | 1/2 [00:30<00:30, 30.28s/it]"
     ]
    },
    {
     "name": "stdout",
     "output_type": "stream",
     "text": [
      "resultPath: /root/.cache/pyserini/topics-and-qrels/topics.dpr.curated.train.txt\n",
      "checking path: /dk/rag-dataset/indexes/lucene-index.wikipedia-dpr-100w.20210120.d1b9e6...\n"
     ]
    },
    {
     "name": "stderr",
     "output_type": "stream",
     "text": [
      "Jul 01, 2024 11:59:27 AM org.apache.lucene.store.MemorySegmentIndexInputProvider <init>\n",
      "INFO: Using MemorySegmentIndexInput with Java 21; to disable start with -Dorg.apache.lucene.store.MMapDirectory.enableMemorySegments=false\n",
      "100%|██████████| 112100/112100 [00:20<00:00, 5362.76it/s]\n",
      "100%|██████████| 2/2 [01:00<00:00, 30.48s/it]\n"
     ]
    }
   ],
   "source": [
    "nq = -1\n",
    "# for alpha in tqdm([0]):\n",
    "for alpha in tqdm([0, 1.00]):\n",
    "    # alpha = round(alpha, 2)\n",
    "    alpha = f'{alpha:.1f}'\n",
    "    # alphafile = f'/dk/lcj_rag/pyserini-autofusion/experiments/runs/curated_train/alpha-{alpha}.csv'\n",
    "    train_out_trec_path = f'{io_path}/curated_train/run.dpr.curated-train.{fusion_tag}.alpha-{alpha}.nq-{nq}.k-{k}.trec'\n",
    "    train_out_json_path = f'{io_path}/curated_train/run.dpr.curated-train.{fusion_tag}.alpha-{alpha}.nq-{nq}.k-{k}.json'\n",
    "    # cmd0 = f'python -m pyserini.autofusion \\\n",
    "    #         --runs {bf_trec_path} {bm25_trec_path} \\\n",
    "    #         --runtag {fusion_tag}-custom \\\n",
    "    #         --method custom  \\\n",
    "    #         --alphafile {alphafile} \\\n",
    "    #         --depth {depth}  \\\n",
    "    #         --nq {nq}  \\\n",
    "    #         --k {k} \\\n",
    "    #         --output {train_out_trec_path}'\n",
    "    # # print(cmd0)\n",
    "    # os.system(cmd0)\n",
    "\n",
    "    # cmd1 = f'python -m pyserini.eval.convert_trec_run_to_dpr_retrieval_run \\\n",
    "    #     --index wikipedia-dpr-100w \\\n",
    "    #     --topics dpr-curated-train \\\n",
    "    #     --input {train_out_trec_path} \\\n",
    "    #     --output {train_out_json_path}'\n",
    "    # os.system(cmd1)\n",
    "\n",
    "    cache_path = '/dk/lcj_rag/pyserini-autofusion/experiments/cache/'\n",
    "    cmd1 = f'python -m pyserini.eval.convert_trec_run_to_dpr_retrieval_run_on_cache \\\n",
    "    --index wikipedia-dpr-100w \\\n",
    "    --topics dpr-curated-train \\\n",
    "    --gt \"\" {cache_path}curated_train_qid_gt_set.pkl \\\n",
    "    --input {train_out_trec_path} \\\n",
    "    --output {train_out_json_path}'\n",
    "    os.system(cmd1)\n",
    "    "
   ]
  },
  {
   "cell_type": "code",
   "execution_count": 5,
   "metadata": {},
   "outputs": [
    {
     "name": "stderr",
     "output_type": "stream",
     "text": [
      "  0%|          | 0/3 [00:00<?, ?it/s]\n",
      "1121it [00:00, 18733.67it/s]\n",
      " 33%|███▎      | 1/3 [00:00<00:01,  2.00it/s]\n",
      "1121it [00:00, 15470.41it/s]\n",
      " 67%|██████▋   | 2/3 [00:00<00:00,  2.13it/s]\n",
      "1121it [00:00, 18728.82it/s]\n",
      "100%|██████████| 3/3 [00:01<00:00,  2.25it/s]\n"
     ]
    },
    {
     "name": "stdout",
     "output_type": "stream",
     "text": [
      "/dk/lcj_rag/pyserini-autofusion/experiments/runs/curated_train/run.dpr.curated-train.fusion.all-alpha.nq--1.k-100.res.test\n"
     ]
    }
   ],
   "source": [
    "filename = f'{io_path}/curated_train/run.dpr.curated-train.{fusion_tag}.all-alpha.nq-{nq}.k-{k}.res.test'\n",
    "train_out_json_path = f'{io_path}/curated_train/run.dpr.curated-train.{fusion_tag}.alpha-?.nq-{nq}.k-{k}.json'\n",
    "\n",
    "cmd2 = f'python -m pyserini.eval.evaluate_dpr_retrieval_all_alpha \\\n",
    "    --retrieval {train_out_json_path} \\\n",
    "    --topk 100  \\\n",
    "    --traindata False'\n",
    "res = os.system(cmd2 + f'1> {filename}')\n",
    "print(filename)"
   ]
  },
  {
   "cell_type": "code",
   "execution_count": null,
   "metadata": {},
   "outputs": [],
   "source": []
  }
 ],
 "metadata": {
  "kernelspec": {
   "display_name": "pyserini",
   "language": "python",
   "name": "python3"
  },
  "language_info": {
   "codemirror_mode": {
    "name": "ipython",
    "version": 3
   },
   "file_extension": ".py",
   "mimetype": "text/x-python",
   "name": "python",
   "nbconvert_exporter": "python",
   "pygments_lexer": "ipython3",
   "version": "3.10.14"
  }
 },
 "nbformat": 4,
 "nbformat_minor": 2
}
