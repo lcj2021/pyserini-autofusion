{
 "cells": [
  {
   "cell_type": "code",
   "execution_count": 1,
   "metadata": {},
   "outputs": [
    {
     "name": "stdout",
     "output_type": "stream",
     "text": [
      "resultPath: /root/.cache/pyserini/topics-and-qrels/topics.dpr.wq.test.txt\n",
      "checking path: /dk/rag-dataset/indexes/lucene-index.wikipedia-dpr-100w.20210120.d1b9e6...\n"
     ]
    },
    {
     "name": "stderr",
     "output_type": "stream",
     "text": [
      "Jun 01, 2024 8:14:31 AM org.apache.lucene.store.MemorySegmentIndexInputProvider <init>\n",
      "INFO: Using MemorySegmentIndexInput with Java 21; to disable start with -Dorg.apache.lucene.store.MMapDirectory.enableMemorySegments=false\n",
      "100%|██████████| 2032000/2032000 [00:02<00:00, 958119.63it/s]\n",
      "100%|██████████| 2032000/2032000 [25:06<00:00, 1348.65it/s]\n"
     ]
    },
    {
     "data": {
      "text/plain": [
       "0"
      ]
     },
     "execution_count": 1,
     "metadata": {},
     "output_type": "execute_result"
    }
   ],
   "source": [
    "import os\n",
    "cmd1 = 'python -m pyserini.eval.convert_trec_run_to_dpr_retrieval_run_get_cache \\\n",
    "  --index wikipedia-dpr-100w \\\n",
    "  --topics dpr-wq-test \\\n",
    "  --input /dk/lcj_rag/pyserini-autofusion/experiments/runs/base_trec/run.dpr.wq-test.bm25.trec \\\n",
    "  --output /dk/lcj_rag/pyserini-autofusion/experiments/cache/wq_test_bm25_qid_gt_set.pkl'\n",
    "os.system(cmd1)\n",
    "\n",
    "# line 1029931"
   ]
  },
  {
   "cell_type": "code",
   "execution_count": 6,
   "metadata": {},
   "outputs": [
    {
     "name": "stdout",
     "output_type": "stream",
     "text": [
      "True\n"
     ]
    }
   ],
   "source": [
    "import pickle\n",
    "def load_dict_from_file(file_path):\n",
    "    with open(file_path, 'rb') as file:\n",
    "        data = pickle.load(file)\n",
    "    return data\n",
    "\n",
    "gt = load_dict_from_file('/dk/lcj_rag/pyserini-autofusion/experiments/cache/wq_test_bm25_qid_gt_set.pkl')\n",
    "print('1844610' in gt[2021])"
   ]
  }
 ],
 "metadata": {
  "kernelspec": {
   "display_name": "pyserini",
   "language": "python",
   "name": "python3"
  },
  "language_info": {
   "codemirror_mode": {
    "name": "ipython",
    "version": 3
   },
   "file_extension": ".py",
   "mimetype": "text/x-python",
   "name": "python",
   "nbconvert_exporter": "python",
   "pygments_lexer": "ipython3",
   "version": "3.10.14"
  }
 },
 "nbformat": 4,
 "nbformat_minor": 2
}
