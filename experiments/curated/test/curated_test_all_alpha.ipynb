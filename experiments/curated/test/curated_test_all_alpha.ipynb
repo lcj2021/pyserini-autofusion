{
 "cells": [
  {
   "cell_type": "code",
   "execution_count": 1,
   "metadata": {},
   "outputs": [],
   "source": [
    "import numpy as np\n",
    "from tqdm import tqdm\n",
    "import os\n",
    "\n",
    "io_path = '/dk/lcj_rag/pyserini-autofusion/experiments/runs'\n",
    "\n",
    "depth=1000\n",
    "#  alpha*bf + (1-alpha)*bm25\n",
    "alpha = 0.5\n",
    "nq = -1\n",
    "k=100\n",
    "\n",
    "bf_trec_path = f'{io_path}/base_trec/run.dpr.curated-test.bm25.trec'\n",
    "bm25_trec_path = f'{io_path}/base_trec/run.dpr.curated-test.multi.bf.trec'\n",
    "cache_path = '/dk/lcj_rag/pyserini-autofusion/experiments/cache/'\n",
    "fusion_tag = 'fusion'\n"
   ]
  },
  {
   "cell_type": "code",
   "execution_count": 2,
   "metadata": {},
   "outputs": [
    {
     "name": "stderr",
     "output_type": "stream",
     "text": [
      "  0%|          | 0/2 [00:00<?, ?it/s]"
     ]
    },
    {
     "name": "stdout",
     "output_type": "stream",
     "text": [
      "0.0\n",
      "num_queries: 694000\n"
     ]
    },
    {
     "name": "stderr",
     "output_type": "stream",
     "text": [
      " 50%|█████     | 1/2 [00:16<00:16, 16.31s/it]"
     ]
    },
    {
     "name": "stdout",
     "output_type": "stream",
     "text": [
      "1.0\n",
      "num_queries: 694000\n"
     ]
    },
    {
     "name": "stderr",
     "output_type": "stream",
     "text": [
      "100%|██████████| 2/2 [00:33<00:00, 16.81s/it]\n"
     ]
    }
   ],
   "source": [
    "for alpha in tqdm([0, 1.00]):\n",
    "#     alpha = round(alpha, 2)\n",
    "    alpha = f'{alpha:.1f}'\n",
    "    print(alpha)\n",
    "    out_trec_path = f'{io_path}/curated_test/run.dpr.curated-test.{fusion_tag}.alpha-{alpha}.nq-{nq}.k-{k}.trec'\n",
    "    out_json_path = f'{io_path}/curated_test/run.dpr.curated-test.{fusion_tag}.alpha-{alpha}.nq-{nq}.k-{k}.json'\n",
    "    cmd0 = f'python -m pyserini.autofusion \\\n",
    "            --runs {bf_trec_path} {bm25_trec_path} \\\n",
    "            --runtag {fusion_tag} \\\n",
    "            --method interpolation  \\\n",
    "            --alpha {alpha} \\\n",
    "            --depth {depth}  \\\n",
    "            --nq {nq}  \\\n",
    "            --k {k} \\\n",
    "            --output {out_trec_path}'\n",
    "    # print(cmd0)\n",
    "    os.system(cmd0)\n"
   ]
  },
  {
   "cell_type": "code",
   "execution_count": 8,
   "metadata": {},
   "outputs": [
    {
     "name": "stderr",
     "output_type": "stream",
     "text": [
      "  0%|          | 0/2 [00:00<?, ?it/s]"
     ]
    },
    {
     "name": "stdout",
     "output_type": "stream",
     "text": [
      "resultPath: /root/.cache/pyserini/topics-and-qrels/topics.dpr.curated.test.txt\n",
      "checking path: /dk/rag-dataset/indexes/lucene-index.wikipedia-dpr-100w.20210120.d1b9e6...\n"
     ]
    },
    {
     "name": "stderr",
     "output_type": "stream",
     "text": [
      "Jul 01, 2024 2:43:44 PM org.apache.lucene.store.MemorySegmentIndexInputProvider <init>\n",
      "INFO: Using MemorySegmentIndexInput with Java 21; to disable start with -Dorg.apache.lucene.store.MMapDirectory.enableMemorySegments=false\n",
      "100%|██████████| 69400/69400 [00:10<00:00, 6440.40it/s]\n",
      " 50%|█████     | 1/2 [00:19<00:19, 19.81s/it]"
     ]
    },
    {
     "name": "stdout",
     "output_type": "stream",
     "text": [
      "resultPath: /root/.cache/pyserini/topics-and-qrels/topics.dpr.curated.test.txt\n",
      "checking path: /dk/rag-dataset/indexes/lucene-index.wikipedia-dpr-100w.20210120.d1b9e6...\n"
     ]
    },
    {
     "name": "stderr",
     "output_type": "stream",
     "text": [
      "Jul 01, 2024 2:44:04 PM org.apache.lucene.store.MemorySegmentIndexInputProvider <init>\n",
      "INFO: Using MemorySegmentIndexInput with Java 21; to disable start with -Dorg.apache.lucene.store.MMapDirectory.enableMemorySegments=false\n",
      "100%|██████████| 69400/69400 [00:10<00:00, 6549.33it/s]\n",
      "100%|██████████| 2/2 [00:39<00:00, 19.65s/it]\n"
     ]
    }
   ],
   "source": [
    "nq = -1\n",
    "for alpha in tqdm([0, 1.00]):\n",
    "    alpha = f'{alpha:.1f}'\n",
    "    # alphafile = f'/dk/lcj_rag/pyserini-autofusion/experiments/runs/curated_test/alpha-{alpha}.csv'\n",
    "    out_trec_path = f'{io_path}/curated_test/run.dpr.curated-test.{fusion_tag}.alpha-{alpha}.nq-{nq}.k-{k}.trec'\n",
    "    out_json_path = f'{io_path}/curated_test/run.dpr.curated-test.{fusion_tag}.alpha-{alpha}.nq-{nq}.k-{k}.json'\n",
    "    \n",
    "    cache_path = '/dk/lcj_rag/pyserini-autofusion/experiments/cache/'\n",
    "    cmd1 = f'python -m pyserini.eval.convert_trec_run_to_dpr_retrieval_run_on_cache \\\n",
    "    --index wikipedia-dpr-100w \\\n",
    "    --topics dpr-curated-test \\\n",
    "    --gt {cache_path}curated_test_bm25_qid_gt_set.pkl {cache_path}curated_test_bf_qid_gt_set.pkl \\\n",
    "    --input {out_trec_path} \\\n",
    "    --output {out_json_path}'\n",
    "    os.system(cmd1)\n",
    "    "
   ]
  },
  {
   "cell_type": "code",
   "execution_count": 9,
   "metadata": {},
   "outputs": [
    {
     "name": "stderr",
     "output_type": "stream",
     "text": [
      "  0%|          | 0/3 [00:00<?, ?it/s]\n",
      "694it [00:00, 21187.67it/s]\n",
      " 33%|███▎      | 1/3 [00:00<00:00,  5.20it/s]\n",
      "694it [00:00, 20628.21it/s]\n",
      " 67%|██████▋   | 2/3 [00:00<00:00,  5.14it/s]\n",
      "694it [00:00, 19998.40it/s]\n",
      "100%|██████████| 3/3 [00:00<00:00,  4.55it/s]\n"
     ]
    },
    {
     "name": "stdout",
     "output_type": "stream",
     "text": [
      "/dk/lcj_rag/pyserini-autofusion/experiments/runs/curated_test/run.dpr.curated-test.fusion.all-alpha.nq--1.k-100.res.test\n"
     ]
    }
   ],
   "source": [
    "filename = f'{io_path}/curated_test/run.dpr.curated-test.{fusion_tag}.all-alpha.nq-{nq}.k-{k}.res.test'\n",
    "out_json_path = f'{io_path}/curated_test/run.dpr.curated-test.{fusion_tag}.alpha-?.nq-{nq}.k-{k}.json'\n",
    "\n",
    "cmd2 = f'python -m pyserini.eval.evaluate_dpr_retrieval_all_alpha \\\n",
    "    --retrieval {out_json_path} \\\n",
    "    --topk 100  \\\n",
    "    --traindata False'\n",
    "res = os.system(cmd2 + f'1> {filename}')\n",
    "print(filename)"
   ]
  },
  {
   "cell_type": "code",
   "execution_count": null,
   "metadata": {},
   "outputs": [],
   "source": []
  }
 ],
 "metadata": {
  "kernelspec": {
   "display_name": "pyserini",
   "language": "python",
   "name": "python3"
  },
  "language_info": {
   "codemirror_mode": {
    "name": "ipython",
    "version": 3
   },
   "file_extension": ".py",
   "mimetype": "text/x-python",
   "name": "python",
   "nbconvert_exporter": "python",
   "pygments_lexer": "ipython3",
   "version": "3.1.-1"
  }
 },
 "nbformat": 4,
 "nbformat_minor": 2
}
