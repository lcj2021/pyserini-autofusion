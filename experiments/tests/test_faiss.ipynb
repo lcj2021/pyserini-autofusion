{
 "cells": [
  {
   "cell_type": "code",
   "execution_count": 1,
   "metadata": {},
   "outputs": [
    {
     "name": "stdout",
     "output_type": "stream",
     "text": [
      "(1000000, 100)\n"
     ]
    }
   ],
   "source": [
    "import numpy as np\n",
    "\n",
    "def generate_random_vectors(num_vectors, vector_dim):\n",
    "    data = np.random.rand(num_vectors, vector_dim).astype(np.float32)\n",
    "    return data\n",
    "\n",
    "# 生成 1 百万个 100 维随机向量\n",
    "num_vectors = 1000000\n",
    "vector_dim = 100\n",
    "\n",
    "random_vectors = generate_random_vectors(num_vectors, vector_dim)\n",
    "\n",
    "print(str(random_vectors.shape))"
   ]
  },
  {
   "cell_type": "code",
   "execution_count": 2,
   "metadata": {},
   "outputs": [],
   "source": [
    "import multiprocessing\n",
    "\n",
    "physical_cores = multiprocessing.cpu_count()"
   ]
  },
  {
   "cell_type": "code",
   "execution_count": 8,
   "metadata": {},
   "outputs": [],
   "source": [
    "# import faiss\n",
    "# import numpy as np\n",
    "\n",
    "# # 创建索引\n",
    "# index = faiss.IndexFlatL2(vector_dim)\n",
    "# index.add(random_vectors)\n",
    "\n",
    "# # 执行批量搜索\n",
    "# k = 5  # 要返回的最近邻数量\n",
    "# num_queries = 10000  # 查询向量的数量\n",
    "# query_vectors = np.random.rand(num_queries, vector_dim).astype(np.float32)  # 生成查询向量\n",
    "\n",
    "# # 设置 Faiss 搜索时的线程数\n",
    "# faiss.omp_set_num_threads(6)\n",
    "\n",
    "# D, I = index.search(query_vectors, k)\n",
    "\n",
    "# # # 输出结果\n",
    "# # for i in range(num_queries):\n",
    "# #     print(f\"查询向量 {i+1} 的最近邻索引：\", I[i])\n",
    "# #     print(f\"查询向量 {i+1} 的最近邻距离：\", D[i])"
   ]
  }
 ],
 "metadata": {
  "kernelspec": {
   "display_name": "pyserini",
   "language": "python",
   "name": "python3"
  },
  "language_info": {
   "codemirror_mode": {
    "name": "ipython",
    "version": 3
   },
   "file_extension": ".py",
   "mimetype": "text/x-python",
   "name": "python",
   "nbconvert_exporter": "python",
   "pygments_lexer": "ipython3",
   "version": "3.10.14"
  }
 },
 "nbformat": 4,
 "nbformat_minor": 2
}
