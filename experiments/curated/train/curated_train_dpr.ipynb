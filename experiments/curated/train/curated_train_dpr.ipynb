{
 "cells": [
  {
   "cell_type": "code",
   "execution_count": 1,
   "metadata": {},
   "outputs": [],
   "source": [
    "import os\n"
   ]
  },
  {
   "cell_type": "code",
   "execution_count": 2,
   "metadata": {},
   "outputs": [
    {
     "name": "stdout",
     "output_type": "stream",
     "text": [
      "resultPath: /root/.cache/pyserini/topics-and-qrels/topics.dpr.curated.train.txt\n",
      "Attempting to initialize pre-encoded queries dpr_multi-curated-train.\n",
      "checking path: /dk/rag-dataset/queries/query-embedding-dpr_multi-curated-train-20240701-9323ec.ba96e83f1b06bb6d48fc3616a16dff2f...\n",
      "/dk/rag-dataset/queries/query-embedding-dpr_multi-curated-train-20240701-9323ec.ba96e83f1b06bb6d48fc3616a16dff2f already exists, skipping download.\n",
      "Initializing dpr_multi-curated-train...\n",
      "Attempting to initialize pre-built index wikipedia-dpr-100w.dpr-multi.\n",
      "checking path: /dk/rag-dataset/indexes/faiss.wikipedia-dpr-100w.dpr_multi.20200127.f403c3...\n",
      "/dk/rag-dataset/indexes/faiss.wikipedia-dpr-100w.dpr_multi.20200127.f403c3 already exists, skipping download.\n",
      "Initializing wikipedia-dpr-100w.dpr-multi...\n",
      "checking path: /dk/rag-dataset/indexes/lucene-index.wikipedia-dpr-100w.20210120.d1b9e6...\n"
     ]
    },
    {
     "name": "stderr",
     "output_type": "stream",
     "text": [
      "Jul 01, 2024 11:21:15 AM org.apache.lucene.store.MemorySegmentIndexInputProvider <init>\n",
      "INFO: Using MemorySegmentIndexInput with Java 21; to disable start with -Dorg.apache.lucene.store.MMapDirectory.enableMemorySegments=false\n"
     ]
    },
    {
     "name": "stdout",
     "output_type": "stream",
     "text": [
      "Running dpr-curated-train topics, saving to /dk/lcj_rag/pyserini-autofusion/experiments/runs/base_trec/run.dpr.curated-train.multi.bf.trec...\n"
     ]
    },
    {
     "name": "stderr",
     "output_type": "stream",
     "text": [
      "100%|██████████| 1121/1121 [18:10<00:00,  1.03it/s]\n"
     ]
    },
    {
     "data": {
      "text/plain": [
       "0"
      ]
     },
     "execution_count": 2,
     "metadata": {},
     "output_type": "execute_result"
    }
   ],
   "source": [
    "cmd0 = 'python -m pyserini.search.faiss \\\n",
    "  --index wikipedia-dpr-100w.dpr-multi \\\n",
    "  --topics dpr-curated-train \\\n",
    "  --encoded-queries dpr_multi-curated-train \\\n",
    "  --output /dk/lcj_rag/pyserini-autofusion/experiments/runs/base_trec/run.dpr.curated-train.multi.bf.trec \\\n",
    "  --batch-size 108 --threads 18'\n",
    "os.system(cmd0)"
   ]
  },
  {
   "cell_type": "code",
   "execution_count": 1,
   "metadata": {},
   "outputs": [
    {
     "ename": "NameError",
     "evalue": "name 'os' is not defined",
     "output_type": "error",
     "traceback": [
      "\u001b[0;31m---------------------------------------------------------------------------\u001b[0m",
      "\u001b[0;31mNameError\u001b[0m                                 Traceback (most recent call last)",
      "Cell \u001b[0;32mIn[1], line 6\u001b[0m\n\u001b[1;32m      1\u001b[0m cmd1 \u001b[38;5;241m=\u001b[39m \u001b[38;5;124m'\u001b[39m\u001b[38;5;124mpython -m pyserini.eval.convert_trec_run_to_dpr_retrieval_run \u001b[39m\u001b[38;5;130;01m\\\u001b[39;00m\n\u001b[1;32m      2\u001b[0m \u001b[38;5;124m  --index wikipedia-dpr-100w \u001b[39m\u001b[38;5;130;01m\\\u001b[39;00m\n\u001b[1;32m      3\u001b[0m \u001b[38;5;124m  --topics dpr-squad-test \u001b[39m\u001b[38;5;130;01m\\\u001b[39;00m\n\u001b[1;32m      4\u001b[0m \u001b[38;5;124m  --input runs/base_trec/run.dpr.squad-test.multi.bf.trec \u001b[39m\u001b[38;5;130;01m\\\u001b[39;00m\n\u001b[1;32m      5\u001b[0m \u001b[38;5;124m  --output runs/base_trec/run.dpr.squad-test.multi.bf.json\u001b[39m\u001b[38;5;124m'\u001b[39m\n\u001b[0;32m----> 6\u001b[0m \u001b[43mos\u001b[49m\u001b[38;5;241m.\u001b[39msystem(cmd1)\n",
      "\u001b[0;31mNameError\u001b[0m: name 'os' is not defined"
     ]
    }
   ],
   "source": [
    "# cmd1 = 'python -m pyserini.eval.convert_trec_run_to_dpr_retrieval_run \\\n",
    "#   --index wikipedia-dpr-100w \\\n",
    "#   --topics dpr-curated-test \\\n",
    "#   --input runs/base_trec/run.dpr.curated-test.multi.bf.trec \\\n",
    "#   --output runs/base_trec/run.dpr.curated-test.multi.bf.json'\n",
    "# os.system(cmd1)"
   ]
  },
  {
   "cell_type": "code",
   "execution_count": null,
   "metadata": {},
   "outputs": [],
   "source": [
    "# cmd2 = 'python -m pyserini.eval.evaluate_dpr_retrieval \\\n",
    "#   --retrieval runs/run.dpr.nq-test.multi.bf.json \\\n",
    "#   --topk 20 100'\n",
    "# os.system(cmd2)"
   ]
  }
 ],
 "metadata": {
  "kernelspec": {
   "display_name": "rag",
   "language": "python",
   "name": "python3"
  },
  "language_info": {
   "codemirror_mode": {
    "name": "ipython",
    "version": 3
   },
   "file_extension": ".py",
   "mimetype": "text/x-python",
   "name": "python",
   "nbconvert_exporter": "python",
   "pygments_lexer": "ipython3",
   "version": "3.10.14"
  }
 },
 "nbformat": 4,
 "nbformat_minor": 2
}
