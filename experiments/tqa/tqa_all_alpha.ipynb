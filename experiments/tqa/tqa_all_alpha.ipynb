{
 "cells": [
  {
   "cell_type": "code",
   "execution_count": 1,
   "metadata": {},
   "outputs": [
    {
     "name": "stderr",
     "output_type": "stream",
     "text": [
      "  0%|          | 0/21 [00:00<?, ?it/s]"
     ]
    },
    {
     "name": "stdout",
     "output_type": "stream",
     "text": [
      "checking path: /dk/rag-dataset/indexes/lucene-index.wikipedia-dpr-100w.20210120.d1b9e6...\n"
     ]
    },
    {
     "name": "stderr",
     "output_type": "stream",
     "text": [
      "Apr 26, 2024 3:03:44 PM org.apache.lucene.store.MemorySegmentIndexInputProvider <init>\n",
      "INFO: Using MemorySegmentIndexInput with Java 21; to disable start with -Dorg.apache.lucene.store.MMapDirectory.enableMemorySegments=false\n",
      "100%|██████████| 102400/102400 [02:13<00:00, 765.68it/s]\n",
      "100%|██████████| 1024/1024 [00:00<00:00, 27100.32it/s]\n",
      "  5%|▍         | 1/21 [03:31<1:10:23, 211.16s/it]"
     ]
    },
    {
     "name": "stdout",
     "output_type": "stream",
     "text": [
      "checking path: /dk/rag-dataset/indexes/lucene-index.wikipedia-dpr-100w.20210120.d1b9e6...\n"
     ]
    },
    {
     "name": "stderr",
     "output_type": "stream",
     "text": [
      "Apr 26, 2024 3:07:14 PM org.apache.lucene.store.MemorySegmentIndexInputProvider <init>\n",
      "INFO: Using MemorySegmentIndexInput with Java 21; to disable start with -Dorg.apache.lucene.store.MMapDirectory.enableMemorySegments=false\n",
      "100%|██████████| 102400/102400 [02:14<00:00, 764.03it/s]\n",
      "100%|██████████| 1024/1024 [00:00<00:00, 27142.79it/s]\n",
      " 10%|▉         | 2/21 [07:01<1:06:40, 210.53s/it]"
     ]
    },
    {
     "name": "stdout",
     "output_type": "stream",
     "text": [
      "checking path: /dk/rag-dataset/indexes/lucene-index.wikipedia-dpr-100w.20210120.d1b9e6...\n"
     ]
    },
    {
     "name": "stderr",
     "output_type": "stream",
     "text": [
      "Apr 26, 2024 3:10:44 PM org.apache.lucene.store.MemorySegmentIndexInputProvider <init>\n",
      "INFO: Using MemorySegmentIndexInput with Java 21; to disable start with -Dorg.apache.lucene.store.MMapDirectory.enableMemorySegments=false\n",
      "100%|██████████| 102400/102400 [02:13<00:00, 766.13it/s]\n",
      "100%|██████████| 1024/1024 [00:00<00:00, 27482.69it/s]\n",
      " 14%|█▍        | 3/21 [10:30<1:03:01, 210.09s/it]"
     ]
    },
    {
     "name": "stdout",
     "output_type": "stream",
     "text": [
      "checking path: /dk/rag-dataset/indexes/lucene-index.wikipedia-dpr-100w.20210120.d1b9e6...\n"
     ]
    },
    {
     "name": "stderr",
     "output_type": "stream",
     "text": [
      "Apr 26, 2024 3:14:13 PM org.apache.lucene.store.MemorySegmentIndexInputProvider <init>\n",
      "INFO: Using MemorySegmentIndexInput with Java 21; to disable start with -Dorg.apache.lucene.store.MMapDirectory.enableMemorySegments=false\n",
      "100%|██████████| 102400/102400 [02:14<00:00, 763.72it/s]\n",
      "100%|██████████| 1024/1024 [00:00<00:00, 27475.66it/s]\n",
      " 19%|█▉        | 4/21 [14:00<59:28, 209.91s/it]  "
     ]
    },
    {
     "name": "stdout",
     "output_type": "stream",
     "text": [
      "checking path: /dk/rag-dataset/indexes/lucene-index.wikipedia-dpr-100w.20210120.d1b9e6...\n"
     ]
    },
    {
     "name": "stderr",
     "output_type": "stream",
     "text": [
      "Apr 26, 2024 3:17:43 PM org.apache.lucene.store.MemorySegmentIndexInputProvider <init>\n",
      "INFO: Using MemorySegmentIndexInput with Java 21; to disable start with -Dorg.apache.lucene.store.MMapDirectory.enableMemorySegments=false\n",
      "100%|██████████| 102400/102400 [02:11<00:00, 776.73it/s]\n",
      "100%|██████████| 1024/1024 [00:00<00:00, 27678.93it/s]\n",
      " 24%|██▍       | 5/21 [17:28<55:45, 209.08s/it]"
     ]
    },
    {
     "name": "stdout",
     "output_type": "stream",
     "text": [
      "checking path: /dk/rag-dataset/indexes/lucene-index.wikipedia-dpr-100w.20210120.d1b9e6...\n"
     ]
    },
    {
     "name": "stderr",
     "output_type": "stream",
     "text": [
      "Apr 26, 2024 3:21:11 PM org.apache.lucene.store.MemorySegmentIndexInputProvider <init>\n",
      "INFO: Using MemorySegmentIndexInput with Java 21; to disable start with -Dorg.apache.lucene.store.MMapDirectory.enableMemorySegments=false\n",
      "100%|██████████| 102400/102400 [02:11<00:00, 779.81it/s]\n",
      "100%|██████████| 1024/1024 [00:00<00:00, 27560.82it/s]\n",
      " 29%|██▊       | 6/21 [20:55<52:06, 208.45s/it]"
     ]
    },
    {
     "name": "stdout",
     "output_type": "stream",
     "text": [
      "checking path: /dk/rag-dataset/indexes/lucene-index.wikipedia-dpr-100w.20210120.d1b9e6...\n"
     ]
    },
    {
     "name": "stderr",
     "output_type": "stream",
     "text": [
      "Apr 26, 2024 3:24:40 PM org.apache.lucene.store.MemorySegmentIndexInputProvider <init>\n",
      "INFO: Using MemorySegmentIndexInput with Java 21; to disable start with -Dorg.apache.lucene.store.MMapDirectory.enableMemorySegments=false\n",
      "100%|██████████| 102400/102400 [02:13<00:00, 767.30it/s]\n",
      "100%|██████████| 1024/1024 [00:00<00:00, 27370.43it/s]\n",
      " 33%|███▎      | 7/21 [24:26<48:51, 209.42s/it]"
     ]
    },
    {
     "name": "stdout",
     "output_type": "stream",
     "text": [
      "checking path: /dk/rag-dataset/indexes/lucene-index.wikipedia-dpr-100w.20210120.d1b9e6...\n"
     ]
    },
    {
     "name": "stderr",
     "output_type": "stream",
     "text": [
      "Apr 26, 2024 3:28:10 PM org.apache.lucene.store.MemorySegmentIndexInputProvider <init>\n",
      "INFO: Using MemorySegmentIndexInput with Java 21; to disable start with -Dorg.apache.lucene.store.MMapDirectory.enableMemorySegments=false\n",
      "100%|██████████| 102400/102400 [02:13<00:00, 765.08it/s]\n",
      "100%|██████████| 1024/1024 [00:00<00:00, 27663.78it/s]\n",
      " 38%|███▊      | 8/21 [27:57<45:27, 209.84s/it]"
     ]
    },
    {
     "name": "stdout",
     "output_type": "stream",
     "text": [
      "checking path: /dk/rag-dataset/indexes/lucene-index.wikipedia-dpr-100w.20210120.d1b9e6...\n"
     ]
    },
    {
     "name": "stderr",
     "output_type": "stream",
     "text": [
      "Apr 26, 2024 3:31:40 PM org.apache.lucene.store.MemorySegmentIndexInputProvider <init>\n",
      "INFO: Using MemorySegmentIndexInput with Java 21; to disable start with -Dorg.apache.lucene.store.MMapDirectory.enableMemorySegments=false\n",
      "100%|██████████| 102400/102400 [02:13<00:00, 765.12it/s]\n",
      "100%|██████████| 1024/1024 [00:00<00:00, 27700.17it/s]\n",
      " 43%|████▎     | 9/21 [31:27<41:59, 209.97s/it]"
     ]
    },
    {
     "name": "stdout",
     "output_type": "stream",
     "text": [
      "checking path: /dk/rag-dataset/indexes/lucene-index.wikipedia-dpr-100w.20210120.d1b9e6...\n"
     ]
    },
    {
     "name": "stderr",
     "output_type": "stream",
     "text": [
      "Apr 26, 2024 3:35:11 PM org.apache.lucene.store.MemorySegmentIndexInputProvider <init>\n",
      "INFO: Using MemorySegmentIndexInput with Java 21; to disable start with -Dorg.apache.lucene.store.MMapDirectory.enableMemorySegments=false\n",
      "100%|██████████| 102400/102400 [02:16<00:00, 749.41it/s]\n",
      "100%|██████████| 1024/1024 [00:00<00:00, 27514.91it/s]\n",
      " 48%|████▊     | 10/21 [35:00<38:39, 210.88s/it]"
     ]
    },
    {
     "name": "stdout",
     "output_type": "stream",
     "text": [
      "checking path: /dk/rag-dataset/indexes/lucene-index.wikipedia-dpr-100w.20210120.d1b9e6...\n"
     ]
    },
    {
     "name": "stderr",
     "output_type": "stream",
     "text": [
      "Apr 26, 2024 3:38:43 PM org.apache.lucene.store.MemorySegmentIndexInputProvider <init>\n",
      "INFO: Using MemorySegmentIndexInput with Java 21; to disable start with -Dorg.apache.lucene.store.MMapDirectory.enableMemorySegments=false\n",
      "100%|██████████| 102400/102400 [02:11<00:00, 779.30it/s]\n",
      "100%|██████████| 1024/1024 [00:00<00:00, 27551.09it/s]\n",
      " 52%|█████▏    | 11/21 [38:27<34:56, 209.69s/it]"
     ]
    },
    {
     "name": "stdout",
     "output_type": "stream",
     "text": [
      "checking path: /dk/rag-dataset/indexes/lucene-index.wikipedia-dpr-100w.20210120.d1b9e6...\n"
     ]
    },
    {
     "name": "stderr",
     "output_type": "stream",
     "text": [
      "Apr 26, 2024 3:42:10 PM org.apache.lucene.store.MemorySegmentIndexInputProvider <init>\n",
      "INFO: Using MemorySegmentIndexInput with Java 21; to disable start with -Dorg.apache.lucene.store.MMapDirectory.enableMemorySegments=false\n",
      "100%|██████████| 102400/102400 [02:13<00:00, 769.69it/s]\n",
      "100%|██████████| 1024/1024 [00:00<00:00, 27643.30it/s]\n",
      " 57%|█████▋    | 12/21 [41:56<31:26, 209.57s/it]"
     ]
    },
    {
     "name": "stdout",
     "output_type": "stream",
     "text": [
      "checking path: /dk/rag-dataset/indexes/lucene-index.wikipedia-dpr-100w.20210120.d1b9e6...\n"
     ]
    },
    {
     "name": "stderr",
     "output_type": "stream",
     "text": [
      "Apr 26, 2024 3:45:39 PM org.apache.lucene.store.MemorySegmentIndexInputProvider <init>\n",
      "INFO: Using MemorySegmentIndexInput with Java 21; to disable start with -Dorg.apache.lucene.store.MMapDirectory.enableMemorySegments=false\n",
      "100%|██████████| 102400/102400 [02:11<00:00, 780.67it/s]\n",
      "100%|██████████| 1024/1024 [00:00<00:00, 26956.26it/s]\n",
      " 62%|██████▏   | 13/21 [45:23<27:50, 208.75s/it]"
     ]
    },
    {
     "name": "stdout",
     "output_type": "stream",
     "text": [
      "checking path: /dk/rag-dataset/indexes/lucene-index.wikipedia-dpr-100w.20210120.d1b9e6...\n"
     ]
    },
    {
     "name": "stderr",
     "output_type": "stream",
     "text": [
      "Apr 26, 2024 3:49:06 PM org.apache.lucene.store.MemorySegmentIndexInputProvider <init>\n",
      "INFO: Using MemorySegmentIndexInput with Java 21; to disable start with -Dorg.apache.lucene.store.MMapDirectory.enableMemorySegments=false\n",
      "100%|██████████| 102400/102400 [02:14<00:00, 763.09it/s]\n",
      "100%|██████████| 1024/1024 [00:00<00:00, 27596.41it/s]\n",
      " 67%|██████▋   | 14/21 [48:53<24:23, 209.11s/it]"
     ]
    },
    {
     "name": "stdout",
     "output_type": "stream",
     "text": [
      "checking path: /dk/rag-dataset/indexes/lucene-index.wikipedia-dpr-100w.20210120.d1b9e6...\n"
     ]
    },
    {
     "name": "stderr",
     "output_type": "stream",
     "text": [
      "Apr 26, 2024 3:52:35 PM org.apache.lucene.store.MemorySegmentIndexInputProvider <init>\n",
      "INFO: Using MemorySegmentIndexInput with Java 21; to disable start with -Dorg.apache.lucene.store.MMapDirectory.enableMemorySegments=false\n",
      "100%|██████████| 102400/102400 [02:12<00:00, 770.74it/s]\n",
      "100%|██████████| 1024/1024 [00:00<00:00, 27558.52it/s]\n",
      " 71%|███████▏  | 15/21 [52:21<20:52, 208.75s/it]"
     ]
    },
    {
     "name": "stdout",
     "output_type": "stream",
     "text": [
      "checking path: /dk/rag-dataset/indexes/lucene-index.wikipedia-dpr-100w.20210120.d1b9e6...\n"
     ]
    },
    {
     "name": "stderr",
     "output_type": "stream",
     "text": [
      "Apr 26, 2024 3:56:04 PM org.apache.lucene.store.MemorySegmentIndexInputProvider <init>\n",
      "INFO: Using MemorySegmentIndexInput with Java 21; to disable start with -Dorg.apache.lucene.store.MMapDirectory.enableMemorySegments=false\n",
      "100%|██████████| 102400/102400 [02:11<00:00, 777.96it/s]\n",
      "100%|██████████| 1024/1024 [00:00<00:00, 27091.94it/s]\n",
      " 76%|███████▌  | 16/21 [55:48<17:21, 208.21s/it]"
     ]
    },
    {
     "name": "stdout",
     "output_type": "stream",
     "text": [
      "checking path: /dk/rag-dataset/indexes/lucene-index.wikipedia-dpr-100w.20210120.d1b9e6...\n"
     ]
    },
    {
     "name": "stderr",
     "output_type": "stream",
     "text": [
      "Apr 26, 2024 3:59:30 PM org.apache.lucene.store.MemorySegmentIndexInputProvider <init>\n",
      "INFO: Using MemorySegmentIndexInput with Java 21; to disable start with -Dorg.apache.lucene.store.MMapDirectory.enableMemorySegments=false\n",
      "100%|██████████| 102400/102400 [02:13<00:00, 767.92it/s]\n",
      "100%|██████████| 1024/1024 [00:00<00:00, 27676.61it/s]\n",
      " 81%|████████  | 17/21 [59:17<13:53, 208.35s/it]"
     ]
    },
    {
     "name": "stdout",
     "output_type": "stream",
     "text": [
      "checking path: /dk/rag-dataset/indexes/lucene-index.wikipedia-dpr-100w.20210120.d1b9e6...\n"
     ]
    },
    {
     "name": "stderr",
     "output_type": "stream",
     "text": [
      "Apr 26, 2024 4:02:59 PM org.apache.lucene.store.MemorySegmentIndexInputProvider <init>\n",
      "INFO: Using MemorySegmentIndexInput with Java 21; to disable start with -Dorg.apache.lucene.store.MMapDirectory.enableMemorySegments=false\n",
      "100%|██████████| 102400/102400 [02:13<00:00, 769.33it/s]\n",
      "100%|██████████| 1024/1024 [00:00<00:00, 27713.22it/s]\n",
      " 86%|████████▌ | 18/21 [1:02:45<10:25, 208.46s/it]"
     ]
    },
    {
     "name": "stdout",
     "output_type": "stream",
     "text": [
      "checking path: /dk/rag-dataset/indexes/lucene-index.wikipedia-dpr-100w.20210120.d1b9e6...\n"
     ]
    },
    {
     "name": "stderr",
     "output_type": "stream",
     "text": [
      "Apr 26, 2024 4:06:28 PM org.apache.lucene.store.MemorySegmentIndexInputProvider <init>\n",
      "INFO: Using MemorySegmentIndexInput with Java 21; to disable start with -Dorg.apache.lucene.store.MMapDirectory.enableMemorySegments=false\n",
      "100%|██████████| 102400/102400 [02:15<00:00, 756.68it/s]\n",
      "100%|██████████| 1024/1024 [00:00<00:00, 27639.39it/s]\n",
      " 90%|█████████ | 19/21 [1:06:17<06:58, 209.25s/it]"
     ]
    },
    {
     "name": "stdout",
     "output_type": "stream",
     "text": [
      "checking path: /dk/rag-dataset/indexes/lucene-index.wikipedia-dpr-100w.20210120.d1b9e6...\n"
     ]
    },
    {
     "name": "stderr",
     "output_type": "stream",
     "text": [
      "Apr 26, 2024 4:10:00 PM org.apache.lucene.store.MemorySegmentIndexInputProvider <init>\n",
      "INFO: Using MemorySegmentIndexInput with Java 21; to disable start with -Dorg.apache.lucene.store.MMapDirectory.enableMemorySegments=false\n",
      "100%|██████████| 102400/102400 [02:18<00:00, 740.36it/s]\n",
      "100%|██████████| 1024/1024 [00:00<00:00, 27652.38it/s]\n",
      " 95%|█████████▌| 20/21 [1:09:51<03:30, 210.74s/it]"
     ]
    },
    {
     "name": "stdout",
     "output_type": "stream",
     "text": [
      "checking path: /dk/rag-dataset/indexes/lucene-index.wikipedia-dpr-100w.20210120.d1b9e6...\n"
     ]
    },
    {
     "name": "stderr",
     "output_type": "stream",
     "text": [
      "Apr 26, 2024 4:13:35 PM org.apache.lucene.store.MemorySegmentIndexInputProvider <init>\n",
      "INFO: Using MemorySegmentIndexInput with Java 21; to disable start with -Dorg.apache.lucene.store.MMapDirectory.enableMemorySegments=false\n",
      "100%|██████████| 102400/102400 [02:16<00:00, 750.86it/s]\n",
      "100%|██████████| 1024/1024 [00:00<00:00, 27515.26it/s]\n",
      "100%|██████████| 21/21 [1:13:24<00:00, 209.75s/it]\n"
     ]
    }
   ],
   "source": [
    "import numpy as np\n",
    "from tqdm import tqdm\n",
    "\n",
    "import os\n",
    "os.environ['JAVA_HOME'] = '/dk/jdk/jdk-21.0.3'\n",
    "os.environ['PYSERINI_CACHE'] = '/dk/rag-dataset/'\n",
    "io_path = '/dk/lcj_rag/pyserini-autofusion/experiments/runs'\n",
    "\n",
    "depth=1000\n",
    "#  alpha*bf + (1-alpha)*bm25\n",
    "alpha = 0.5\n",
    "nq = 1024\n",
    "k=100\n",
    "\n",
    "bf_trec_path = f'{io_path}/run.dpr.trivia-test.bm25.trec'\n",
    "bm25_trec_path = f'{io_path}/run.dpr.trivia-test.multi.bf.trec'\n",
    "fusion_tag = 'fusion'\n",
    "\n",
    "for alpha in tqdm(np.arange(0, 1.05, 0.05)):\n",
    "  alpha = round(alpha, 2)\n",
    "  out_trec_path = f'{io_path}/run.dpr.trivia-test.multi.bf.bm25.{fusion_tag}.alpha-{alpha}.nq-{nq}.k-{k}.trec'\n",
    "  out_json_path = f'{io_path}/run.dpr.trivia-test.multi.bf.bm25.{fusion_tag}.alpha-{alpha}.nq-{nq}.k-{k}.json'\n",
    "  cmd0 = f'python -m pyserini.autofusion \\\n",
    "          --runs {bf_trec_path} {bm25_trec_path} \\\n",
    "          --runtag {fusion_tag} \\\n",
    "          --method interpolation  \\\n",
    "          --alpha {alpha} \\\n",
    "          --depth {depth}  \\\n",
    "          --nq {nq}  \\\n",
    "          --k {k} \\\n",
    "          --output {out_trec_path}'\n",
    "  # print(cmd0)\n",
    "  os.system(cmd0)\n",
    "\n",
    "  cmd1 = f'python -m pyserini.eval.convert_trec_run_to_dpr_retrieval_run \\\n",
    "    --index wikipedia-dpr-100w \\\n",
    "    --topics dpr-trivia-test \\\n",
    "    --input {out_trec_path} \\\n",
    "    --output {out_json_path}'\n",
    "  os.system(cmd1)\n",
    "\n",
    "  cmd2 = f'python -m pyserini.eval.evaluate_dpr_retrieval \\\n",
    "    --retrieval {out_json_path} \\\n",
    "    --topk 100'\n",
    "  filename = f'{io_path}/run.dpr.trivia-test.multi.bf.bm25.{fusion_tag}.alpha-{alpha}.nq-{nq}.k-{k}.res'\n",
    "  res = os.system(cmd2 + ' 1>' + filename)\n"
   ]
  },
  {
   "cell_type": "code",
   "execution_count": 2,
   "metadata": {},
   "outputs": [
    {
     "name": "stderr",
     "output_type": "stream",
     "text": [
      "100%|██████████| 21/21 [00:00<00:00, 4121.68it/s]"
     ]
    },
    {
     "name": "stdout",
     "output_type": "stream",
     "text": [
      "0.0\n",
      "0.05\n",
      "0.1\n",
      "0.15\n",
      "0.2\n",
      "0.25\n",
      "0.3\n",
      "0.35\n",
      "0.4\n",
      "0.45\n",
      "0.5\n",
      "0.55\n",
      "0.6\n",
      "0.65\n",
      "0.7\n",
      "0.75\n",
      "0.8\n",
      "0.85\n",
      "0.9\n",
      "0.95\n",
      "1.0\n",
      "qid: 101\tTop100\thas_answer: 0\n",
      "\n",
      "qid: 1016\tTop100\thas_answer: 0\n",
      "\n",
      "qid: 110\tTop100\thas_answer: 0\n",
      "\n",
      "qid: 113\tTop100\thas_answer: 0\n",
      "\n",
      "qid: 114\tTop100\thas_answer: 0\n",
      "\n",
      "qid: 13\tTop100\thas_answer: 0\n",
      "\n",
      "qid: 14\tTop100\thas_answer: 0\n",
      "\n",
      "qid: 147\tTop100\thas_answer: 0\n",
      "\n",
      "qid: 15\tTop100\thas_answer: 0\n",
      "\n",
      "qid: 151\tTop100\thas_answer: 0\n",
      "\n",
      "qid: 16\tTop100\thas_answer: 0\n",
      "\n",
      "qid: 162\tTop100\thas_answer: 0\n",
      "\n",
      "qid: 164\tTop100\thas_answer: 0\n",
      "\n",
      "qid: 165\tTop100\thas_answer: 0\n",
      "\n",
      "qid: 169\tTop100\thas_answer: 0\n",
      "\n",
      "qid: 17\tTop100\thas_answer: 0\n",
      "\n",
      "qid: 182\tTop100\thas_answer: 0\n",
      "\n",
      "qid: 215\tTop100\thas_answer: 0\n",
      "\n",
      "qid: 226\tTop100\thas_answer: 0\n",
      "\n",
      "qid: 231\tTop100\thas_answer: 0\n",
      "\n",
      "qid: 245\tTop100\thas_answer: 0\n",
      "\n",
      "qid: 259\tTop100\thas_answer: 0\n",
      "\n",
      "qid: 300\tTop100\thas_answer: 0\n",
      "\n",
      "qid: 301\tTop100\thas_answer: 0\n",
      "\n",
      "qid: 302\tTop100\thas_answer: 0\n",
      "\n",
      "qid: 316\tTop100\thas_answer: 0\n",
      "\n",
      "qid: 32\tTop100\thas_answer: 0\n",
      "\n",
      "qid: 320\tTop100\thas_answer: 0\n",
      "\n",
      "qid: 329\tTop100\thas_answer: 0\n",
      "\n",
      "qid: 33\tTop100\thas_answer: 0\n",
      "\n",
      "qid: 332\tTop100\thas_answer: 0\n",
      "\n",
      "qid: 337\tTop100\thas_answer: 0\n",
      "\n",
      "qid: 34\tTop100\thas_answer: 0\n",
      "\n",
      "qid: 350\tTop100\thas_answer: 0\n",
      "\n",
      "qid: 352\tTop100\thas_answer: 0\n",
      "\n",
      "qid: 356\tTop100\thas_answer: 0\n",
      "\n",
      "qid: 36\tTop100\thas_answer: 0\n",
      "\n",
      "qid: 372\tTop100\thas_answer: 0\n",
      "\n",
      "qid: 373\tTop100\thas_answer: 0\n",
      "\n",
      "qid: 38\tTop100\thas_answer: 0\n",
      "\n",
      "qid: 384\tTop100\thas_answer: 0\n",
      "\n",
      "qid: 386\tTop100\thas_answer: 0\n",
      "\n",
      "qid: 39\tTop100\thas_answer: 0\n",
      "\n",
      "qid: 391\tTop100\thas_answer: 0\n",
      "\n",
      "qid: 401\tTop100\thas_answer: 0\n",
      "\n",
      "qid: 404\tTop100\thas_answer: 0\n",
      "\n",
      "qid: 413\tTop100\thas_answer: 0\n",
      "\n",
      "qid: 414\tTop100\thas_answer: 0\n",
      "\n",
      "qid: 42\tTop100\thas_answer: 0\n",
      "\n",
      "qid: 425\tTop100\thas_answer: 0\n",
      "\n",
      "qid: 426\tTop100\thas_answer: 0\n",
      "\n",
      "qid: 427\tTop100\thas_answer: 0\n",
      "\n",
      "qid: 43\tTop100\thas_answer: 0\n",
      "\n",
      "qid: 432\tTop100\thas_answer: 0\n",
      "\n",
      "qid: 434\tTop100\thas_answer: 0\n",
      "\n",
      "qid: 447\tTop100\thas_answer: 0\n",
      "\n",
      "qid: 45\tTop100\thas_answer: 0\n",
      "\n",
      "qid: 454\tTop100\thas_answer: 0\n",
      "\n",
      "qid: 460\tTop100\thas_answer: 0\n",
      "\n",
      "qid: 473\tTop100\thas_answer: 0\n",
      "\n",
      "qid: 485\tTop100\thas_answer: 0\n",
      "\n",
      "qid: 487\tTop100\thas_answer: 0\n",
      "\n",
      "qid: 491\tTop100\thas_answer: 0\n",
      "\n",
      "qid: 492\tTop100\thas_answer: 0\n",
      "\n",
      "qid: 506\tTop100\thas_answer: 0\n",
      "\n",
      "qid: 507\tTop100\thas_answer: 0\n",
      "\n",
      "qid: 509\tTop100\thas_answer: 0\n",
      "\n",
      "qid: 514\tTop100\thas_answer: 0\n",
      "\n",
      "qid: 518\tTop100\thas_answer: 0\n",
      "\n",
      "qid: 539\tTop100\thas_answer: 0\n",
      "\n",
      "qid: 559\tTop100\thas_answer: 0\n",
      "\n",
      "qid: 565\tTop100\thas_answer: 0\n",
      "\n",
      "qid: 57\tTop100\thas_answer: 0\n",
      "\n",
      "qid: 578\tTop100\thas_answer: 0\n",
      "\n",
      "qid: 583\tTop100\thas_answer: 0\n",
      "\n",
      "qid: 60\tTop100\thas_answer: 0\n",
      "\n",
      "qid: 601\tTop100\thas_answer: 0\n",
      "\n",
      "qid: 609\tTop100\thas_answer: 0\n",
      "\n",
      "qid: 613\tTop100\thas_answer: 0\n",
      "\n",
      "qid: 633\tTop100\thas_answer: 0\n",
      "\n",
      "qid: 636\tTop100\thas_answer: 0\n",
      "\n",
      "qid: 648\tTop100\thas_answer: 0\n",
      "\n",
      "qid: 654\tTop100\thas_answer: 0\n",
      "\n",
      "qid: 656\tTop100\thas_answer: 0\n",
      "\n",
      "qid: 662\tTop100\thas_answer: 0\n",
      "\n",
      "qid: 663\tTop100\thas_answer: 0\n",
      "\n",
      "qid: 665\tTop100\thas_answer: 0\n",
      "\n",
      "qid: 668\tTop100\thas_answer: 0\n",
      "\n",
      "qid: 669\tTop100\thas_answer: 0\n",
      "\n",
      "qid: 671\tTop100\thas_answer: 0\n",
      "\n",
      "qid: 675\tTop100\thas_answer: 0\n",
      "\n",
      "qid: 681\tTop100\thas_answer: 0\n",
      "\n",
      "qid: 683\tTop100\thas_answer: 0\n",
      "\n",
      "qid: 695\tTop100\thas_answer: 0\n",
      "\n",
      "qid: 708\tTop100\thas_answer: 0\n",
      "\n",
      "qid: 709\tTop100\thas_answer: 0\n",
      "\n",
      "qid: 711\tTop100\thas_answer: 0\n",
      "\n",
      "qid: 72\tTop100\thas_answer: 0\n",
      "\n",
      "qid: 721\tTop100\thas_answer: 0\n",
      "\n",
      "qid: 731\tTop100\thas_answer: 0\n",
      "\n",
      "qid: 752\tTop100\thas_answer: 0\n",
      "\n",
      "qid: 761\tTop100\thas_answer: 0\n",
      "\n",
      "qid: 765\tTop100\thas_answer: 0\n",
      "\n",
      "qid: 766\tTop100\thas_answer: 0\n",
      "\n",
      "qid: 768\tTop100\thas_answer: 0\n",
      "\n",
      "qid: 772\tTop100\thas_answer: 0\n",
      "\n",
      "qid: 773\tTop100\thas_answer: 0\n",
      "\n",
      "qid: 774\tTop100\thas_answer: 0\n",
      "\n",
      "qid: 781\tTop100\thas_answer: 0\n",
      "\n",
      "qid: 785\tTop100\thas_answer: 0\n",
      "\n",
      "qid: 787\tTop100\thas_answer: 0\n",
      "\n",
      "qid: 788\tTop100\thas_answer: 0\n",
      "\n",
      "qid: 789\tTop100\thas_answer: 0\n",
      "\n",
      "qid: 795\tTop100\thas_answer: 0\n",
      "\n",
      "qid: 80\tTop100\thas_answer: 0\n",
      "\n",
      "qid: 810\tTop100\thas_answer: 0\n",
      "\n",
      "qid: 816\tTop100\thas_answer: 0\n",
      "\n",
      "qid: 839\tTop100\thas_answer: 0\n",
      "\n",
      "qid: 850\tTop100\thas_answer: 0\n",
      "\n",
      "qid: 882\tTop100\thas_answer: 0\n",
      "\n",
      "qid: 886\tTop100\thas_answer: 0\n",
      "\n",
      "qid: 900\tTop100\thas_answer: 0\n",
      "\n",
      "qid: 907\tTop100\thas_answer: 0\n",
      "\n",
      "qid: 918\tTop100\thas_answer: 0\n",
      "\n",
      "qid: 919\tTop100\thas_answer: 0\n",
      "\n",
      "qid: 928\tTop100\thas_answer: 0\n",
      "\n",
      "qid: 936\tTop100\thas_answer: 0\n",
      "\n",
      "qid: 94\tTop100\thas_answer: 0\n",
      "\n",
      "qid: 973\tTop100\thas_answer: 0\n",
      "\n",
      "qid: 974\tTop100\thas_answer: 0\n",
      "\n",
      "qid: 981\tTop100\thas_answer: 0\n",
      "\n",
      "qid: 999\tTop100\thas_answer: 0\n",
      "\n",
      "number of hard fails: 132\n",
      "acc upbound: 0.87109375\n",
      "167 0.8369140625 [0.0]\n",
      "165 0.8388671875 [0.05, 0.9]\n",
      "162 0.841796875 [0.1]\n",
      "159 0.8447265625 [0.15]\n",
      "158 0.845703125 [0.2]\n",
      "156 0.84765625 [0.25, 0.3, 0.35, 0.4, 0.85]\n",
      "157 0.8466796875 [0.45, 0.5, 0.55, 0.6, 0.65, 0.7, 0.8]\n",
      "155 0.8486328125 [0.75]\n",
      "170 0.833984375 [0.95]\n",
      "192 0.8125 [1.0]\n"
     ]
    },
    {
     "name": "stderr",
     "output_type": "stream",
     "text": [
      "\n"
     ]
    }
   ],
   "source": [
    "from collections import defaultdict\n",
    "\n",
    "set_list = []\n",
    "\n",
    "alpha_fail_list = defaultdict(list)\n",
    "num_fail_alpha = defaultdict(list)\n",
    "\n",
    "for alpha in tqdm(np.arange(0, 1.05, 0.05)):\n",
    "  alpha = round(alpha, 2)\n",
    "  # alpha = f'{alpha:.2f}'\n",
    "  print(alpha)\n",
    "  filename = f'{io_path}/run.dpr.trivia-test.multi.bf.bm25.{fusion_tag}.alpha-{alpha}.nq-{nq}.k-{k}.res'\n",
    "  s = set()\n",
    "  with open(filename, 'r') as file:\n",
    "    line = file.readline()\n",
    "    while line:\n",
    "      s.add(line)\n",
    "      line = file.readline()\n",
    "  set_list.append(s)\n",
    "  alpha_fail_list[alpha].append(len(s))\n",
    "  num_fail_alpha[len(s)].append(alpha)\n",
    "\n",
    "for i in range(1, len(set_list)):\n",
    "  set_list[i] &= set_list[i - 1]\n",
    "\n",
    "for fail in sorted(set_list[-1]):\n",
    "  print(fail)\n",
    "print(f'number of hard fails: {len(set_list[-1])}')\n",
    "print(f'acc upbound: {(nq - len(set_list[-1])) / nq}')\n",
    "\n",
    "for (num_fail, alpha) in num_fail_alpha.items():\n",
    "  print(num_fail, (nq - num_fail) / nq, alpha)"
   ]
  }
 ],
 "metadata": {
  "kernelspec": {
   "display_name": "pyserini",
   "language": "python",
   "name": "python3"
  },
  "language_info": {
   "codemirror_mode": {
    "name": "ipython",
    "version": 3
   },
   "file_extension": ".py",
   "mimetype": "text/x-python",
   "name": "python",
   "nbconvert_exporter": "python",
   "pygments_lexer": "ipython3",
   "version": "3.10.14"
  }
 },
 "nbformat": 4,
 "nbformat_minor": 2
}
