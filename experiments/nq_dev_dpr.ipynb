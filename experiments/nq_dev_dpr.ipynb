{
 "cells": [
  {
   "cell_type": "code",
   "execution_count": 1,
   "metadata": {},
   "outputs": [],
   "source": [
    "import os\n",
    "os.environ['JAVA_HOME'] = '/dk/jdk/jdk-21.0.3'\n",
    "os.environ['PYSERINI_CACHE'] = '/dk/rag-dataset/'"
   ]
  },
  {
   "cell_type": "code",
   "execution_count": null,
   "metadata": {},
   "outputs": [],
   "source": [
    "cmd0 = 'python -m pyserini.search.faiss \\\n",
    "  --index wikipedia-dpr-100w.dpr-multi \\\n",
    "  --topics dpr-nq-dev \\\n",
    "  --encoded-queries dpr_multi-nq-dev \\\n",
    "  --output runs/run.dpr.nq-dev.multi.bf.trec \\\n",
    "  --batch-size 96 --threads 32'\n",
    "os.system(cmd0)"
   ]
  }
 ],
 "metadata": {
  "kernelspec": {
   "display_name": "rag",
   "language": "python",
   "name": "python3"
  },
  "language_info": {
   "codemirror_mode": {
    "name": "ipython",
    "version": 3
   },
   "file_extension": ".py",
   "mimetype": "text/x-python",
   "name": "python",
   "nbconvert_exporter": "python",
   "pygments_lexer": "ipython3",
   "version": "3.10.14"
  }
 },
 "nbformat": 4,
 "nbformat_minor": 2
}
