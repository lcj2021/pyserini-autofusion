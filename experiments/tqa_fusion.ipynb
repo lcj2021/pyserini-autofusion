{
 "cells": [
  {
   "cell_type": "code",
   "execution_count": 1,
   "metadata": {},
   "outputs": [],
   "source": [
    "import os\n",
    "os.environ['JAVA_HOME'] = '/dk/jdk/jdk-21.0.3'\n",
    "os.environ['PYSERINI_CACHE'] = '/dk/rag-dataset/'\n",
    "io_path = '/dk/lcj_rag/pyserini-autofusion/experiments/runs'\n",
    "\n",
    "depth=1000\n",
    "#  alpha*bf + (1-alpha)*bm25\n",
    "alpha = 0.5\n",
    "nq = 1024\n",
    "k=100\n",
    "\n",
    "bf_trec_path = f'{io_path}/run.dpr.trivia-test.bm25.trec'\n",
    "bm25_trec_path = f'{io_path}/run.dpr.trivia-test.multi.bf.trec'\n",
    "fusion_tag = 'fusion'\n",
    "out_trec_path = f'{io_path}/run.dpr.trivia-test.multi.bf.bm25.{fusion_tag}.alpha-{alpha}.nq-{nq}.k-{k}.trec'\n",
    "out_json_path = f'{io_path}/run.dpr.trivia-test.multi.bf.bm25.{fusion_tag}.alpha-{alpha}.nq-{nq}.k-{k}.json'"
   ]
  },
  {
   "cell_type": "code",
   "execution_count": 2,
   "metadata": {},
   "outputs": [
    {
     "data": {
      "text/plain": [
       "0"
      ]
     },
     "execution_count": 2,
     "metadata": {},
     "output_type": "execute_result"
    }
   ],
   "source": [
    "cmd0 = f'python -m pyserini.autofusion \\\n",
    "        --runs {bf_trec_path} {bm25_trec_path} \\\n",
    "        --runtag {fusion_tag} \\\n",
    "        --method interpolation  \\\n",
    "        --alpha {alpha} \\\n",
    "        --depth {depth}  \\\n",
    "        --nq {nq}  \\\n",
    "        --k {k} \\\n",
    "        --output {out_trec_path}'\n",
    "# print(cmd0)\n",
    "os.system(cmd0)"
   ]
  },
  {
   "cell_type": "code",
   "execution_count": 3,
   "metadata": {},
   "outputs": [
    {
     "name": "stdout",
     "output_type": "stream",
     "text": [
      "checking path: /dk/rag-dataset/indexes/lucene-index.wikipedia-dpr-100w.20210120.d1b9e6...\n"
     ]
    },
    {
     "name": "stderr",
     "output_type": "stream",
     "text": [
      "Apr 26, 2024 2:58:29 PM org.apache.lucene.store.MemorySegmentIndexInputProvider <init>\n",
      "INFO: Using MemorySegmentIndexInput with Java 21; to disable start with -Dorg.apache.lucene.store.MMapDirectory.enableMemorySegments=false\n",
      "100%|██████████| 102400/102400 [02:19<00:00, 735.49it/s]\n"
     ]
    },
    {
     "data": {
      "text/plain": [
       "0"
      ]
     },
     "execution_count": 3,
     "metadata": {},
     "output_type": "execute_result"
    }
   ],
   "source": [
    "cmd1 = f'python -m pyserini.eval.convert_trec_run_to_dpr_retrieval_run \\\n",
    "  --index wikipedia-dpr-100w \\\n",
    "  --topics dpr-trivia-test \\\n",
    "  --input {out_trec_path} \\\n",
    "  --output {out_json_path}'\n",
    "os.system(cmd1)"
   ]
  },
  {
   "cell_type": "code",
   "execution_count": 4,
   "metadata": {},
   "outputs": [
    {
     "name": "stderr",
     "output_type": "stream",
     "text": [
      "100%|██████████| 1024/1024 [00:00<00:00, 27443.18it/s]\n"
     ]
    }
   ],
   "source": [
    "cmd2 = f'python -m pyserini.eval.evaluate_dpr_retrieval \\\n",
    "  --retrieval {out_json_path} \\\n",
    "  --topk 100'\n",
    "filename = f'{io_path}/run.dpr.trivia-test.multi.bf.bm25.{fusion_tag}.alpha-{alpha}.nq-{nq}.k-{k}.res'\n",
    "res = os.system(cmd2 + ' 1>' + filename)\n"
   ]
  },
  {
   "cell_type": "code",
   "execution_count": 28,
   "metadata": {},
   "outputs": [
    {
     "name": "stderr",
     "output_type": "stream",
     "text": [
      "  0%|          | 0/21 [00:00<?, ?it/s]"
     ]
    }
   ],
   "source": [
    "import numpy as np\n",
    "from tqdm import tqdm\n",
    "\n",
    "import os\n",
    "os.environ['JAVA_HOME'] = '/dk/jdk/jdk-21.0.3'\n",
    "os.environ['PYSERINI_CACHE'] = '/dk/rag-dataset/'\n",
    "io_path = '/dk/lcj_rag/pyserini-autofusion/experiments/runs'\n",
    "\n",
    "depth=1000\n",
    "#  alpha*bf + (1-alpha)*bm25\n",
    "alpha = 0.5\n",
    "nq = -1\n",
    "k=100\n",
    "\n",
    "bf_trec_path = f'{io_path}/run.dpr.trivia-test.bm25.trec'\n",
    "bm25_trec_path = f'{io_path}/run.dpr.trivia-test.multi.bf.trec'\n",
    "fusion_tag = 'fusion'\n",
    "\n",
    "for alpha in tqdm(np.arange(0, 1.05, 0.05)):\n",
    "  alpha = round(alpha, 2)\n",
    "  out_trec_path = f'{io_path}/run.dpr.trivia-test.multi.bf.bm25.{fusion_tag}.alpha-{alpha}.nq-{nq}.k-{k}.trec'\n",
    "  out_json_path = f'{io_path}/run.dpr.trivia-test.multi.bf.bm25.{fusion_tag}.alpha-{alpha}.nq-{nq}.k-{k}.json'\n",
    "  cmd0 = f'python -m pyserini.autofusion \\\n",
    "          --runs {bf_trec_path} {bm25_trec_path} \\\n",
    "          --runtag {fusion_tag} \\\n",
    "          --method interpolation  \\\n",
    "          --alpha {alpha} \\\n",
    "          --depth {depth}  \\\n",
    "          --nq {nq}  \\\n",
    "          --k {k} \\\n",
    "          --output {out_trec_path}'\n",
    "  # print(cmd0)\n",
    "  os.system(cmd0)\n",
    "\n",
    "  cmd1 = f'python -m pyserini.eval.convert_trec_run_to_dpr_retrieval_run \\\n",
    "    --index wikipedia-dpr-100w \\\n",
    "    --topics dpr-trivia-test \\\n",
    "    --input {out_trec_path} \\\n",
    "    --output {out_json_path}'\n",
    "  os.system(cmd1)\n",
    "\n",
    "  cmd2 = f'python -m pyserini.eval.evaluate_dpr_retrieval \\\n",
    "    --retrieval {out_json_path} \\\n",
    "    --topk 100'\n",
    "  filename = f'{io_path}/run.dpr.trivia-test.multi.bf.bm25.{fusion_tag}.alpha-{alpha}.nq-{nq}.k-{k}.res'\n",
    "  res = os.system(cmd2 + ' 1>' + filename)\n"
   ]
  },
  {
   "cell_type": "code",
   "execution_count": 26,
   "metadata": {},
   "outputs": [
    {
     "name": "stderr",
     "output_type": "stream",
     "text": [
      "100%|██████████| 21/21 [00:00<00:00, 7523.74it/s]"
     ]
    },
    {
     "name": "stdout",
     "output_type": "stream",
     "text": [
      "0.0\n",
      "0.05\n",
      "0.1\n",
      "0.15\n",
      "0.2\n",
      "0.25\n",
      "0.3\n",
      "0.35\n",
      "0.4\n",
      "0.45\n",
      "0.5\n",
      "0.55\n",
      "0.6\n",
      "0.65\n",
      "0.7\n",
      "0.75\n",
      "0.8\n",
      "0.85\n",
      "0.9\n",
      "0.95\n",
      "1.0\n",
      "qid: 10\tTop100\thas_answer: 0\n",
      "\n",
      "qid: 106\tTop100\thas_answer: 0\n",
      "\n",
      "qid: 112\tTop100\thas_answer: 0\n",
      "\n",
      "qid: 119\tTop100\thas_answer: 0\n",
      "\n",
      "qid: 130\tTop100\thas_answer: 0\n",
      "\n",
      "qid: 149\tTop100\thas_answer: 0\n",
      "\n",
      "qid: 173\tTop100\thas_answer: 0\n",
      "\n",
      "qid: 212\tTop100\thas_answer: 0\n",
      "\n",
      "qid: 221\tTop100\thas_answer: 0\n",
      "\n",
      "qid: 224\tTop100\thas_answer: 0\n",
      "\n",
      "qid: 229\tTop100\thas_answer: 0\n",
      "\n",
      "qid: 233\tTop100\thas_answer: 0\n",
      "\n",
      "qid: 240\tTop100\thas_answer: 0\n",
      "\n",
      "qid: 242\tTop100\thas_answer: 0\n",
      "\n",
      "qid: 245\tTop100\thas_answer: 0\n",
      "\n",
      "qid: 253\tTop100\thas_answer: 0\n",
      "\n",
      "qid: 38\tTop100\thas_answer: 0\n",
      "\n",
      "qid: 44\tTop100\thas_answer: 0\n",
      "\n",
      "qid: 48\tTop100\thas_answer: 0\n",
      "\n",
      "qid: 53\tTop100\thas_answer: 0\n",
      "\n",
      "qid: 7\tTop100\thas_answer: 0\n",
      "\n",
      "qid: 70\tTop100\thas_answer: 0\n",
      "\n",
      "qid: 87\tTop100\thas_answer: 0\n",
      "\n",
      "qid: 9\tTop100\thas_answer: 0\n",
      "\n",
      "number of hard fails: 24\n",
      "acc upbound: 0.90625\n",
      "37 0.85546875 [0.0, 0.95]\n",
      "35 0.86328125 [0.05, 0.9]\n",
      "33 0.87109375 [0.1]\n",
      "31 0.87890625 [0.15]\n",
      "30 0.8828125 [0.2]\n",
      "28 0.890625 [0.25, 0.3, 0.35]\n",
      "29 0.88671875 [0.4, 0.45, 0.5, 0.55, 0.6, 0.65, 0.7, 0.75, 0.8, 0.85]\n",
      "51 0.80078125 [1.0]\n"
     ]
    },
    {
     "name": "stderr",
     "output_type": "stream",
     "text": [
      "\n"
     ]
    }
   ],
   "source": [
    "from collections import defaultdict\n",
    "\n",
    "set_list = []\n",
    "\n",
    "alpha_fail_list = defaultdict(list)\n",
    "num_fail_alpha = defaultdict(list)\n",
    "\n",
    "for alpha in tqdm(np.arange(0, 1.05, 0.05)):\n",
    "  alpha = round(alpha, 2)\n",
    "  # alpha = f'{alpha:.2f}'\n",
    "  print(alpha)\n",
    "  filename = f'{io_path}/run.dpr.trivia-test.multi.bf.bm25.{fusion_tag}.alpha-{alpha}.nq-{nq}.k-{k}.res'\n",
    "  s = set()\n",
    "  with open(filename, 'r') as file:\n",
    "    line = file.readline()\n",
    "    while line:\n",
    "      s.add(line)\n",
    "      line = file.readline()\n",
    "  set_list.append(s)\n",
    "  alpha_fail_list[alpha].append(len(s))\n",
    "  num_fail_alpha[len(s)].append(alpha)\n",
    "\n",
    "for i in range(1, len(set_list)):\n",
    "  set_list[i] &= set_list[i - 1]\n",
    "\n",
    "for fail in sorted(set_list[-1]):\n",
    "  print(fail)\n",
    "print(f'number of hard fails: {len(set_list[-1])}')\n",
    "print(f'acc upbound: {(nq - len(set_list[-1])) / nq}')\n",
    "\n",
    "for (num_fail, alpha) in num_fail_alpha.items():\n",
    "  print(num_fail, (nq - num_fail) / nq, alpha)"
   ]
  }
 ],
 "metadata": {
  "kernelspec": {
   "display_name": "rag",
   "language": "python",
   "name": "python3"
  },
  "language_info": {
   "codemirror_mode": {
    "name": "ipython",
    "version": 3
   },
   "file_extension": ".py",
   "mimetype": "text/x-python",
   "name": "python",
   "nbconvert_exporter": "python",
   "pygments_lexer": "ipython3",
   "version": "3.10.14"
  }
 },
 "nbformat": 4,
 "nbformat_minor": 2
}
