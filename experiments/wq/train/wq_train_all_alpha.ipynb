{
 "cells": [
  {
   "cell_type": "code",
   "execution_count": 1,
   "metadata": {},
   "outputs": [],
   "source": [
    "import numpy as np\n",
    "from tqdm import tqdm\n",
    "import os\n",
    "\n",
    "io_path = '/dk/lcj_rag/pyserini-autofusion/experiments/runs'\n",
    "\n",
    "depth=1000\n",
    "#  alpha*bf + (1-alpha)*bm25\n",
    "alpha = 0.5\n",
    "nq = -1\n",
    "k=100\n",
    "\n",
    "bf_trec_path = f'{io_path}/base_trec/run.dpr.wq-train.bm25.trec'\n",
    "bm25_trec_path = f'{io_path}/base_trec/run.dpr.wq-train.multi.bf.trec'\n",
    "cache_path = '/dk/lcj_rag/pyserini-autofusion/experiments/cache/'\n",
    "fusion_tag = 'fusion'\n"
   ]
  },
  {
   "cell_type": "code",
   "execution_count": 3,
   "metadata": {},
   "outputs": [
    {
     "name": "stderr",
     "output_type": "stream",
     "text": [
      "  0%|          | 0/2 [00:00<?, ?it/s]"
     ]
    },
    {
     "name": "stdout",
     "output_type": "stream",
     "text": [
      "0\n",
      "num_queries: 87599000\n"
     ]
    },
    {
     "name": "stderr",
     "output_type": "stream",
     "text": [
      " 50%|█████     | 1/2 [1:17:02<1:17:02, 4622.10s/it]"
     ]
    },
    {
     "name": "stdout",
     "output_type": "stream",
     "text": [
      "1.0\n",
      "num_queries: 87599000\n"
     ]
    },
    {
     "name": "stderr",
     "output_type": "stream",
     "text": [
      "100%|██████████| 2/2 [2:32:27<00:00, 4573.63s/it]  \n"
     ]
    }
   ],
   "source": [
    "\n",
    "# for alpha in tqdm([0, 0.5, 1.00]):\n",
    "for alpha in tqdm([0, 1.00]):\n",
    "    alpha = round(alpha, 2)\n",
    "    # alpha = f'{alpha:.2f}'\n",
    "    print(alpha)\n",
    "    train_out_trec_path = f'{io_path}/wq_train/run.dpr.wq-train.{fusion_tag}.alpha-{alpha}.nq-{nq}.k-{k}.trec'\n",
    "    train_out_json_path = f'{io_path}/wq_train/run.dpr.wq-train.{fusion_tag}.alpha-{alpha}.nq-{nq}.k-{k}.json'\n",
    "    cmd0 = f'python -m pyserini.autofusion \\\n",
    "            --runs {bf_trec_path} {bm25_trec_path} \\\n",
    "            --runtag {fusion_tag} \\\n",
    "            --method interpolation  \\\n",
    "            --alpha {alpha} \\\n",
    "            --depth {depth}  \\\n",
    "            --nq {nq}  \\\n",
    "            --k {k} \\\n",
    "            --output {train_out_trec_path}'\n",
    "    # print(cmd0)\n",
    "    os.system(cmd0)\n"
   ]
  },
  {
   "cell_type": "code",
   "execution_count": 2,
   "metadata": {},
   "outputs": [
    {
     "name": "stderr",
     "output_type": "stream",
     "text": [
      "  0%|          | 0/1 [00:00<?, ?it/s]"
     ]
    },
    {
     "name": "stdout",
     "output_type": "stream",
     "text": [
      "resultPath: /root/.cache/pyserini/topics-and-qrels/topics.dpr.squad.train.txt\n",
      "checking path: /dk/rag-dataset/indexes/lucene-index.wikipedia-dpr-100w.20210120.d1b9e6...\n"
     ]
    },
    {
     "name": "stderr",
     "output_type": "stream",
     "text": [
      "Jun 29, 2024 6:32:48 AM org.apache.lucene.store.MemorySegmentIndexInputProvider <init>\n",
      "INFO: Using MemorySegmentIndexInput with Java 21; to disable start with -Dorg.apache.lucene.store.MMapDirectory.enableMemorySegments=false\n",
      "100%|██████████| 8759900/8759900 [19:04<00:00, 7657.04it/s]  \n",
      "100%|██████████| 1/1 [21:36<00:00, 1296.83s/it]\n"
     ]
    }
   ],
   "source": [
    "nq = -1\n",
    "# for alpha in tqdm([0]):\n",
    "for alpha in tqdm([0, 1.00]):\n",
    "    # alpha = round(alpha, 2)\n",
    "    alpha = f'{alpha:.1f}'\n",
    "    # alphafile = f'/dk/lcj_rag/pyserini-autofusion/experiments/runs/wq_train/alpha-{alpha}.csv'\n",
    "    train_out_trec_path = f'{io_path}/wq_train/run.dpr.wq-train.{fusion_tag}.alpha-{alpha}.nq-{nq}.k-{k}.trec'\n",
    "    train_out_json_path = f'{io_path}/wq_train/run.dpr.wq-train.{fusion_tag}.alpha-{alpha}.nq-{nq}.k-{k}.json'\n",
    "    # cmd0 = f'python -m pyserini.autofusion \\\n",
    "    #         --runs {bf_trec_path} {bm25_trec_path} \\\n",
    "    #         --runtag {fusion_tag}-custom \\\n",
    "    #         --method custom  \\\n",
    "    #         --alphafile {alphafile} \\\n",
    "    #         --depth {depth}  \\\n",
    "    #         --nq {nq}  \\\n",
    "    #         --k {k} \\\n",
    "    #         --output {train_out_trec_path}'\n",
    "    # # print(cmd0)\n",
    "    # os.system(cmd0)\n",
    "\n",
    "    # cmd1 = f'python -m pyserini.eval.convert_trec_run_to_dpr_retrieval_run \\\n",
    "    #     --index wikipedia-dpr-100w \\\n",
    "    #     --topics dpr-wq-train \\\n",
    "    #     --input {train_out_trec_path} \\\n",
    "    #     --output {train_out_json_path}'\n",
    "    # os.system(cmd1)\n",
    "\n",
    "    cache_path = '/dk/lcj_rag/pyserini-autofusion/experiments/cache/'\n",
    "    cmd1 = f'python -m pyserini.eval.convert_trec_run_to_dpr_retrieval_run_on_cache \\\n",
    "    --index wikipedia-dpr-100w \\\n",
    "    --topics dpr-wq-train \\\n",
    "    --gt {cache_path}wq_train_bf_qid_gt_set.pkl {cache_path}wq_train_bm25_qid_gt_set.pkl \\\n",
    "    --input {train_out_trec_path} \\\n",
    "    --output {train_out_json_path}'\n",
    "    os.system(cmd1)\n",
    "    "
   ]
  },
  {
   "cell_type": "code",
   "execution_count": 3,
   "metadata": {},
   "outputs": [
    {
     "name": "stderr",
     "output_type": "stream",
     "text": [
      "  0%|          | 0/3 [00:00<?, ?it/s]\n",
      "0it [00:00, ?it/s]\u001b[A\n",
      "1786it [00:00, 17850.10it/s]\u001b[A\n",
      "3778it [00:00, 18383.31it/s]\u001b[A\n",
      " 33%|███▎      | 1/3 [00:01<00:02,  1.15s/it]\n",
      "0it [00:00, ?it/s]\u001b[A\n",
      "1763it [00:00, 17628.00it/s]\u001b[A\n",
      "3778it [00:00, 18026.02it/s]\u001b[A\n",
      " 67%|██████▋   | 2/3 [00:02<00:01,  1.18s/it]\n",
      "0it [00:00, ?it/s]\u001b[A\n",
      "1745it [00:00, 17443.61it/s]\u001b[A\n",
      "3778it [00:00, 17966.38it/s]\u001b[A\n",
      "100%|██████████| 3/3 [00:03<00:00,  1.29s/it]\n"
     ]
    },
    {
     "name": "stdout",
     "output_type": "stream",
     "text": [
      "/dk/lcj_rag/pyserini-autofusion/experiments/runs/wq_train/run.dpr.wq-train.fusion.all-alpha.nq--1.k-100.res.test\n"
     ]
    }
   ],
   "source": [
    "filename = f'{io_path}/wq_train/run.dpr.wq-train.{fusion_tag}.all-alpha.nq-{nq}.k-{k}.res.test'\n",
    "train_out_json_path = f'{io_path}/wq_train/run.dpr.wq-train.{fusion_tag}.alpha-?.nq-{nq}.k-{k}.json'\n",
    "\n",
    "cmd2 = f'python -m pyserini.eval.evaluate_dpr_retrieval_all_alpha \\\n",
    "    --retrieval {train_out_json_path} \\\n",
    "    --topk 100  \\\n",
    "    --traindata False'\n",
    "res = os.system(cmd2 + f'1> {filename}')\n",
    "print(filename)"
   ]
  },
  {
   "cell_type": "code",
   "execution_count": null,
   "metadata": {},
   "outputs": [],
   "source": []
  }
 ],
 "metadata": {
  "kernelspec": {
   "display_name": "pyserini",
   "language": "python",
   "name": "python3"
  },
  "language_info": {
   "codemirror_mode": {
    "name": "ipython",
    "version": 3
   },
   "file_extension": ".py",
   "mimetype": "text/x-python",
   "name": "python",
   "nbconvert_exporter": "python",
   "pygments_lexer": "ipython3",
   "version": "3.10.14"
  }
 },
 "nbformat": 4,
 "nbformat_minor": 2
}
