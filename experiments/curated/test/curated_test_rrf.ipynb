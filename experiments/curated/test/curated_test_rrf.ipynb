{
 "cells": [
  {
   "cell_type": "code",
   "execution_count": 1,
   "metadata": {},
   "outputs": [],
   "source": [
    "import os\n",
    "io_path = '/dk/lcj_rag/pyserini-autofusion/experiments/runs/'\n",
    "\n",
    "depth=1000\n",
    "#  alpha*bf + (1-alpha)*bm25\n",
    "nq = -1\n",
    "k=100\n",
    "\n",
    "bf_trec_path = f'{io_path}/base_trec/run.dpr.curated-test.bm25.trec'\n",
    "bm25_trec_path = f'{io_path}/base_trec/run.dpr.curated-test.multi.bf.trec'\n",
    "fusion_tag = 'rrf'\n",
    "out_trec_path = f'{io_path}/curated_test/run.dpr.curated-test.fusion.alpha-{fusion_tag}.nq-{nq}.k-{k}.trec'\n",
    "out_json_path = f'{io_path}/curated_test/run.dpr.curated-test.fusion.alpha-{fusion_tag}.nq-{nq}.k-{k}.json'"
   ]
  },
  {
   "cell_type": "code",
   "execution_count": 6,
   "metadata": {},
   "outputs": [
    {
     "data": {
      "text/plain": [
       "0"
      ]
     },
     "execution_count": 6,
     "metadata": {},
     "output_type": "execute_result"
    }
   ],
   "source": [
    "cmd0 = f'python -m pyserini.autofusion \\\n",
    "        --runs {bf_trec_path} {bm25_trec_path} \\\n",
    "        --runtag {fusion_tag} \\\n",
    "        --method rrf  \\\n",
    "        --depth {depth}  \\\n",
    "        --nq {nq}  \\\n",
    "        --k {k} \\\n",
    "        --output {out_trec_path}'\n",
    "# print(cmd0)\n",
    "os.system(cmd0)"
   ]
  },
  {
   "cell_type": "code",
   "execution_count": 19,
   "metadata": {},
   "outputs": [
    {
     "name": "stdout",
     "output_type": "stream",
     "text": [
      "resultPath: /root/.cache/pyserini/topics-and-qrels/topics.dpr.curated.test.txt\n",
      "checking path: /dk/rag-dataset/indexes/lucene-index.wikipedia-dpr-100w.20210120.d1b9e6...\n"
     ]
    },
    {
     "name": "stderr",
     "output_type": "stream",
     "text": [
      "Jul 01, 2024 2:43:03 PM org.apache.lucene.store.MemorySegmentIndexInputProvider <init>\n",
      "INFO: Using MemorySegmentIndexInput with Java 21; to disable start with -Dorg.apache.lucene.store.MMapDirectory.enableMemorySegments=false\n",
      "100%|██████████| 69400/69400 [00:10<00:00, 6374.03it/s]\n"
     ]
    },
    {
     "data": {
      "text/plain": [
       "0"
      ]
     },
     "execution_count": 19,
     "metadata": {},
     "output_type": "execute_result"
    }
   ],
   "source": [
    "cache_path = '/dk/lcj_rag/pyserini-autofusion/experiments/cache/'\n",
    "cmd1 = f'python -m pyserini.eval.convert_trec_run_to_dpr_retrieval_run_on_cache \\\n",
    "  --index wikipedia-dpr-100w \\\n",
    "  --topics dpr-curated-test \\\n",
    "  --gt {cache_path}curated_test_bm25_qid_gt_set.pkl {cache_path}curated_test_bf_qid_gt_set.pkl \\\n",
    "  --input {out_trec_path} \\\n",
    "  --output {out_json_path}'\n",
    "os.system(cmd1)"
   ]
  },
  {
   "cell_type": "code",
   "execution_count": 20,
   "metadata": {},
   "outputs": [
    {
     "name": "stdout",
     "output_type": "stream",
     "text": [
      "/dk/lcj_rag/pyserini-autofusion/experiments/runs//curated_test/run.dpr.curated-test.fusion.alpha-rrf.nq--1.k-100.json\n",
      "qid: 0\tTop100\thas_answer: 0\n",
      "qid: 9\tTop100\thas_answer: 0\n",
      "qid: 26\tTop100\thas_answer: 0\n",
      "qid: 33\tTop100\thas_answer: 0\n",
      "qid: 46\tTop100\thas_answer: 0\n",
      "qid: 108\tTop100\thas_answer: 0\n",
      "qid: 118\tTop100\thas_answer: 0\n",
      "qid: 122\tTop100\thas_answer: 0\n",
      "qid: 141\tTop100\thas_answer: 0\n",
      "qid: 148\tTop100\thas_answer: 0\n",
      "qid: 158\tTop100\thas_answer: 0\n",
      "qid: 203\tTop100\thas_answer: 0\n",
      "qid: 208\tTop100\thas_answer: 0\n",
      "qid: 213\tTop100\thas_answer: 0\n",
      "qid: 306\tTop100\thas_answer: 0\n",
      "qid: 324\tTop100\thas_answer: 0\n",
      "qid: 329\tTop100\thas_answer: 0\n",
      "qid: 387\tTop100\thas_answer: 0\n",
      "qid: 432\tTop100\thas_answer: 0\n",
      "qid: 438\tTop100\thas_answer: 0\n",
      "qid: 441\tTop100\thas_answer: 0\n",
      "qid: 452\tTop100\thas_answer: 0\n",
      "qid: 453\tTop100\thas_answer: 0\n",
      "qid: 472\tTop100\thas_answer: 0\n",
      "qid: 485\tTop100\thas_answer: 0\n",
      "qid: 493\tTop100\thas_answer: 0\n",
      "qid: 495\tTop100\thas_answer: 0\n",
      "qid: 519\tTop100\thas_answer: 0\n",
      "qid: 531\tTop100\thas_answer: 0\n",
      "qid: 539\tTop100\thas_answer: 0\n",
      "qid: 611\tTop100\thas_answer: 0\n",
      "qid: 632\tTop100\thas_answer: 0\n",
      "qid: 639\tTop100\thas_answer: 0\n",
      "qid: 653\tTop100\thas_answer: 0\n",
      "qid: 658\tTop100\thas_answer: 0\n",
      "qid: 669\tTop100\thas_answer: 0\n",
      "qid: 675\tTop100\thas_answer: 0\n",
      "qid: 679\tTop100\thas_answer: 0\n",
      "qid: 691\tTop100\thas_answer: 0\n",
      "Top100\taccuracy: 0.9438\n"
     ]
    },
    {
     "name": "stderr",
     "output_type": "stream",
     "text": [
      "100%|██████████| 694/694 [00:00<00:00, 20221.52it/s]\n"
     ]
    },
    {
     "data": {
      "text/plain": [
       "0"
      ]
     },
     "execution_count": 20,
     "metadata": {},
     "output_type": "execute_result"
    }
   ],
   "source": [
    "nq = -1\n",
    "out_json_path = f'{io_path}/curated_test/run.dpr.curated-test.fusion.alpha-{fusion_tag}.nq-{nq}.k-{k}.json'\n",
    "print(out_json_path)\n",
    "cmd2 = f'python -m pyserini.eval.evaluate_dpr_retrieval \\\n",
    "  --retrieval {out_json_path} \\\n",
    "  --topk 100'\n",
    "os.system(cmd2)"
   ]
  },
  {
   "cell_type": "code",
   "execution_count": null,
   "metadata": {},
   "outputs": [],
   "source": []
  }
 ],
 "metadata": {
  "kernelspec": {
   "display_name": "rag",
   "language": "python",
   "name": "python3"
  },
  "language_info": {
   "codemirror_mode": {
    "name": "ipython",
    "version": 3
   },
   "file_extension": ".py",
   "mimetype": "text/x-python",
   "name": "python",
   "nbconvert_exporter": "python",
   "pygments_lexer": "ipython3",
   "version": "3.1.-1"
  }
 },
 "nbformat": 4,
 "nbformat_minor": 2
}
