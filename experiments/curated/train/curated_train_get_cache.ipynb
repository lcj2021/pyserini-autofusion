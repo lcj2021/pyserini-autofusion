{
 "cells": [
  {
   "cell_type": "code",
   "execution_count": 2,
   "metadata": {},
   "outputs": [
    {
     "name": "stdout",
     "output_type": "stream",
     "text": [
      "When is Fashion week in NYC? ['16827770', '12216838', '12216843', '16827764', '15649323', '9898856', '9898842', '15649320', '17401950', '17947182', '15068742', '17137843', '17137844', '17559706', '14064402', '14064401', '6667168', '6667172', '17559714']\n",
      "How hot is the sun? ['18217074', '361683']\n",
      "What flavor filling did the original Twinkies have? ['1068096']\n",
      "What is the state song of Kansas? ['2066419']\n",
      "What war is connected with the book \"Charge of the Light Brigade\"? ['12375396', '12375431', '13699075', '7071879', '7987840', '7071876', '7987823', '8085666', '7419334', '7718886']\n",
      "Where was the first atomic bomb detonated? ['13001213', '506924']\n",
      "What continent is Scotland in? ['12539113', '3473605', '9252459', '12539118', '12539140', '18004647', '17088837', '7035283', '12539115', '7042633', '12539136', '12539123', '18004617', '16013478', '7075606', '12539131', '15716125', '15716122', '12539139', '12539119', '12539111', '16013466']\n",
      "What island did the U.S. gain after the Spanish American war? ['7583662', '11139180', '7583660', '11139171', '380361', '380334', '4769265', '380377', '17383313', '380288', '11139190', '7583661', '11139186', '14469872', '380290', '380362', '17375528', '11139172', '380367', '380324', '380320', '14469864', '380295', '17371622', '11139175', '380337']\n",
      "Who painted \"Sunflowers\"? ['3942529', '8617188', '3942525', '3942526', '3942528', '18442788', '8617189', '3942537', '3942532', '18442804', '3942536', '3942534', '3942527', '447106', '15463549', '14850312', '15003906']\n",
      "Who played Frodo in Lord of The Rings? ['13447366', '8214950', '13447367', '5697313', '6195576', '2460999', '11933930']\n"
     ]
    }
   ],
   "source": [
    "import json\n",
    "\n",
    "questions = []\n",
    "docids = []\n",
    "with open('../curated-train.jsonl', 'r') as f:\n",
    "    data = [json.loads(line) for line in f]\n",
    "\n",
    "    for item in data:\n",
    "        questions.append(item['query'])\n",
    "\n",
    "        positive_passages = item['positive_passages']\n",
    "        docid = []\n",
    "        for passage in positive_passages:\n",
    "            docid.append(passage['docid'])\n",
    "        docids.append(docid)\n",
    "\n",
    "for i in range(10):\n",
    "    print(questions[i], docids[i])\n",
    "\n",
    "\n",
    "import pickle\n",
    "def save_dict_to_file(data, file_path):\n",
    "    with open(file_path, 'wb') as file:\n",
    "        pickle.dump(data, file)\n",
    "\n",
    "def load_dict_from_file(file_path):\n",
    "    with open(file_path, 'rb') as file:\n",
    "        data = pickle.load(file)\n",
    "    return data\n",
    "\n",
    "cache_path = '/dk/lcj_rag/pyserini-autofusion/experiments/cache/'+'trec_train_qid_gt_set.pkl'\n",
    "gt_set = {}\n",
    "\n",
    "for i in range(len(questions)):\n",
    "    question = questions[i]\n",
    "    doc_ids = docids[i]\n",
    "    if i not in gt_set:\n",
    "        gt_set[i] = set()\n",
    "    for doc_id in doc_ids:\n",
    "        gt_set[i].add(doc_id)\n",
    "\n",
    "save_dict_to_file(gt_set, cache_path)"
   ]
  },
  {
   "cell_type": "code",
   "execution_count": null,
   "metadata": {},
   "outputs": [],
   "source": [
    "import os\n",
    "cmd1 = 'python -m pyserini.eval.convert_trec_run_to_dpr_retrieval_run_get_cache \\\n",
    "  --index wikipedia-dpr-100w \\\n",
    "  --topics dpr-squad-train \\\n",
    "  --input /dk/lcj_rag/pyserini-autofusion/experiments/runs/base_trec/run.dpr.squad-train.bm25.trec \\\n",
    "  --output /dk/lcj_rag/pyserini-autofusion/experiments/cache/squad_train_bm25_qid_gt_set.pkl'\n",
    "# os.system(cmd1 + ' 1> /dk/lcj_rag/squad_train_bm25_get_cache.log')\n",
    "os.system(cmd1)"
   ]
  },
  {
   "cell_type": "markdown",
   "metadata": {},
   "source": [
    "[NbClientApp] Executing experiments/squad/train/squad_train_bm25_get_cache.ipynb\n",
    "[NbClientApp] Executing notebook with kernel: python3\n",
    "resultPath: /root/.cache/pyserini/topics-and-qrels/topics.dpr.squad.train.txt\n",
    "Jun 27, 2024 9:25:56 AM org.apache.lucene.store.MemorySegmentIndexInputProvider <init>\n",
    "INFO: Using MemorySegmentIndexInput with Java 21; to disable start with -Dorg.apache.lucene.store.MMapDirectory.enableMemorySegments=false\n",
    "checking path: /dk/rag-dataset/indexes/lucene-index.wikipedia-dpr-100w.20210120.d1b9e6...\n",
    "100%|██████████| 87599000/87599000 [01:30<00:00, 962721.72it/s]\n",
    "\n",
    "100%|██████████| 87599000/87599000 [16:23:40<00:00, 1484.21it/s]"
   ]
  }
 ],
 "metadata": {
  "kernelspec": {
   "display_name": "pyserini",
   "language": "python",
   "name": "python3"
  },
  "language_info": {
   "codemirror_mode": {
    "name": "ipython",
    "version": 3
   },
   "file_extension": ".py",
   "mimetype": "text/x-python",
   "name": "python",
   "nbconvert_exporter": "python",
   "pygments_lexer": "ipython3",
   "version": "3.10.14"
  }
 },
 "nbformat": 4,
 "nbformat_minor": 2
}
