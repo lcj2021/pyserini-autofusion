{
 "cells": [
  {
   "cell_type": "code",
   "execution_count": 2,
   "metadata": {},
   "outputs": [],
   "source": [
    "import os"
   ]
  },
  {
   "cell_type": "code",
   "execution_count": null,
   "metadata": {},
   "outputs": [],
   "source": [
    "import os\n",
    "cmd0 = 'python -m pyserini.search.faiss \\\n",
    "  --index wikipedia-dpr-100w.dpr-multi \\\n",
    "  --topics dpr-nq-train \\\n",
    "  --encoded-queries dpr_multi-nq-train \\\n",
    "  --output runs/run.dpr.nq-train.multi.bf.trec \\\n",
    "  --batch-size 100 --threads 20'\n",
    "os.system(cmd0)\n",
    "\n",
    "# cp /dk/lcj_rag/anserini/target/anserini-0.36.1-SNAPSHOT-fatjar.jar /root/miniconda3/envs/pyserini/lib/python3.10/site-packages/pyserini/resources/jars/"
   ]
  }
 ],
 "metadata": {
  "kernelspec": {
   "display_name": "pyserini",
   "language": "python",
   "name": "python3"
  },
  "language_info": {
   "codemirror_mode": {
    "name": "ipython",
    "version": 3
   },
   "file_extension": ".py",
   "mimetype": "text/x-python",
   "name": "python",
   "nbconvert_exporter": "python",
   "pygments_lexer": "ipython3",
   "version": "3.10.14"
  }
 },
 "nbformat": 4,
 "nbformat_minor": 2
}
