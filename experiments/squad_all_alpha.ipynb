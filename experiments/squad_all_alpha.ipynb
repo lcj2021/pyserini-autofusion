{
 "cells": [
  {
   "cell_type": "code",
   "execution_count": 1,
   "metadata": {},
   "outputs": [
    {
     "name": "stderr",
     "output_type": "stream",
     "text": [
      "  0%|          | 0/21 [00:00<?, ?it/s]"
     ]
    },
    {
     "name": "stdout",
     "output_type": "stream",
     "text": [
      "checking path: /dk/rag-dataset/indexes/lucene-index.wikipedia-dpr-100w.20210120.d1b9e6...\n"
     ]
    },
    {
     "name": "stderr",
     "output_type": "stream",
     "text": [
      "Apr 27, 2024 4:12:55 AM org.apache.lucene.store.MemorySegmentIndexInputProvider <init>\n",
      "INFO: Using MemorySegmentIndexInput with Java 21; to disable start with -Dorg.apache.lucene.store.MMapDirectory.enableMemorySegments=false\n",
      "100%|██████████| 102400/102400 [01:24<00:00, 1209.65it/s]\n",
      "100%|██████████| 1024/1024 [00:00<00:00, 28098.68it/s]\n",
      "  5%|▍         | 1/21 [02:36<52:16, 156.81s/it]"
     ]
    },
    {
     "name": "stdout",
     "output_type": "stream",
     "text": [
      "checking path: /dk/rag-dataset/indexes/lucene-index.wikipedia-dpr-100w.20210120.d1b9e6...\n"
     ]
    },
    {
     "name": "stderr",
     "output_type": "stream",
     "text": [
      "Apr 27, 2024 4:15:30 AM org.apache.lucene.store.MemorySegmentIndexInputProvider <init>\n",
      "INFO: Using MemorySegmentIndexInput with Java 21; to disable start with -Dorg.apache.lucene.store.MMapDirectory.enableMemorySegments=false\n",
      "100%|██████████| 102400/102400 [01:18<00:00, 1307.62it/s]\n",
      "100%|██████████| 1024/1024 [00:00<00:00, 28163.17it/s]\n",
      " 10%|▉         | 2/21 [05:05<48:06, 151.89s/it]"
     ]
    },
    {
     "name": "stdout",
     "output_type": "stream",
     "text": [
      "checking path: /dk/rag-dataset/indexes/lucene-index.wikipedia-dpr-100w.20210120.d1b9e6...\n"
     ]
    },
    {
     "name": "stderr",
     "output_type": "stream",
     "text": [
      "Apr 27, 2024 4:17:59 AM org.apache.lucene.store.MemorySegmentIndexInputProvider <init>\n",
      "INFO: Using MemorySegmentIndexInput with Java 21; to disable start with -Dorg.apache.lucene.store.MMapDirectory.enableMemorySegments=false\n",
      "100%|██████████| 102400/102400 [01:17<00:00, 1323.41it/s]\n",
      "100%|██████████| 1024/1024 [00:00<00:00, 28053.35it/s]\n",
      " 14%|█▍        | 3/21 [07:33<44:59, 150.00s/it]"
     ]
    },
    {
     "name": "stdout",
     "output_type": "stream",
     "text": [
      "checking path: /dk/rag-dataset/indexes/lucene-index.wikipedia-dpr-100w.20210120.d1b9e6...\n"
     ]
    },
    {
     "name": "stderr",
     "output_type": "stream",
     "text": [
      "Apr 27, 2024 4:20:26 AM org.apache.lucene.store.MemorySegmentIndexInputProvider <init>\n",
      "INFO: Using MemorySegmentIndexInput with Java 21; to disable start with -Dorg.apache.lucene.store.MMapDirectory.enableMemorySegments=false\n",
      "100%|██████████| 102400/102400 [01:17<00:00, 1327.08it/s]\n",
      "100%|██████████| 1024/1024 [00:00<00:00, 27920.04it/s]\n",
      " 19%|█▉        | 4/21 [10:00<42:11, 148.89s/it]"
     ]
    },
    {
     "name": "stdout",
     "output_type": "stream",
     "text": [
      "checking path: /dk/rag-dataset/indexes/lucene-index.wikipedia-dpr-100w.20210120.d1b9e6...\n"
     ]
    },
    {
     "name": "stderr",
     "output_type": "stream",
     "text": [
      "Apr 27, 2024 4:22:53 AM org.apache.lucene.store.MemorySegmentIndexInputProvider <init>\n",
      "INFO: Using MemorySegmentIndexInput with Java 21; to disable start with -Dorg.apache.lucene.store.MMapDirectory.enableMemorySegments=false\n",
      "100%|██████████| 102400/102400 [01:15<00:00, 1350.05it/s]\n",
      "100%|██████████| 1024/1024 [00:00<00:00, 28169.26it/s]\n",
      " 24%|██▍       | 5/21 [12:26<39:24, 147.78s/it]"
     ]
    },
    {
     "name": "stdout",
     "output_type": "stream",
     "text": [
      "checking path: /dk/rag-dataset/indexes/lucene-index.wikipedia-dpr-100w.20210120.d1b9e6...\n"
     ]
    },
    {
     "name": "stderr",
     "output_type": "stream",
     "text": [
      "Apr 27, 2024 4:25:19 AM org.apache.lucene.store.MemorySegmentIndexInputProvider <init>\n",
      "INFO: Using MemorySegmentIndexInput with Java 21; to disable start with -Dorg.apache.lucene.store.MMapDirectory.enableMemorySegments=false\n",
      "100%|██████████| 102400/102400 [01:15<00:00, 1348.85it/s]\n",
      "100%|██████████| 1024/1024 [00:00<00:00, 27950.93it/s]\n",
      " 29%|██▊       | 6/21 [14:51<36:44, 146.99s/it]"
     ]
    },
    {
     "name": "stdout",
     "output_type": "stream",
     "text": [
      "checking path: /dk/rag-dataset/indexes/lucene-index.wikipedia-dpr-100w.20210120.d1b9e6...\n"
     ]
    },
    {
     "name": "stderr",
     "output_type": "stream",
     "text": [
      "Apr 27, 2024 4:27:44 AM org.apache.lucene.store.MemorySegmentIndexInputProvider <init>\n",
      "INFO: Using MemorySegmentIndexInput with Java 21; to disable start with -Dorg.apache.lucene.store.MMapDirectory.enableMemorySegments=false\n",
      "100%|██████████| 102400/102400 [01:16<00:00, 1347.00it/s]\n",
      "100%|██████████| 1024/1024 [00:00<00:00, 27170.27it/s]\n",
      " 33%|███▎      | 7/21 [17:16<34:10, 146.46s/it]"
     ]
    },
    {
     "name": "stdout",
     "output_type": "stream",
     "text": [
      "checking path: /dk/rag-dataset/indexes/lucene-index.wikipedia-dpr-100w.20210120.d1b9e6...\n"
     ]
    },
    {
     "name": "stderr",
     "output_type": "stream",
     "text": [
      "Apr 27, 2024 4:30:10 AM org.apache.lucene.store.MemorySegmentIndexInputProvider <init>\n",
      "INFO: Using MemorySegmentIndexInput with Java 21; to disable start with -Dorg.apache.lucene.store.MMapDirectory.enableMemorySegments=false\n",
      "100%|██████████| 102400/102400 [01:15<00:00, 1350.06it/s]\n",
      "100%|██████████| 1024/1024 [00:00<00:00, 27816.24it/s]\n",
      " 38%|███▊      | 8/21 [19:42<31:39, 146.09s/it]"
     ]
    },
    {
     "name": "stdout",
     "output_type": "stream",
     "text": [
      "checking path: /dk/rag-dataset/indexes/lucene-index.wikipedia-dpr-100w.20210120.d1b9e6...\n"
     ]
    },
    {
     "name": "stderr",
     "output_type": "stream",
     "text": [
      "Apr 27, 2024 4:32:35 AM org.apache.lucene.store.MemorySegmentIndexInputProvider <init>\n",
      "INFO: Using MemorySegmentIndexInput with Java 21; to disable start with -Dorg.apache.lucene.store.MMapDirectory.enableMemorySegments=false\n",
      "100%|██████████| 102400/102400 [01:17<00:00, 1327.21it/s]\n",
      "100%|██████████| 1024/1024 [00:00<00:00, 28054.08it/s]\n",
      " 43%|████▎     | 9/21 [22:09<29:16, 146.34s/it]"
     ]
    },
    {
     "name": "stdout",
     "output_type": "stream",
     "text": [
      "checking path: /dk/rag-dataset/indexes/lucene-index.wikipedia-dpr-100w.20210120.d1b9e6...\n"
     ]
    },
    {
     "name": "stderr",
     "output_type": "stream",
     "text": [
      "Apr 27, 2024 4:35:03 AM org.apache.lucene.store.MemorySegmentIndexInputProvider <init>\n",
      "INFO: Using MemorySegmentIndexInput with Java 21; to disable start with -Dorg.apache.lucene.store.MMapDirectory.enableMemorySegments=false\n",
      "100%|██████████| 102400/102400 [01:15<00:00, 1348.23it/s]\n",
      "100%|██████████| 1024/1024 [00:00<00:00, 28308.14it/s]\n",
      " 48%|████▊     | 10/21 [24:35<26:51, 146.46s/it]"
     ]
    },
    {
     "name": "stdout",
     "output_type": "stream",
     "text": [
      "checking path: /dk/rag-dataset/indexes/lucene-index.wikipedia-dpr-100w.20210120.d1b9e6...\n"
     ]
    },
    {
     "name": "stderr",
     "output_type": "stream",
     "text": [
      "Apr 27, 2024 4:37:29 AM org.apache.lucene.store.MemorySegmentIndexInputProvider <init>\n",
      "INFO: Using MemorySegmentIndexInput with Java 21; to disable start with -Dorg.apache.lucene.store.MMapDirectory.enableMemorySegments=false\n",
      "100%|██████████| 102400/102400 [01:17<00:00, 1326.69it/s]\n",
      "100%|██████████| 1024/1024 [00:00<00:00, 28142.68it/s]\n",
      " 52%|█████▏    | 11/21 [27:02<24:25, 146.57s/it]"
     ]
    },
    {
     "name": "stdout",
     "output_type": "stream",
     "text": [
      "checking path: /dk/rag-dataset/indexes/lucene-index.wikipedia-dpr-100w.20210120.d1b9e6...\n"
     ]
    },
    {
     "name": "stderr",
     "output_type": "stream",
     "text": [
      "Apr 27, 2024 4:39:56 AM org.apache.lucene.store.MemorySegmentIndexInputProvider <init>\n",
      "INFO: Using MemorySegmentIndexInput with Java 21; to disable start with -Dorg.apache.lucene.store.MMapDirectory.enableMemorySegments=false\n",
      "100%|██████████| 102400/102400 [01:15<00:00, 1353.02it/s]\n",
      "100%|██████████| 1024/1024 [00:00<00:00, 28184.60it/s]\n",
      " 57%|█████▋    | 12/21 [29:28<21:57, 146.40s/it]"
     ]
    },
    {
     "name": "stdout",
     "output_type": "stream",
     "text": [
      "checking path: /dk/rag-dataset/indexes/lucene-index.wikipedia-dpr-100w.20210120.d1b9e6...\n"
     ]
    },
    {
     "name": "stderr",
     "output_type": "stream",
     "text": [
      "Apr 27, 2024 4:42:21 AM org.apache.lucene.store.MemorySegmentIndexInputProvider <init>\n",
      "INFO: Using MemorySegmentIndexInput with Java 21; to disable start with -Dorg.apache.lucene.store.MMapDirectory.enableMemorySegments=false\n",
      "100%|██████████| 102400/102400 [01:15<00:00, 1355.52it/s]\n",
      "100%|██████████| 1024/1024 [00:00<00:00, 27974.78it/s]\n",
      " 62%|██████▏   | 13/21 [31:53<19:26, 145.85s/it]"
     ]
    },
    {
     "name": "stdout",
     "output_type": "stream",
     "text": [
      "checking path: /dk/rag-dataset/indexes/lucene-index.wikipedia-dpr-100w.20210120.d1b9e6...\n"
     ]
    },
    {
     "name": "stderr",
     "output_type": "stream",
     "text": [
      "Apr 27, 2024 4:44:46 AM org.apache.lucene.store.MemorySegmentIndexInputProvider <init>\n",
      "INFO: Using MemorySegmentIndexInput with Java 21; to disable start with -Dorg.apache.lucene.store.MMapDirectory.enableMemorySegments=false\n",
      "100%|██████████| 102400/102400 [01:17<00:00, 1326.38it/s]\n",
      "100%|██████████| 1024/1024 [00:00<00:00, 42987.50it/s]\n",
      " 67%|██████▋   | 14/21 [34:20<17:03, 146.16s/it]"
     ]
    },
    {
     "name": "stdout",
     "output_type": "stream",
     "text": [
      "checking path: /dk/rag-dataset/indexes/lucene-index.wikipedia-dpr-100w.20210120.d1b9e6...\n"
     ]
    },
    {
     "name": "stderr",
     "output_type": "stream",
     "text": [
      "Apr 27, 2024 4:47:15 AM org.apache.lucene.store.MemorySegmentIndexInputProvider <init>\n",
      "INFO: Using MemorySegmentIndexInput with Java 21; to disable start with -Dorg.apache.lucene.store.MMapDirectory.enableMemorySegments=false\n",
      "100%|██████████| 102400/102400 [01:17<00:00, 1321.98it/s]\n",
      "100%|██████████| 1024/1024 [00:00<00:00, 28224.98it/s]\n",
      " 71%|███████▏  | 15/21 [36:49<14:42, 147.01s/it]"
     ]
    },
    {
     "name": "stdout",
     "output_type": "stream",
     "text": [
      "checking path: /dk/rag-dataset/indexes/lucene-index.wikipedia-dpr-100w.20210120.d1b9e6...\n"
     ]
    },
    {
     "name": "stderr",
     "output_type": "stream",
     "text": [
      "Apr 27, 2024 4:49:43 AM org.apache.lucene.store.MemorySegmentIndexInputProvider <init>\n",
      "INFO: Using MemorySegmentIndexInput with Java 21; to disable start with -Dorg.apache.lucene.store.MMapDirectory.enableMemorySegments=false\n",
      "100%|██████████| 102400/102400 [01:17<00:00, 1323.75it/s]\n",
      "100%|██████████| 1024/1024 [00:00<00:00, 28247.44it/s]\n",
      " 76%|███████▌  | 16/21 [39:17<12:16, 147.30s/it]"
     ]
    },
    {
     "name": "stdout",
     "output_type": "stream",
     "text": [
      "checking path: /dk/rag-dataset/indexes/lucene-index.wikipedia-dpr-100w.20210120.d1b9e6...\n"
     ]
    },
    {
     "name": "stderr",
     "output_type": "stream",
     "text": [
      "Apr 27, 2024 4:52:10 AM org.apache.lucene.store.MemorySegmentIndexInputProvider <init>\n",
      "INFO: Using MemorySegmentIndexInput with Java 21; to disable start with -Dorg.apache.lucene.store.MMapDirectory.enableMemorySegments=false\n",
      "100%|██████████| 102400/102400 [01:17<00:00, 1324.54it/s]\n",
      "100%|██████████| 1024/1024 [00:00<00:00, 28352.24it/s]\n",
      " 81%|████████  | 17/21 [41:43<09:48, 147.19s/it]"
     ]
    },
    {
     "name": "stdout",
     "output_type": "stream",
     "text": [
      "checking path: /dk/rag-dataset/indexes/lucene-index.wikipedia-dpr-100w.20210120.d1b9e6...\n"
     ]
    },
    {
     "name": "stderr",
     "output_type": "stream",
     "text": [
      "Apr 27, 2024 4:54:37 AM org.apache.lucene.store.MemorySegmentIndexInputProvider <init>\n",
      "INFO: Using MemorySegmentIndexInput with Java 21; to disable start with -Dorg.apache.lucene.store.MMapDirectory.enableMemorySegments=false\n",
      "100%|██████████| 102400/102400 [01:17<00:00, 1329.39it/s]\n",
      "100%|██████████| 1024/1024 [00:00<00:00, 28150.06it/s]\n",
      " 86%|████████▌ | 18/21 [44:10<07:21, 147.14s/it]"
     ]
    },
    {
     "name": "stdout",
     "output_type": "stream",
     "text": [
      "checking path: /dk/rag-dataset/indexes/lucene-index.wikipedia-dpr-100w.20210120.d1b9e6...\n"
     ]
    },
    {
     "name": "stderr",
     "output_type": "stream",
     "text": [
      "Apr 27, 2024 4:57:04 AM org.apache.lucene.store.MemorySegmentIndexInputProvider <init>\n",
      "INFO: Using MemorySegmentIndexInput with Java 21; to disable start with -Dorg.apache.lucene.store.MMapDirectory.enableMemorySegments=false\n",
      "100%|██████████| 102400/102400 [01:15<00:00, 1352.81it/s]\n",
      "100%|██████████| 1024/1024 [00:00<00:00, 28485.75it/s]\n",
      " 90%|█████████ | 19/21 [46:36<04:53, 146.65s/it]"
     ]
    },
    {
     "name": "stdout",
     "output_type": "stream",
     "text": [
      "checking path: /dk/rag-dataset/indexes/lucene-index.wikipedia-dpr-100w.20210120.d1b9e6...\n"
     ]
    },
    {
     "name": "stderr",
     "output_type": "stream",
     "text": [
      "Apr 27, 2024 4:59:29 AM org.apache.lucene.store.MemorySegmentIndexInputProvider <init>\n",
      "INFO: Using MemorySegmentIndexInput with Java 21; to disable start with -Dorg.apache.lucene.store.MMapDirectory.enableMemorySegments=false\n",
      "100%|██████████| 102400/102400 [01:15<00:00, 1362.01it/s]\n",
      "100%|██████████| 1024/1024 [00:00<00:00, 28321.76it/s]\n",
      " 95%|█████████▌| 20/21 [49:01<02:26, 146.13s/it]"
     ]
    },
    {
     "name": "stdout",
     "output_type": "stream",
     "text": [
      "checking path: /dk/rag-dataset/indexes/lucene-index.wikipedia-dpr-100w.20210120.d1b9e6...\n"
     ]
    },
    {
     "name": "stderr",
     "output_type": "stream",
     "text": [
      "Apr 27, 2024 5:01:57 AM org.apache.lucene.store.MemorySegmentIndexInputProvider <init>\n",
      "INFO: Using MemorySegmentIndexInput with Java 21; to disable start with -Dorg.apache.lucene.store.MMapDirectory.enableMemorySegments=false\n",
      "100%|██████████| 102400/102400 [01:18<00:00, 1306.54it/s]\n",
      "100%|██████████| 1024/1024 [00:00<00:00, 28672.30it/s]\n",
      "100%|██████████| 21/21 [51:31<00:00, 147.23s/it]\n"
     ]
    }
   ],
   "source": [
    "import numpy as np\n",
    "from tqdm import tqdm\n",
    "\n",
    "import os\n",
    "os.environ['JAVA_HOME'] = '/dk/jdk/jdk-21.0.3'\n",
    "os.environ['PYSERINI_CACHE'] = '/dk/rag-dataset/'\n",
    "io_path = '/dk/lcj_rag/pyserini-autofusion/experiments/runs'\n",
    "\n",
    "depth=1000\n",
    "#  alpha*bf + (1-alpha)*bm25\n",
    "alpha = 0.5\n",
    "nq = 1024\n",
    "k=100\n",
    "\n",
    "bf_trec_path = f'{io_path}/run.dpr.squad-test.bm25.trec'\n",
    "bm25_trec_path = f'{io_path}/run.dpr.squad-test.multi.bf.trec'\n",
    "fusion_tag = 'fusion'\n",
    "\n",
    "for alpha in tqdm(np.arange(0, 1.05, 0.05)):\n",
    "  alpha = round(alpha, 2)\n",
    "  out_trec_path = f'{io_path}/run.dpr.squad-test.multi.bf.bm25.{fusion_tag}.alpha-{alpha}.nq-{nq}.k-{k}.trec'\n",
    "  out_json_path = f'{io_path}/run.dpr.squad-test.multi.bf.bm25.{fusion_tag}.alpha-{alpha}.nq-{nq}.k-{k}.json'\n",
    "  cmd0 = f'python -m pyserini.autofusion \\\n",
    "          --runs {bf_trec_path} {bm25_trec_path} \\\n",
    "          --runtag {fusion_tag} \\\n",
    "          --method interpolation  \\\n",
    "          --alpha {alpha} \\\n",
    "          --depth {depth}  \\\n",
    "          --nq {nq}  \\\n",
    "          --k {k} \\\n",
    "          --output {out_trec_path}'\n",
    "  # print(cmd0)\n",
    "  os.system(cmd0)\n",
    "\n",
    "  cmd1 = f'python -m pyserini.eval.convert_trec_run_to_dpr_retrieval_run \\\n",
    "    --index wikipedia-dpr-100w \\\n",
    "    --topics dpr-squad-test \\\n",
    "    --input {out_trec_path} \\\n",
    "    --output {out_json_path}'\n",
    "  os.system(cmd1)\n",
    "\n",
    "  cmd2 = f'python -m pyserini.eval.evaluate_dpr_retrieval \\\n",
    "    --retrieval {out_json_path} \\\n",
    "    --topk 100'\n",
    "  filename = f'{io_path}/run.dpr.squad-test.multi.bf.bm25.{fusion_tag}.alpha-{alpha}.nq-{nq}.k-{k}.res'\n",
    "  res = os.system(cmd2 + ' 1>' + filename)\n"
   ]
  },
  {
   "cell_type": "code",
   "execution_count": 2,
   "metadata": {},
   "outputs": [
    {
     "name": "stderr",
     "output_type": "stream",
     "text": [
      "100%|██████████| 21/21 [00:00<00:00, 4078.36it/s]"
     ]
    },
    {
     "name": "stdout",
     "output_type": "stream",
     "text": [
      "0.0\n",
      "0.05\n",
      "0.1\n",
      "0.15\n",
      "0.2\n",
      "0.25\n",
      "0.3\n",
      "0.35\n",
      "0.4\n",
      "0.45\n",
      "0.5\n",
      "0.55\n",
      "0.6\n",
      "0.65\n",
      "0.7\n",
      "0.75\n",
      "0.8\n",
      "0.85\n",
      "0.9\n",
      "0.95\n",
      "1.0\n",
      "qid: 1013\tTop100\thas_answer: 0\n",
      "\n",
      "qid: 1020\tTop100\thas_answer: 0\n",
      "\n",
      "qid: 107\tTop100\thas_answer: 0\n",
      "\n",
      "qid: 125\tTop100\thas_answer: 0\n",
      "\n",
      "qid: 140\tTop100\thas_answer: 0\n",
      "\n",
      "qid: 22\tTop100\thas_answer: 0\n",
      "\n",
      "qid: 276\tTop100\thas_answer: 0\n",
      "\n",
      "qid: 289\tTop100\thas_answer: 0\n",
      "\n",
      "qid: 295\tTop100\thas_answer: 0\n",
      "\n",
      "qid: 296\tTop100\thas_answer: 0\n",
      "\n",
      "qid: 302\tTop100\thas_answer: 0\n",
      "\n",
      "qid: 317\tTop100\thas_answer: 0\n",
      "\n",
      "qid: 321\tTop100\thas_answer: 0\n",
      "\n",
      "qid: 349\tTop100\thas_answer: 0\n",
      "\n",
      "qid: 397\tTop100\thas_answer: 0\n",
      "\n",
      "qid: 429\tTop100\thas_answer: 0\n",
      "\n",
      "qid: 453\tTop100\thas_answer: 0\n",
      "\n",
      "qid: 454\tTop100\thas_answer: 0\n",
      "\n",
      "qid: 479\tTop100\thas_answer: 0\n",
      "\n",
      "qid: 481\tTop100\thas_answer: 0\n",
      "\n",
      "qid: 496\tTop100\thas_answer: 0\n",
      "\n",
      "qid: 498\tTop100\thas_answer: 0\n",
      "\n",
      "qid: 504\tTop100\thas_answer: 0\n",
      "\n",
      "qid: 505\tTop100\thas_answer: 0\n",
      "\n",
      "qid: 506\tTop100\thas_answer: 0\n",
      "\n",
      "qid: 510\tTop100\thas_answer: 0\n",
      "\n",
      "qid: 516\tTop100\thas_answer: 0\n",
      "\n",
      "qid: 518\tTop100\thas_answer: 0\n",
      "\n",
      "qid: 523\tTop100\thas_answer: 0\n",
      "\n",
      "qid: 527\tTop100\thas_answer: 0\n",
      "\n",
      "qid: 531\tTop100\thas_answer: 0\n",
      "\n",
      "qid: 560\tTop100\thas_answer: 0\n",
      "\n",
      "qid: 597\tTop100\thas_answer: 0\n",
      "\n",
      "qid: 599\tTop100\thas_answer: 0\n",
      "\n",
      "qid: 603\tTop100\thas_answer: 0\n",
      "\n",
      "qid: 604\tTop100\thas_answer: 0\n",
      "\n",
      "qid: 606\tTop100\thas_answer: 0\n",
      "\n",
      "qid: 610\tTop100\thas_answer: 0\n",
      "\n",
      "qid: 615\tTop100\thas_answer: 0\n",
      "\n",
      "qid: 630\tTop100\thas_answer: 0\n",
      "\n",
      "qid: 633\tTop100\thas_answer: 0\n",
      "\n",
      "qid: 669\tTop100\thas_answer: 0\n",
      "\n",
      "qid: 733\tTop100\thas_answer: 0\n",
      "\n",
      "qid: 754\tTop100\thas_answer: 0\n",
      "\n",
      "qid: 757\tTop100\thas_answer: 0\n",
      "\n",
      "qid: 770\tTop100\thas_answer: 0\n",
      "\n",
      "qid: 776\tTop100\thas_answer: 0\n",
      "\n",
      "qid: 789\tTop100\thas_answer: 0\n",
      "\n",
      "qid: 796\tTop100\thas_answer: 0\n",
      "\n",
      "qid: 816\tTop100\thas_answer: 0\n",
      "\n",
      "qid: 817\tTop100\thas_answer: 0\n",
      "\n",
      "qid: 820\tTop100\thas_answer: 0\n",
      "\n",
      "qid: 821\tTop100\thas_answer: 0\n",
      "\n",
      "qid: 835\tTop100\thas_answer: 0\n",
      "\n",
      "qid: 839\tTop100\thas_answer: 0\n",
      "\n",
      "qid: 855\tTop100\thas_answer: 0\n",
      "\n",
      "qid: 856\tTop100\thas_answer: 0\n",
      "\n",
      "qid: 861\tTop100\thas_answer: 0\n",
      "\n",
      "qid: 901\tTop100\thas_answer: 0\n",
      "\n",
      "qid: 908\tTop100\thas_answer: 0\n",
      "\n",
      "qid: 913\tTop100\thas_answer: 0\n",
      "\n",
      "qid: 918\tTop100\thas_answer: 0\n",
      "\n",
      "qid: 920\tTop100\thas_answer: 0\n",
      "\n",
      "qid: 929\tTop100\thas_answer: 0\n",
      "\n",
      "qid: 948\tTop100\thas_answer: 0\n",
      "\n",
      "qid: 949\tTop100\thas_answer: 0\n",
      "\n",
      "qid: 951\tTop100\thas_answer: 0\n",
      "\n",
      "qid: 956\tTop100\thas_answer: 0\n",
      "\n",
      "qid: 960\tTop100\thas_answer: 0\n",
      "\n",
      "qid: 962\tTop100\thas_answer: 0\n",
      "\n",
      "qid: 977\tTop100\thas_answer: 0\n",
      "\n",
      "qid: 990\tTop100\thas_answer: 0\n",
      "\n",
      "number of hard fails: 72\n",
      "acc upbound: 0.9296875\n",
      "236 0.76953125 [0.0]\n",
      "227 0.7783203125 [0.05]\n",
      "216 0.7890625 [0.1]\n",
      "206 0.798828125 [0.15]\n",
      "197 0.8076171875 [0.2]\n",
      "192 0.8125 [0.25]\n",
      "191 0.8134765625 [0.3]\n",
      "189 0.8154296875 [0.35]\n",
      "187 0.8173828125 [0.4, 0.6, 0.65, 0.7]\n",
      "188 0.81640625 [0.45, 0.5, 0.55]\n",
      "183 0.8212890625 [0.75]\n",
      "171 0.8330078125 [0.8]\n",
      "130 0.873046875 [0.85]\n",
      "106 0.896484375 [0.9]\n",
      "105 0.8974609375 [0.95]\n",
      "115 0.8876953125 [1.0]\n"
     ]
    },
    {
     "name": "stderr",
     "output_type": "stream",
     "text": [
      "\n"
     ]
    }
   ],
   "source": [
    "from collections import defaultdict\n",
    "\n",
    "set_list = []\n",
    "\n",
    "alpha_fail_list = defaultdict(list)\n",
    "num_fail_alpha = defaultdict(list)\n",
    "\n",
    "for alpha in tqdm(np.arange(0, 1.05, 0.05)):\n",
    "  alpha = round(alpha, 2)\n",
    "  # alpha = f'{alpha:.2f}'\n",
    "  print(alpha)\n",
    "  filename = f'{io_path}/run.dpr.squad-test.multi.bf.bm25.{fusion_tag}.alpha-{alpha}.nq-{nq}.k-{k}.res'\n",
    "  s = set()\n",
    "  with open(filename, 'r') as file:\n",
    "    line = file.readline()\n",
    "    while line:\n",
    "      s.add(line)\n",
    "      line = file.readline()\n",
    "  set_list.append(s)\n",
    "  alpha_fail_list[alpha].append(len(s))\n",
    "  num_fail_alpha[len(s)].append(alpha)\n",
    "\n",
    "for i in range(1, len(set_list)):\n",
    "  set_list[i] &= set_list[i - 1]\n",
    "\n",
    "for fail in sorted(set_list[-1]):\n",
    "  print(fail)\n",
    "print(f'number of hard fails: {len(set_list[-1])}')\n",
    "print(f'acc upbound: {(nq - len(set_list[-1])) / nq}')\n",
    "\n",
    "for (num_fail, alpha) in num_fail_alpha.items():\n",
    "  print(num_fail, (nq - num_fail) / nq, alpha)"
   ]
  }
 ],
 "metadata": {
  "kernelspec": {
   "display_name": "pyserini",
   "language": "python",
   "name": "python3"
  },
  "language_info": {
   "codemirror_mode": {
    "name": "ipython",
    "version": 3
   },
   "file_extension": ".py",
   "mimetype": "text/x-python",
   "name": "python",
   "nbconvert_exporter": "python",
   "pygments_lexer": "ipython3",
   "version": "3.10.14"
  }
 },
 "nbformat": 4,
 "nbformat_minor": 2
}
