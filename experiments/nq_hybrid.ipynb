{
 "cells": [
  {
   "cell_type": "code",
   "execution_count": 29,
   "metadata": {},
   "outputs": [],
   "source": [
    "import os\n",
    "os.environ['JAVA_HOME'] = '/dk/jdk/jdk-21.0.3'\n",
    "os.environ['PYSERINI_CACHE'] = '/dk/rag-dataset/'\n",
    "io_path = '/dk/lcj_rag/pyserini-autofusion/experiments/runs'\n",
    "\n",
    "alpha = 3.0\n",
    "nq = 12\n",
    "\n",
    "trec_path = f'{io_path}/run.dpr.nq-test.multi.bf.bm25.alpha-{alpha}.nq-{nq}.trec'\n",
    "json_path = f'{io_path}/run.dpr.nq-test.multi.bf.bm25.alpha-{alpha}.nq-{nq}.json'"
   ]
  },
  {
   "cell_type": "code",
   "execution_count": 30,
   "metadata": {},
   "outputs": [
    {
     "name": "stdout",
     "output_type": "stream",
     "text": [
      "Attempting to initialize pre-encoded queries dpr_multi-nq-test.\n",
      "checking path: /dk/rag-dataset/queries/query-embedding-dpr_multi-nq-test-20210419-9323ec.1791f1ed078beb3a00847f75023eb020...\n",
      "/dk/rag-dataset/queries/query-embedding-dpr_multi-nq-test-20210419-9323ec.1791f1ed078beb3a00847f75023eb020 already exists, skipping download.\n",
      "Initializing dpr_multi-nq-test...\n",
      "Attempting to initialize pre-built index wikipedia-dpr-100w.dpr-multi.\n",
      "checking path: /dk/rag-dataset/indexes/faiss.wikipedia-dpr-100w.dpr_multi.20200127.f403c3...\n",
      "/dk/rag-dataset/indexes/faiss.wikipedia-dpr-100w.dpr_multi.20200127.f403c3 already exists, skipping download.\n",
      "Initializing wikipedia-dpr-100w.dpr-multi...\n",
      "checking path: /dk/rag-dataset/indexes/lucene-index.wikipedia-dpr-100w.20210120.d1b9e6...\n"
     ]
    },
    {
     "name": "stderr",
     "output_type": "stream",
     "text": [
      "Apr 26, 2024 7:11:33 AM org.apache.lucene.store.MemorySegmentIndexInputProvider <init>\n",
      "INFO: Using MemorySegmentIndexInput with Java 21; to disable start with -Dorg.apache.lucene.store.MMapDirectory.enableMemorySegments=false\n"
     ]
    },
    {
     "name": "stdout",
     "output_type": "stream",
     "text": [
      "checking path: /dk/rag-dataset/indexes/lucene-index.wikipedia-dpr-100w.20210120.d1b9e6...\n",
      "Running dpr-nq-test topics, saving to /dk/lcj_rag/pyserini-autofusion/experiments/runs/run.dpr.nq-test.multi.bf.bm25.alpha-1.0.nq-12.trec...\n"
     ]
    },
    {
     "name": "stderr",
     "output_type": "stream",
     "text": [
      "100%|██████████| 12/12 [01:37<00:00,  8.14s/it]\n"
     ]
    },
    {
     "data": {
      "text/plain": [
       "0"
      ]
     },
     "execution_count": 30,
     "metadata": {},
     "output_type": "execute_result"
    }
   ],
   "source": [
    "cmd0 = f'python -m pyserini.search.hybrid \\\n",
    "  dense  --index wikipedia-dpr-100w.dpr-multi \\\n",
    "         --encoded-queries dpr_multi-nq-test \\\n",
    "  sparse --index wikipedia-dpr-100w \\\n",
    "  fusion --alpha {alpha} \\\n",
    "  run    --topics dpr-nq-test \\\n",
    "         --output {trec_path} \\\n",
    "         --batch-size 24 --threads 24'\n",
    "# print(cmd0)\n",
    "os.system(cmd0)"
   ]
  },
  {
   "cell_type": "code",
   "execution_count": 31,
   "metadata": {},
   "outputs": [
    {
     "name": "stdout",
     "output_type": "stream",
     "text": [
      "checking path: /dk/rag-dataset/indexes/lucene-index.wikipedia-dpr-100w.20210120.d1b9e6...\n"
     ]
    },
    {
     "name": "stderr",
     "output_type": "stream",
     "text": [
      "Apr 26, 2024 7:13:32 AM org.apache.lucene.store.MemorySegmentIndexInputProvider <init>\n",
      "INFO: Using MemorySegmentIndexInput with Java 21; to disable start with -Dorg.apache.lucene.store.MMapDirectory.enableMemorySegments=false\n",
      "100%|██████████| 12000/12000 [00:47<00:00, 252.45it/s]\n"
     ]
    },
    {
     "data": {
      "text/plain": [
       "0"
      ]
     },
     "execution_count": 31,
     "metadata": {},
     "output_type": "execute_result"
    }
   ],
   "source": [
    "cmd1 = f'python -m pyserini.eval.convert_trec_run_to_dpr_retrieval_run \\\n",
    "  --index wikipedia-dpr-100w \\\n",
    "  --topics dpr-nq-test \\\n",
    "  --input {trec_path} \\\n",
    "  --output {json_path}'\n",
    "os.system(cmd1)"
   ]
  },
  {
   "cell_type": "code",
   "execution_count": 32,
   "metadata": {},
   "outputs": [
    {
     "name": "stdout",
     "output_type": "stream",
     "text": [
      "qid: 0\tTop20\thas_answer: 1\n",
      "qid: 0\tTop100\thas_answer: 1\n",
      "qid: 1\tTop20\thas_answer: 7\n",
      "qid: 1\tTop100\thas_answer: 7\n",
      "qid: 2\tTop20\thas_answer: 0\n",
      "qid: 2\tTop100\thas_answer: 0\n",
      "qid: 3\tTop20\thas_answer: 1\n",
      "qid: 3\tTop100\thas_answer: 1\n",
      "qid: 4\tTop20\thas_answer: 1\n",
      "qid: 4\tTop100\thas_answer: 1\n",
      "qid: 5\tTop20\thas_answer: 2\n",
      "qid: 5\tTop100\thas_answer: 2\n",
      "qid: 6\tTop20\thas_answer: 1\n",
      "qid: 6\tTop100\thas_answer: 1\n",
      "qid: 7\tTop20\thas_answer: 0\n",
      "qid: 7\tTop100\thas_answer: 0\n",
      "qid: 8\tTop20\thas_answer: 16\n",
      "qid: 8\tTop100\thas_answer: 16\n",
      "qid: 9\tTop20\thas_answer: 0\n",
      "qid: 9\tTop100\thas_answer: 0\n",
      "qid: 10\tTop20\thas_answer: 0\n",
      "qid: 10\tTop100\thas_answer: 0\n",
      "qid: 11\tTop20\thas_answer: 3\n",
      "qid: 11\tTop100\thas_answer: 3\n",
      "Top20\taccuracy: 0.0833\n",
      "Top100\taccuracy: 0.6667\n"
     ]
    },
    {
     "name": "stderr",
     "output_type": "stream",
     "text": [
      "100%|██████████| 12/12 [00:00<00:00, 20360.70it/s]\n"
     ]
    },
    {
     "data": {
      "text/plain": [
       "0"
      ]
     },
     "execution_count": 32,
     "metadata": {},
     "output_type": "execute_result"
    }
   ],
   "source": [
    "alpha = 1.0\n",
    "nq = 12\n",
    "\n",
    "trec_path = f'{io_path}/run.dpr.nq-test.multi.bf.bm25.alpha-{alpha}.nq-{nq}.trec'\n",
    "json_path = f'{io_path}/run.dpr.nq-test.multi.bf.bm25.alpha-{alpha}.nq-{nq}.json'\n",
    "\n",
    "cmd2 = f'python -m pyserini.eval.evaluate_dpr_retrieval \\\n",
    "  --retrieval {json_path} \\\n",
    "  --topk 20 100'\n",
    "os.system(cmd2)"
   ]
  }
 ],
 "metadata": {
  "kernelspec": {
   "display_name": "rag",
   "language": "python",
   "name": "python3"
  },
  "language_info": {
   "codemirror_mode": {
    "name": "ipython",
    "version": 3
   },
   "file_extension": ".py",
   "mimetype": "text/x-python",
   "name": "python",
   "nbconvert_exporter": "python",
   "pygments_lexer": "ipython3",
   "version": "3.10.14"
  }
 },
 "nbformat": 4,
 "nbformat_minor": 2
}
