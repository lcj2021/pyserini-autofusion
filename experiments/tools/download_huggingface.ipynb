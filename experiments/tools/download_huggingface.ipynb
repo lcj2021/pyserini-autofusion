{
 "cells": [
  {
   "cell_type": "code",
   "execution_count": 1,
   "metadata": {},
   "outputs": [
    {
     "name": "stderr",
     "output_type": "stream",
     "text": [
      "Consider using `hf_transfer` for faster downloads. This solution comes with some limitations. See https://huggingface.co/docs/huggingface_hub/hf_transfer for more details.\n",
      "Fetching 8 files:   0%|          | 0/8 [00:00<?, ?it/s]downloading https://hf-mirror.com/facebook/dpr-question_encoder-multiset-base/resolve/5325e4ee906435291d63046f535476cb3fc60d43/tokenizer.json to /root/.cache/huggingface/hub/models--facebook--dpr-question_encoder-multiset-base/blobs/949a6f013d67eb8a5b4b5b46026217b888021b88.incomplete\n",
      "downloading https://hf-mirror.com/facebook/dpr-question_encoder-multiset-base/resolve/5325e4ee906435291d63046f535476cb3fc60d43/.gitattributes to /root/.cache/huggingface/hub/models--facebook--dpr-question_encoder-multiset-base/blobs/dc08351d4dc0732d9c8af04070ced089b201ce2f.incomplete\n",
      "downloading https://hf-mirror.com/facebook/dpr-question_encoder-multiset-base/resolve/5325e4ee906435291d63046f535476cb3fc60d43/pytorch_model.bin to /root/.cache/huggingface/hub/models--facebook--dpr-question_encoder-multiset-base/blobs/62f6c3a9b8076b88647c9d75c359c1182bd75d3aab7fc7299dad59690919e06f.incomplete\n",
      "downloading https://hf-mirror.com/facebook/dpr-question_encoder-multiset-base/resolve/5325e4ee906435291d63046f535476cb3fc60d43/vocab.txt to /root/.cache/huggingface/hub/models--facebook--dpr-question_encoder-multiset-base/blobs/fb140275c155a9c7c5a3b3e0e77a9e839594a938.incomplete\n",
      "downloading https://hf-mirror.com/facebook/dpr-question_encoder-multiset-base/resolve/5325e4ee906435291d63046f535476cb3fc60d43/config.json to /root/.cache/huggingface/hub/models--facebook--dpr-question_encoder-multiset-base/blobs/2562470509a722983e845dcef37febb75f980c06.incomplete\n",
      "downloading https://hf-mirror.com/facebook/dpr-question_encoder-multiset-base/resolve/5325e4ee906435291d63046f535476cb3fc60d43/tokenizer_config.json to /root/.cache/huggingface/hub/models--facebook--dpr-question_encoder-multiset-base/blobs/a661b1a138dac6dc5590367402d100765010ffd6.incomplete\n",
      "downloading https://hf-mirror.com/facebook/dpr-question_encoder-multiset-base/resolve/5325e4ee906435291d63046f535476cb3fc60d43/tf_model.h5 to /root/.cache/huggingface/hub/models--facebook--dpr-question_encoder-multiset-base/blobs/4027670983b766413d88f7573782d5c6df04e66022d59203beecf3e2dbd6db23.incomplete\n",
      "downloading https://hf-mirror.com/facebook/dpr-question_encoder-multiset-base/resolve/5325e4ee906435291d63046f535476cb3fc60d43/README.md to /root/.cache/huggingface/hub/models--facebook--dpr-question_encoder-multiset-base/blobs/7aca3188e7caa382a5f04a63106bb98b3a1d8574.incomplete\n",
      "Fetching 8 files:  50%|█████     | 4/8 [03:40<04:35, 68.93s/it]"
     ]
    }
   ],
   "source": [
    "import os\n",
    "\n",
    "os.environ['HF_ENDPOINT'] = 'https://hf-mirror.com'\n",
    "\n",
    "model = 'facebook/dpr-question_encoder-multiset-base'\n",
    "local_dir = '/remote-home/share/lcj_rag/encoder/dpr-question_encoder-multiset-base'\n",
    "os.system(f'huggingface-cli download --resume-download {model} --local-dir {local_dir}')"
   ]
  }
 ],
 "metadata": {
  "kernelspec": {
   "display_name": "pyserini",
   "language": "python",
   "name": "python3"
  },
  "language_info": {
   "codemirror_mode": {
    "name": "ipython",
    "version": 3
   },
   "file_extension": ".py",
   "mimetype": "text/x-python",
   "name": "python",
   "nbconvert_exporter": "python",
   "pygments_lexer": "ipython3",
   "version": "3.10.14"
  }
 },
 "nbformat": 4,
 "nbformat_minor": 2
}
